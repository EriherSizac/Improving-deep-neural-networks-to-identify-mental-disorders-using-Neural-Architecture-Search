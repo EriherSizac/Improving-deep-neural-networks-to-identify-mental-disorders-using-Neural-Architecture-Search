{
 "cells": [
  {
   "cell_type": "code",
   "execution_count": 4,
   "metadata": {},
   "outputs": [
    {
     "name": "stdout",
     "output_type": "stream",
     "text": [
      "Requirement already satisfied: noisereduce in c:\\users\\herna\\anaconda3\\lib\\site-packages (3.0.0)\n",
      "Requirement already satisfied: scipy in c:\\users\\herna\\anaconda3\\lib\\site-packages (from noisereduce) (1.7.1)\n",
      "Requirement already satisfied: matplotlib in c:\\users\\herna\\anaconda3\\lib\\site-packages (from noisereduce) (3.4.3)\n",
      "Requirement already satisfied: librosa in c:\\users\\herna\\anaconda3\\lib\\site-packages (from noisereduce) (0.10.1)\n",
      "Requirement already satisfied: numpy in c:\\users\\herna\\anaconda3\\lib\\site-packages (from noisereduce) (1.20.3)\n",
      "Requirement already satisfied: tqdm in c:\\users\\herna\\anaconda3\\lib\\site-packages (from noisereduce) (4.62.3)\n",
      "Requirement already satisfied: audioread>=2.1.9 in c:\\users\\herna\\anaconda3\\lib\\site-packages (from librosa->noisereduce) (3.0.1)\n",
      "Requirement already satisfied: scikit-learn>=0.20.0 in c:\\users\\herna\\anaconda3\\lib\\site-packages (from librosa->noisereduce) (1.1.1)\n",
      "Requirement already satisfied: joblib>=0.14 in c:\\users\\herna\\anaconda3\\lib\\site-packages (from librosa->noisereduce) (1.1.0)\n",
      "Requirement already satisfied: decorator>=4.3.0 in c:\\users\\herna\\anaconda3\\lib\\site-packages (from librosa->noisereduce) (4.4.2)\n",
      "Requirement already satisfied: numba>=0.51.0 in c:\\users\\herna\\anaconda3\\lib\\site-packages (from librosa->noisereduce) (0.54.1)\n",
      "Requirement already satisfied: soundfile>=0.12.1 in c:\\users\\herna\\anaconda3\\lib\\site-packages (from librosa->noisereduce) (0.12.1)\n",
      "Requirement already satisfied: pooch>=1.0 in c:\\users\\herna\\anaconda3\\lib\\site-packages (from librosa->noisereduce) (1.8.1)\n",
      "Requirement already satisfied: soxr>=0.3.2 in c:\\users\\herna\\anaconda3\\lib\\site-packages (from librosa->noisereduce) (0.3.7)\n",
      "Requirement already satisfied: typing-extensions>=4.1.1 in c:\\users\\herna\\anaconda3\\lib\\site-packages (from librosa->noisereduce) (4.10.0)\n",
      "Requirement already satisfied: lazy-loader>=0.1 in c:\\users\\herna\\anaconda3\\lib\\site-packages (from librosa->noisereduce) (0.3)\n",
      "Requirement already satisfied: msgpack>=1.0 in c:\\users\\herna\\anaconda3\\lib\\site-packages (from librosa->noisereduce) (1.0.2)\n",
      "Requirement already satisfied: cycler>=0.10 in c:\\users\\herna\\anaconda3\\lib\\site-packages (from matplotlib->noisereduce) (0.10.0)\n",
      "Requirement already satisfied: kiwisolver>=1.0.1 in c:\\users\\herna\\anaconda3\\lib\\site-packages (from matplotlib->noisereduce) (1.3.1)\n",
      "Requirement already satisfied: pillow>=6.2.0 in c:\\users\\herna\\anaconda3\\lib\\site-packages (from matplotlib->noisereduce) (9.4.0)\n",
      "Requirement already satisfied: pyparsing>=2.2.1 in c:\\users\\herna\\anaconda3\\lib\\site-packages (from matplotlib->noisereduce) (3.0.4)\n",
      "Requirement already satisfied: python-dateutil>=2.7 in c:\\users\\herna\\anaconda3\\lib\\site-packages (from matplotlib->noisereduce) (2.8.2)\n",
      "Requirement already satisfied: colorama in c:\\users\\herna\\anaconda3\\lib\\site-packages (from tqdm->noisereduce) (0.4.5)\n",
      "Requirement already satisfied: six in c:\\users\\herna\\anaconda3\\lib\\site-packages (from cycler>=0.10->matplotlib->noisereduce) (1.16.0)\n",
      "Requirement already satisfied: llvmlite<0.38,>=0.37.0rc1 in c:\\users\\herna\\anaconda3\\lib\\site-packages (from numba>=0.51.0->librosa->noisereduce) (0.37.0)\n",
      "Requirement already satisfied: setuptools in c:\\users\\herna\\anaconda3\\lib\\site-packages (from numba>=0.51.0->librosa->noisereduce) (69.1.1)\n",
      "Requirement already satisfied: platformdirs>=2.5.0 in c:\\users\\herna\\anaconda3\\lib\\site-packages (from pooch>=1.0->librosa->noisereduce) (4.2.0)\n",
      "Requirement already satisfied: packaging>=20.0 in c:\\users\\herna\\anaconda3\\lib\\site-packages (from pooch>=1.0->librosa->noisereduce) (23.2)\n",
      "Requirement already satisfied: requests>=2.19.0 in c:\\users\\herna\\anaconda3\\lib\\site-packages (from pooch>=1.0->librosa->noisereduce) (2.26.0)\n",
      "Requirement already satisfied: threadpoolctl>=2.0.0 in c:\\users\\herna\\anaconda3\\lib\\site-packages (from scikit-learn>=0.20.0->librosa->noisereduce) (2.2.0)\n",
      "Requirement already satisfied: cffi>=1.0 in c:\\users\\herna\\anaconda3\\lib\\site-packages (from soundfile>=0.12.1->librosa->noisereduce) (1.14.6)\n",
      "Requirement already satisfied: pycparser in c:\\users\\herna\\anaconda3\\lib\\site-packages (from cffi>=1.0->soundfile>=0.12.1->librosa->noisereduce) (2.20)\n",
      "Requirement already satisfied: urllib3<1.27,>=1.21.1 in c:\\users\\herna\\anaconda3\\lib\\site-packages (from requests>=2.19.0->pooch>=1.0->librosa->noisereduce) (1.26.7)\n",
      "Requirement already satisfied: certifi>=2017.4.17 in c:\\users\\herna\\anaconda3\\lib\\site-packages (from requests>=2.19.0->pooch>=1.0->librosa->noisereduce) (2023.7.22)\n",
      "Requirement already satisfied: charset-normalizer~=2.0.0 in c:\\users\\herna\\anaconda3\\lib\\site-packages (from requests>=2.19.0->pooch>=1.0->librosa->noisereduce) (2.0.4)\n",
      "Requirement already satisfied: idna<4,>=2.5 in c:\\users\\herna\\anaconda3\\lib\\site-packages (from requests>=2.19.0->pooch>=1.0->librosa->noisereduce) (3.3)\n"
     ]
    },
    {
     "name": "stderr",
     "output_type": "stream",
     "text": [
      "DEPRECATION: pyodbc 4.0.0-unsupported has a non-standard version number. pip 24.1 will enforce this behaviour change. A possible replacement is to upgrade to a newer version of pyodbc or contact the author to suggest that they release a version with a conforming version number. Discussion can be found at https://github.com/pypa/pip/issues/12063\n"
     ]
    },
    {
     "name": "stdout",
     "output_type": "stream",
     "text": [
      "Requirement already satisfied: scipy in c:\\users\\herna\\anaconda3\\lib\\site-packages (1.7.1)\n",
      "Requirement already satisfied: numpy<1.23.0,>=1.16.5 in c:\\users\\herna\\anaconda3\\lib\\site-packages (from scipy) (1.20.3)\n"
     ]
    },
    {
     "name": "stderr",
     "output_type": "stream",
     "text": [
      "DEPRECATION: pyodbc 4.0.0-unsupported has a non-standard version number. pip 24.1 will enforce this behaviour change. A possible replacement is to upgrade to a newer version of pyodbc or contact the author to suggest that they release a version with a conforming version number. Discussion can be found at https://github.com/pypa/pip/issues/12063\n",
      "ERROR: Could not find a version that satisfies the requirement PIL (from versions: none)\n",
      "ERROR: No matching distribution found for PIL\n"
     ]
    }
   ],
   "source": [
    "!pip install noisereduce\n",
    "!pip install scipy\n",
    "!pip install PIL"
   ]
  },
  {
   "cell_type": "code",
   "execution_count": 1,
   "metadata": {},
   "outputs": [
    {
     "name": "stderr",
     "output_type": "stream",
     "text": [
      "c:\\Users\\herna\\anaconda3\\envs\\Noisereduce\\lib\\site-packages\\tqdm\\auto.py:21: TqdmWarning: IProgress not found. Please update jupyter and ipywidgets. See https://ipywidgets.readthedocs.io/en/stable/user_install.html\n",
      "  from .autonotebook import tqdm as notebook_tqdm\n"
     ]
    }
   ],
   "source": [
    "# Global imports\n",
    "import os\n",
    "import glob\n",
    "from scipy.io import wavfile\n",
    "from scipy import signal\n",
    "import re\n",
    "import noisereduce as nr"
   ]
  },
  {
   "cell_type": "code",
   "execution_count": 2,
   "metadata": {},
   "outputs": [],
   "source": [
    "# Path to the directory containing folders with .wav files\n",
    "root_path = \"d:\\Sistema\\Escritorio\\Escritorio\\Tesis\\DAIC-WOZ\\data\"\n",
    "\n",
    "# Define the root path for saving progress\n",
    "PROGRESS_PATH = os.path.join(os.getcwd(), 'progress.txt')"
   ]
  },
  {
   "cell_type": "code",
   "execution_count": null,
   "metadata": {},
   "outputs": [],
   "source": [
    "\n",
    "# Function to generate spectrogram\n",
    "def gggenerate_spectrogram(data, rate, save_path, resized_spectrogram_save_path):\n",
    "    plt.figure(figsize=(10, 4))\n",
    "    f, t, Sxx = signal.spectrogram(data, fs=rate, nperseg=256, noverlap=128, window='hamming', scaling='density')\n",
    "    plt.pcolormesh(t, f, 10 * np.log10(Sxx + 1e-10), cmap='inferno')  # Adding small value to avoid log(0)\n",
    "    plt.ylim(0, 8000)  # Adjust frequency range if needed\n",
    "    plt.axis('off')  # Turn off axis labels\n",
    "    plt.savefig(save_path, bbox_inches='tight', pad_inches=0, facecolor='black')  # Dark background\n",
    "    plt.close()\n",
    "\n",
    "def generate_spectrogram(data, rate, save_path):\n",
    "    plt.figure(figsize=(10, 4))\n",
    "    f, t, Sxx = signal.spectrogram(data, fs=rate, nperseg=256, noverlap=128, window='hamming', scaling='spectrum')\n",
    "    plt.pcolormesh(t, f, 10 * np.log10(Sxx + 1e-10), cmap='inferno')  # Adding small value to avoid log(0)\n",
    "    plt.ylim(0, 8000)  # Adjust frequency range if needed\n",
    "    plt.axis('off')  # Turn off axis labels\n",
    "    plt.savefig(save_path, bbox_inches='tight', pad_inches=0)  # Save the figure\n",
    "    plt.close()\n",
    "\n",
    "def ggenerate_spectrogram(data, rate, save_path, resized_spectrogram_save_path):\n",
    "    plt.figure(figsize=(10, 4))\n",
    "    chunk_size = 256\n",
    "    overlap = 128\n",
    "    print(data.shape)\n",
    "    \n",
    "    num_chunks = (len(data) - overlap) // (chunk_size - overlap)\n",
    "    max_freq_bins = 0\n",
    "    \n",
    "    # Generate spectrograms for each chunk and determine the maximum number of frequency bins\n",
    "    for i in range(0, len(data) - chunk_size + overlap, chunk_size - overlap):\n",
    "        chunk = data[i:i + chunk_size]\n",
    "        f, t, Sxx = signal.spectrogram(chunk, fs=rate, nperseg=64, noverlap=0, window='hamming', scaling='spectrum', nfft=64)\n",
    "        max_freq_bins = max(max_freq_bins, Sxx.shape[0])\n",
    "    \n",
    "    # Pre-allocate array to hold the merged spectrogram\n",
    "    merged_spectrogram = np.zeros((max_freq_bins, num_chunks * (chunk_size // 2 + 1)))\n",
    "\n",
    "    # Generate spectrograms for each chunk and concatenate them\n",
    "    col_idx = 0\n",
    "    for i in range(0, len(data) - chunk_size + overlap, chunk_size - overlap):\n",
    "        chunk = data[i:i + chunk_size]\n",
    "        f, t, Sxx = signal.spectrogram(chunk, fs=rate, nperseg=64, noverlap=0, window='hamming', scaling='spectrum', nfft=64)\n",
    "        merged_spectrogram[:Sxx.shape[0], col_idx:col_idx + Sxx.shape[1]] = Sxx\n",
    "        col_idx += Sxx.shape[1]\n",
    "\n",
    "    f, t, _ = signal.spectrogram(data[:chunk_size], fs=rate, nperseg=64, noverlap=0, window='hamming', scaling='spectrum', nfft=64)\n",
    "    plt.pcolormesh(t, f, 10 * np.log10(merged_spectrogram + 1e-10), cmap='inferno')  # Adding small value to avoid log(0)\n",
    "    plt.ylim(0, 8000)  # Adjust frequency range if needed\n",
    "    plt.axis('off')  # Turn off axis labels\n",
    "    plt.savefig(save_path, bbox_inches='tight', pad_inches=0, facecolor='black')  # Dark background\n",
    "    plt.close()\n",
    "# Function to resize image\n",
    "def resize_image(image_path, target_size, save_path):\n",
    "    img = Image.open(image_path)\n",
    "    img_resized = img.resize(target_size, resample=Image.Resampling.NEAREST)\n",
    "    img_resized.save(save_path)"
   ]
  },
  {
   "cell_type": "code",
   "execution_count": 3,
   "metadata": {},
   "outputs": [],
   "source": [
    "# Function to save progress\n",
    "def save_progress( wav_file_path):\n",
    "    with open(PROGRESS_PATH, 'w') as file:\n",
    "        file.write(wav_file_path)\n",
    "\n",
    "# Function to load progress\n",
    "def load_progress():\n",
    "    progress_file = PROGRESS_PATH\n",
    "    if os.path.exists(progress_file):\n",
    "        with open(progress_file, 'r') as file:\n",
    "            return file.read().strip()\n",
    "    else:\n",
    "        return None"
   ]
  },
  {
   "cell_type": "code",
   "execution_count": 4,
   "metadata": {},
   "outputs": [],
   "source": [
    "def extract_numbers_from_string(input_string):\n",
    "    # Regular expression to match numbers\n",
    "    pattern = r'\\d+'\n",
    "    # Find all numbers in the input string\n",
    "    numbers = re.findall(pattern, input_string)\n",
    "    return numbers"
   ]
  },
  {
   "cell_type": "code",
   "execution_count": 7,
   "metadata": {},
   "outputs": [],
   "source": [
    "# Generate preprocessed files\n",
    "# Load progress\n",
    "last_wav_file_path = load_progress()\n",
    "def processAudio():\n",
    "  for folder_name in os.listdir(root_path):\n",
    "    folder_path = os.path.join(root_path, folder_name)\n",
    "    if os.path.isdir(folder_path):\n",
    "      if last_wav_file_path!= None and extract_numbers_from_string(folder_path) < extract_numbers_from_string(last_wav_file_path):\n",
    "        continue\n",
    "      for wav_file_path in glob.glob(os.path.join(folder_path, '*.wav')):\n",
    "        # Save progress\n",
    "        save_progress(folder_path)\n",
    "            \n",
    "        print(folder_path)\n",
    "        # load data\n",
    "        rate, data = wavfile.read(wav_file_path)\n",
    "        # perform noise reduction\n",
    "        reduced_noise = nr.reduce_noise(y=data, sr=rate)\n",
    "        # Extract the audio file name without extension\n",
    "        audio_file_name = os.path.splitext(os.path.basename(wav_file_path))[0]\n",
    "        # new file name with folder route\n",
    "        file_name = os.path.join(folder_path, f'preprocessed_{audio_file_name}.wav')\n",
    "        wavfile.write(file_name, rate, reduced_noise)\n",
    "      \n"
   ]
  },
  {
   "cell_type": "code",
   "execution_count": null,
   "metadata": {},
   "outputs": [],
   "source": [
    "processAudio()"
   ]
  }
 ],
 "metadata": {
  "kernelspec": {
   "display_name": "Noisereduce",
   "language": "python",
   "name": "python3"
  },
  "language_info": {
   "codemirror_mode": {
    "name": "ipython",
    "version": 3
   },
   "file_extension": ".py",
   "mimetype": "text/x-python",
   "name": "python",
   "nbconvert_exporter": "python",
   "pygments_lexer": "ipython3",
   "version": "3.9.18"
  }
 },
 "nbformat": 4,
 "nbformat_minor": 2
}
