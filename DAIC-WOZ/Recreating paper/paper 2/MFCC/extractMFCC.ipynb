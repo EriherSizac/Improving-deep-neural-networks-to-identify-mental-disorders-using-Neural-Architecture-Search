{
 "cells": [
  {
   "cell_type": "code",
   "execution_count": 2,
   "metadata": {},
   "outputs": [],
   "source": [
    "import librosa\n",
    "import os\n",
    "import glob\n",
    "from scipy.io import wavfile\n",
    "from scipy import signal\n",
    "import numpy as np\n",
    "import re"
   ]
  },
  {
   "cell_type": "code",
   "execution_count": 3,
   "metadata": {},
   "outputs": [],
   "source": [
    "# Path to the directory containing folders with .wav files\n",
    "root_path = \"d:\\Sistema\\Escritorio\\Escritorio\\Tesis\\DAIC-WOZ\\data\"\n",
    "\n",
    "# Define the root path for saving progress\n",
    "PROGRESS_PATH = os.path.join(os.getcwd(), 'progress.txt')"
   ]
  },
  {
   "cell_type": "code",
   "execution_count": 4,
   "metadata": {},
   "outputs": [],
   "source": [
    "# Function to save progress\n",
    "def save_progress( wav_file_path):\n",
    "    with open(PROGRESS_PATH, 'w') as file:\n",
    "        file.write(wav_file_path)\n",
    "\n",
    "# Function to load progress\n",
    "def load_progress():\n",
    "    progress_file = PROGRESS_PATH\n",
    "    if os.path.exists(progress_file):\n",
    "        with open(progress_file, 'r') as file:\n",
    "            return file.read().strip()\n",
    "    else:\n",
    "        return None"
   ]
  },
  {
   "cell_type": "code",
   "execution_count": 5,
   "metadata": {},
   "outputs": [],
   "source": [
    "def extract_numbers_from_string(input_string):\n",
    "    # Regular expression to match numbers\n",
    "    pattern = r'\\d+'\n",
    "    # Find all numbers in the input string\n",
    "    numbers = re.findall(pattern, input_string)\n",
    "    return numbers"
   ]
  },
  {
   "cell_type": "code",
   "execution_count": 6,
   "metadata": {},
   "outputs": [],
   "source": [
    "def standard_normal_variate(data):\n",
    "    mean = np.mean(data)\n",
    "    std = np.std(data)\n",
    "\n",
    "    return (data - mean) / std\n",
    "\n",
    "\n",
    "def create_mfcc_delta(feature, concat=False):\n",
    "    \"\"\"\n",
    "    Obtains the local differential (first and second order) of the MFCC\n",
    "\n",
    "    Inputs\n",
    "        feature: np.array - The MFCC to be used for the local differentials\n",
    "        concat: bool - If True, the differentials will be concatenated rather\n",
    "                than stacked\n",
    "\n",
    "    Output\n",
    "        mfcc: numpy.array - The Updated MFCC\n",
    "    \"\"\"\n",
    "    mfcc_delta = librosa.feature.delta(feature)\n",
    "    mfcc_delta2 = librosa.feature.delta(feature, order=2)\n",
    "\n",
    "    if concat:\n",
    "        mfcc = np.concatenate((feature, mfcc_delta, mfcc_delta2))\n",
    "    else:\n",
    "        mfcc = np.array((feature, mfcc_delta, mfcc_delta2))\n",
    "\n",
    "    return mfcc\n",
    "\n",
    "\n",
    "def mfcc(audio, sample_rate, freq_bins, window_size, hop_size,\n",
    "         window_func=np.hanning(1024), snv=False):\n",
    "    \"\"\"\n",
    "    Obtains the local differential (first and second order) of the MFCC\n",
    "\n",
    "    Inputs\n",
    "        audio: np.array - The audio data to be converted to MFCC\n",
    "        sample_rate: int - The original sampling rate of the audio\n",
    "        freq_bins: int - The number of mel bins\n",
    "        window_size: int - The length of the window to be passed over the data\n",
    "        hop_size: int - The gap between windows\n",
    "        window: numpy - The type of window function to be used\n",
    "\n",
    "    Output\n",
    "        mfcc: numpy.array - The Updated MFCC\n",
    "    \"\"\"\n",
    "    mfcc = librosa.feature.mfcc(y=audio,\n",
    "                                sr=sample_rate,\n",
    "                                n_mfcc=freq_bins,\n",
    "                                n_fft=window_size,\n",
    "                                hop_length=hop_size,\n",
    "                                window=window_func)\n",
    "\n",
    "    if snv:\n",
    "        mfcc = standard_normal_variate(mfcc)\n",
    "\n",
    "    return mfcc\n"
   ]
  },
  {
   "cell_type": "code",
   "execution_count": 23,
   "metadata": {},
   "outputs": [
    {
     "name": "stdout",
     "output_type": "stream",
     "text": [
      "d:\\Sistema\\Escritorio\\Escritorio\\Tesis\\DAIC-WOZ\\data\\492_P\n",
      "[[ 1.82517275e+02  1.82517275e+02  1.82517275e+02 ...  2.80228330e+02\n",
      "   4.26012697e+02  3.81955847e+02]\n",
      " [ 0.00000000e+00  0.00000000e+00  0.00000000e+00 ...  1.05510359e+00\n",
      "   1.85420701e+02  1.55209736e+02]\n",
      " [ 0.00000000e+00  0.00000000e+00  0.00000000e+00 ...  3.23933443e+00\n",
      "  -3.27901745e+01 -2.95570615e+01]\n",
      " ...\n",
      " [ 0.00000000e+00  0.00000000e+00  0.00000000e+00 ... -1.50300899e+00\n",
      "  -1.67417294e+01 -9.87662127e+00]\n",
      " [ 0.00000000e+00  0.00000000e+00  0.00000000e+00 ... -8.30818698e+00\n",
      "  -3.87680774e+01 -4.10484776e+01]\n",
      " [ 0.00000000e+00  0.00000000e+00  0.00000000e+00 ... -1.57833821e-01\n",
      "  -2.91816907e+01 -1.53026255e+01]]\n"
     ]
    }
   ],
   "source": [
    "# Generate preprocessed files\n",
    "# Load progress\n",
    "last_wav_file_path = load_progress()\n",
    "def processAudio():\n",
    "  for folder_name in os.listdir(root_path):\n",
    "    folder_path = os.path.join(root_path, folder_name)\n",
    "    if os.path.isdir(folder_path):\n",
    "      if last_wav_file_path!= None and extract_numbers_from_string(folder_path) < extract_numbers_from_string(last_wav_file_path):\n",
    "        continue\n",
    "      for wav_file_path in glob.glob(os.path.join(folder_path, 'preprocessed_*.wav')):\n",
    "        # Save progress\n",
    "        save_progress(folder_path)\n",
    "            \n",
    "        print(folder_path)\n",
    "        # load data\n",
    "        rate, data = wavfile.read(wav_file_path)\n",
    "        data = data.astype(np.float64)\n",
    "        # perform noise reduction\n",
    "        mfcc_data = mfcc(data, rate, 8, 512, 512, np.hanning(512))\n",
    "        print(mfcc_data)\n",
    "        # Extract the audio file name without extension\n",
    "        audio_file_name = os.path.splitext(os.path.basename(wav_file_path))[0]\n",
    "        # new file name with folder route\n",
    "        file_name = os.path.join(folder_path, f'preprocessed_{audio_file_name}.wav')\n",
    "      \n",
    "processAudio()"
   ]
  }
 ],
 "metadata": {
  "kernelspec": {
   "display_name": "MFCC",
   "language": "python",
   "name": "python3"
  },
  "language_info": {
   "codemirror_mode": {
    "name": "ipython",
    "version": 3
   },
   "file_extension": ".py",
   "mimetype": "text/x-python",
   "name": "python",
   "nbconvert_exporter": "python",
   "pygments_lexer": "ipython3",
   "version": "3.10.13"
  }
 },
 "nbformat": 4,
 "nbformat_minor": 2
}
