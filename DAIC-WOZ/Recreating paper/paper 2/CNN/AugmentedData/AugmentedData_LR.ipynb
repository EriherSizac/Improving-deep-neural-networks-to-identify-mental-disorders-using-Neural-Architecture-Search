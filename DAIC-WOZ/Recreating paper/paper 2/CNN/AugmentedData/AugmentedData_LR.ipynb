{
 "cells": [
  {
   "cell_type": "code",
   "execution_count": 1,
   "metadata": {},
   "outputs": [
    {
     "name": "stderr",
     "output_type": "stream",
     "text": [
      "c:\\Users\\herna\\anaconda3\\envs\\SpectroCNN\\lib\\site-packages\\tensorflow_addons\\utils\\tfa_eol_msg.py:23: UserWarning: \n",
      "\n",
      "TensorFlow Addons (TFA) has ended development and introduction of new features.\n",
      "TFA has entered a minimal maintenance and release mode until a planned end of life in May 2024.\n",
      "Please modify downstream libraries to take dependencies from other repositories in our TensorFlow community (e.g. Keras, Keras-CV, and Keras-NLP). \n",
      "\n",
      "For more information see: https://github.com/tensorflow/addons/issues/2807 \n",
      "\n",
      "  warnings.warn(\n",
      "c:\\Users\\herna\\anaconda3\\envs\\SpectroCNN\\lib\\site-packages\\tensorflow_addons\\utils\\ensure_tf_install.py:53: UserWarning: Tensorflow Addons supports using Python ops for all Tensorflow versions above or equal to 2.12.0 and strictly below 2.15.0 (nightly versions are not supported). \n",
      " The versions of TensorFlow you are currently using is 2.10.0 and is not supported. \n",
      "Some things might work, some things might not.\n",
      "If you were to encounter a bug, do not file an issue.\n",
      "If you want to make sure you're using a tested and supported configuration, either change the TensorFlow version or the TensorFlow Addons's version. \n",
      "You can find the compatibility matrix in TensorFlow Addon's readme:\n",
      "https://github.com/tensorflow/addons\n",
      "  warnings.warn(\n"
     ]
    }
   ],
   "source": [
    "# Global imports\n",
    "import os\n",
    "import numpy as np\n",
    "import pandas as pd\n",
    "import imageio.v2 as imageio\n",
    "import tensorflow as tf\n",
    "import tensorflow_addons as tfa\n",
    "import seaborn as sns\n",
    "import matplotlib.pyplot as plt\n",
    "import librosa\n",
    "import glob\n",
    "from sklearn.metrics import confusion_matrix, precision_score, recall_score, f1_score\n",
    "from sklearn.model_selection import train_test_split, KFold\n",
    "from tensorflow.keras.callbacks import Callback\n",
    "from sklearn.metrics import confusion_matrix\n",
    "from tensorflow.keras.models import Sequential, Model\n",
    "from tensorflow.keras.layers import BatchNormalization, Conv2D, LeakyReLU, MaxPooling2D, Flatten, Dense\n"
   ]
  },
  {
   "cell_type": "markdown",
   "metadata": {},
   "source": [
    "# Config GPU"
   ]
  },
  {
   "cell_type": "code",
   "execution_count": 2,
   "metadata": {},
   "outputs": [
    {
     "data": {
      "text/plain": [
       "[PhysicalDevice(name='/physical_device:GPU:0', device_type='GPU')]"
      ]
     },
     "execution_count": 2,
     "metadata": {},
     "output_type": "execute_result"
    }
   ],
   "source": [
    "tf.config.list_physical_devices('GPU')"
   ]
  },
  {
   "cell_type": "code",
   "execution_count": 3,
   "metadata": {},
   "outputs": [
    {
     "name": "stdout",
     "output_type": "stream",
     "text": [
      "Num GPUs Available:  1\n"
     ]
    }
   ],
   "source": [
    "print(\"Num GPUs Available: \", len(tf.config.list_physical_devices('GPU')))"
   ]
  },
  {
   "cell_type": "code",
   "execution_count": 4,
   "metadata": {},
   "outputs": [
    {
     "data": {
      "text/plain": [
       "[PhysicalDevice(name='/physical_device:GPU:0', device_type='GPU')]"
      ]
     },
     "execution_count": 4,
     "metadata": {},
     "output_type": "execute_result"
    }
   ],
   "source": [
    "tf.config.list_physical_devices('GPU')"
   ]
  },
  {
   "cell_type": "code",
   "execution_count": 5,
   "metadata": {},
   "outputs": [
    {
     "name": "stdout",
     "output_type": "stream",
     "text": [
      "1 Physical GPUs, 1 Logical GPU\n"
     ]
    }
   ],
   "source": [
    "gpus = tf.config.list_physical_devices('GPU')\n",
    "if gpus:\n",
    "  # Restrict TensorFlow to only use the first GPU\n",
    "  try:\n",
    "    tf.config.set_visible_devices(gpus[0], 'GPU')\n",
    "    logical_gpus = tf.config.list_logical_devices('GPU')\n",
    "    print(len(gpus), \"Physical GPUs,\", len(logical_gpus), \"Logical GPU\")\n",
    "  except RuntimeError as e:\n",
    "    # Visible devices must be set before GPUs have been initialized\n",
    "    print(e)"
   ]
  },
  {
   "cell_type": "code",
   "execution_count": null,
   "metadata": {},
   "outputs": [],
   "source": []
  },
  {
   "cell_type": "markdown",
   "metadata": {},
   "source": [
    "# Importing data"
   ]
  },
  {
   "cell_type": "code",
   "execution_count": 6,
   "metadata": {},
   "outputs": [],
   "source": [
    "# mport train\n",
    "df_train = pd.read_csv('d:/Sistema/Escritorio/Escritorio/Tesis/DAIC-WOZ/train_split_Depression_AVEC2017.csv')\n",
    "df_test = pd.read_csv('d:/Sistema/Escritorio/Escritorio/Tesis/DAIC-WOZ/test_split_Depression_AVEC2017.csv')\n",
    "df_test_full = pd.read_csv('d:/Sistema/Escritorio/Escritorio/Tesis/DAIC-WOZ/full_test_split.csv')\n",
    "df_dev = pd.read_csv('d:/Sistema/Escritorio/Escritorio/Tesis/DAIC-WOZ/dev_split_Depression_AVEC2017.csv')"
   ]
  },
  {
   "cell_type": "markdown",
   "metadata": {},
   "source": [
    "## Standarizing data\n"
   ]
  },
  {
   "cell_type": "code",
   "execution_count": 7,
   "metadata": {},
   "outputs": [
    {
     "data": {
      "text/html": [
       "<div>\n",
       "<style scoped>\n",
       "    .dataframe tbody tr th:only-of-type {\n",
       "        vertical-align: middle;\n",
       "    }\n",
       "\n",
       "    .dataframe tbody tr th {\n",
       "        vertical-align: top;\n",
       "    }\n",
       "\n",
       "    .dataframe thead th {\n",
       "        text-align: right;\n",
       "    }\n",
       "</style>\n",
       "<table border=\"1\" class=\"dataframe\">\n",
       "  <thead>\n",
       "    <tr style=\"text-align: right;\">\n",
       "      <th></th>\n",
       "      <th>Participant_ID</th>\n",
       "      <th>PHQ8_Binary</th>\n",
       "      <th>PHQ8_Score</th>\n",
       "      <th>Gender</th>\n",
       "      <th>PHQ8_NoInterest</th>\n",
       "      <th>PHQ8_Depressed</th>\n",
       "      <th>PHQ8_Sleep</th>\n",
       "      <th>PHQ8_Tired</th>\n",
       "      <th>PHQ8_Appetite</th>\n",
       "      <th>PHQ8_Failure</th>\n",
       "      <th>PHQ8_Concentrating</th>\n",
       "      <th>PHQ8_Moving</th>\n",
       "    </tr>\n",
       "  </thead>\n",
       "  <tbody>\n",
       "    <tr>\n",
       "      <th>0</th>\n",
       "      <td>303</td>\n",
       "      <td>0</td>\n",
       "      <td>0</td>\n",
       "      <td>0</td>\n",
       "      <td>0</td>\n",
       "      <td>0</td>\n",
       "      <td>0.0</td>\n",
       "      <td>0</td>\n",
       "      <td>0</td>\n",
       "      <td>0</td>\n",
       "      <td>0</td>\n",
       "      <td>0</td>\n",
       "    </tr>\n",
       "    <tr>\n",
       "      <th>1</th>\n",
       "      <td>304</td>\n",
       "      <td>0</td>\n",
       "      <td>6</td>\n",
       "      <td>0</td>\n",
       "      <td>0</td>\n",
       "      <td>1</td>\n",
       "      <td>1.0</td>\n",
       "      <td>2</td>\n",
       "      <td>2</td>\n",
       "      <td>0</td>\n",
       "      <td>0</td>\n",
       "      <td>0</td>\n",
       "    </tr>\n",
       "    <tr>\n",
       "      <th>2</th>\n",
       "      <td>305</td>\n",
       "      <td>0</td>\n",
       "      <td>7</td>\n",
       "      <td>1</td>\n",
       "      <td>0</td>\n",
       "      <td>1</td>\n",
       "      <td>1.0</td>\n",
       "      <td>2</td>\n",
       "      <td>2</td>\n",
       "      <td>1</td>\n",
       "      <td>0</td>\n",
       "      <td>0</td>\n",
       "    </tr>\n",
       "    <tr>\n",
       "      <th>3</th>\n",
       "      <td>310</td>\n",
       "      <td>0</td>\n",
       "      <td>4</td>\n",
       "      <td>1</td>\n",
       "      <td>1</td>\n",
       "      <td>1</td>\n",
       "      <td>0.0</td>\n",
       "      <td>0</td>\n",
       "      <td>0</td>\n",
       "      <td>1</td>\n",
       "      <td>1</td>\n",
       "      <td>0</td>\n",
       "    </tr>\n",
       "    <tr>\n",
       "      <th>4</th>\n",
       "      <td>312</td>\n",
       "      <td>0</td>\n",
       "      <td>2</td>\n",
       "      <td>1</td>\n",
       "      <td>0</td>\n",
       "      <td>0</td>\n",
       "      <td>1.0</td>\n",
       "      <td>1</td>\n",
       "      <td>0</td>\n",
       "      <td>0</td>\n",
       "      <td>0</td>\n",
       "      <td>0</td>\n",
       "    </tr>\n",
       "  </tbody>\n",
       "</table>\n",
       "</div>"
      ],
      "text/plain": [
       "   Participant_ID  PHQ8_Binary  PHQ8_Score  Gender  PHQ8_NoInterest  \\\n",
       "0             303            0           0       0                0   \n",
       "1             304            0           6       0                0   \n",
       "2             305            0           7       1                0   \n",
       "3             310            0           4       1                1   \n",
       "4             312            0           2       1                0   \n",
       "\n",
       "   PHQ8_Depressed  PHQ8_Sleep  PHQ8_Tired  PHQ8_Appetite  PHQ8_Failure  \\\n",
       "0               0         0.0           0              0             0   \n",
       "1               1         1.0           2              2             0   \n",
       "2               1         1.0           2              2             1   \n",
       "3               1         0.0           0              0             1   \n",
       "4               0         1.0           1              0             0   \n",
       "\n",
       "   PHQ8_Concentrating  PHQ8_Moving  \n",
       "0                   0            0  \n",
       "1                   0            0  \n",
       "2                   0            0  \n",
       "3                   1            0  \n",
       "4                   0            0  "
      ]
     },
     "execution_count": 7,
     "metadata": {},
     "output_type": "execute_result"
    }
   ],
   "source": [
    "df_train.head()"
   ]
  },
  {
   "cell_type": "code",
   "execution_count": 8,
   "metadata": {},
   "outputs": [
    {
     "data": {
      "text/html": [
       "<div>\n",
       "<style scoped>\n",
       "    .dataframe tbody tr th:only-of-type {\n",
       "        vertical-align: middle;\n",
       "    }\n",
       "\n",
       "    .dataframe tbody tr th {\n",
       "        vertical-align: top;\n",
       "    }\n",
       "\n",
       "    .dataframe thead th {\n",
       "        text-align: right;\n",
       "    }\n",
       "</style>\n",
       "<table border=\"1\" class=\"dataframe\">\n",
       "  <thead>\n",
       "    <tr style=\"text-align: right;\">\n",
       "      <th></th>\n",
       "      <th>Participant_ID</th>\n",
       "      <th>PHQ_Binary</th>\n",
       "      <th>PHQ_Score</th>\n",
       "      <th>Gender</th>\n",
       "    </tr>\n",
       "  </thead>\n",
       "  <tbody>\n",
       "    <tr>\n",
       "      <th>0</th>\n",
       "      <td>300</td>\n",
       "      <td>0</td>\n",
       "      <td>2</td>\n",
       "      <td>1</td>\n",
       "    </tr>\n",
       "    <tr>\n",
       "      <th>1</th>\n",
       "      <td>301</td>\n",
       "      <td>0</td>\n",
       "      <td>3</td>\n",
       "      <td>1</td>\n",
       "    </tr>\n",
       "    <tr>\n",
       "      <th>2</th>\n",
       "      <td>306</td>\n",
       "      <td>0</td>\n",
       "      <td>0</td>\n",
       "      <td>0</td>\n",
       "    </tr>\n",
       "    <tr>\n",
       "      <th>3</th>\n",
       "      <td>308</td>\n",
       "      <td>1</td>\n",
       "      <td>22</td>\n",
       "      <td>0</td>\n",
       "    </tr>\n",
       "    <tr>\n",
       "      <th>4</th>\n",
       "      <td>309</td>\n",
       "      <td>1</td>\n",
       "      <td>15</td>\n",
       "      <td>1</td>\n",
       "    </tr>\n",
       "  </tbody>\n",
       "</table>\n",
       "</div>"
      ],
      "text/plain": [
       "   Participant_ID  PHQ_Binary  PHQ_Score  Gender\n",
       "0             300           0          2       1\n",
       "1             301           0          3       1\n",
       "2             306           0          0       0\n",
       "3             308           1         22       0\n",
       "4             309           1         15       1"
      ]
     },
     "execution_count": 8,
     "metadata": {},
     "output_type": "execute_result"
    }
   ],
   "source": [
    "df_test_full.head()"
   ]
  },
  {
   "cell_type": "code",
   "execution_count": 9,
   "metadata": {},
   "outputs": [],
   "source": [
    "df_test_full['PHQ8_Score'] = df_test_full['PHQ_Score']\n",
    "df_test_full.drop('PHQ_Binary', axis=1, inplace=True)"
   ]
  },
  {
   "cell_type": "code",
   "execution_count": 10,
   "metadata": {},
   "outputs": [
    {
     "data": {
      "text/html": [
       "<div>\n",
       "<style scoped>\n",
       "    .dataframe tbody tr th:only-of-type {\n",
       "        vertical-align: middle;\n",
       "    }\n",
       "\n",
       "    .dataframe tbody tr th {\n",
       "        vertical-align: top;\n",
       "    }\n",
       "\n",
       "    .dataframe thead th {\n",
       "        text-align: right;\n",
       "    }\n",
       "</style>\n",
       "<table border=\"1\" class=\"dataframe\">\n",
       "  <thead>\n",
       "    <tr style=\"text-align: right;\">\n",
       "      <th></th>\n",
       "      <th>Participant_ID</th>\n",
       "      <th>PHQ_Score</th>\n",
       "      <th>Gender</th>\n",
       "      <th>PHQ8_Score</th>\n",
       "    </tr>\n",
       "  </thead>\n",
       "  <tbody>\n",
       "    <tr>\n",
       "      <th>0</th>\n",
       "      <td>300</td>\n",
       "      <td>2</td>\n",
       "      <td>1</td>\n",
       "      <td>2</td>\n",
       "    </tr>\n",
       "  </tbody>\n",
       "</table>\n",
       "</div>"
      ],
      "text/plain": [
       "   Participant_ID  PHQ_Score  Gender  PHQ8_Score\n",
       "0             300          2       1           2"
      ]
     },
     "execution_count": 10,
     "metadata": {},
     "output_type": "execute_result"
    }
   ],
   "source": [
    "df_test_full.head(1)"
   ]
  },
  {
   "cell_type": "code",
   "execution_count": 11,
   "metadata": {},
   "outputs": [
    {
     "data": {
      "text/html": [
       "<div>\n",
       "<style scoped>\n",
       "    .dataframe tbody tr th:only-of-type {\n",
       "        vertical-align: middle;\n",
       "    }\n",
       "\n",
       "    .dataframe tbody tr th {\n",
       "        vertical-align: top;\n",
       "    }\n",
       "\n",
       "    .dataframe thead th {\n",
       "        text-align: right;\n",
       "    }\n",
       "</style>\n",
       "<table border=\"1\" class=\"dataframe\">\n",
       "  <thead>\n",
       "    <tr style=\"text-align: right;\">\n",
       "      <th></th>\n",
       "      <th>Participant_ID</th>\n",
       "      <th>PHQ8_Binary</th>\n",
       "      <th>PHQ8_Score</th>\n",
       "      <th>Gender</th>\n",
       "      <th>PHQ8_NoInterest</th>\n",
       "      <th>PHQ8_Depressed</th>\n",
       "      <th>PHQ8_Sleep</th>\n",
       "      <th>PHQ8_Tired</th>\n",
       "      <th>PHQ8_Appetite</th>\n",
       "      <th>PHQ8_Failure</th>\n",
       "      <th>PHQ8_Concentrating</th>\n",
       "      <th>PHQ8_Moving</th>\n",
       "    </tr>\n",
       "  </thead>\n",
       "  <tbody>\n",
       "    <tr>\n",
       "      <th>0</th>\n",
       "      <td>303</td>\n",
       "      <td>0</td>\n",
       "      <td>0</td>\n",
       "      <td>0</td>\n",
       "      <td>0</td>\n",
       "      <td>0</td>\n",
       "      <td>0.0</td>\n",
       "      <td>0</td>\n",
       "      <td>0</td>\n",
       "      <td>0</td>\n",
       "      <td>0</td>\n",
       "      <td>0</td>\n",
       "    </tr>\n",
       "  </tbody>\n",
       "</table>\n",
       "</div>"
      ],
      "text/plain": [
       "   Participant_ID  PHQ8_Binary  PHQ8_Score  Gender  PHQ8_NoInterest  \\\n",
       "0             303            0           0       0                0   \n",
       "\n",
       "   PHQ8_Depressed  PHQ8_Sleep  PHQ8_Tired  PHQ8_Appetite  PHQ8_Failure  \\\n",
       "0               0         0.0           0              0             0   \n",
       "\n",
       "   PHQ8_Concentrating  PHQ8_Moving  \n",
       "0                   0            0  "
      ]
     },
     "execution_count": 11,
     "metadata": {},
     "output_type": "execute_result"
    }
   ],
   "source": [
    "df_train.head(1)"
   ]
  },
  {
   "cell_type": "code",
   "execution_count": 12,
   "metadata": {},
   "outputs": [
    {
     "data": {
      "text/html": [
       "<div>\n",
       "<style scoped>\n",
       "    .dataframe tbody tr th:only-of-type {\n",
       "        vertical-align: middle;\n",
       "    }\n",
       "\n",
       "    .dataframe tbody tr th {\n",
       "        vertical-align: top;\n",
       "    }\n",
       "\n",
       "    .dataframe thead th {\n",
       "        text-align: right;\n",
       "    }\n",
       "</style>\n",
       "<table border=\"1\" class=\"dataframe\">\n",
       "  <thead>\n",
       "    <tr style=\"text-align: right;\">\n",
       "      <th></th>\n",
       "      <th>Participant_ID</th>\n",
       "      <th>PHQ8_Binary</th>\n",
       "      <th>PHQ8_Score</th>\n",
       "      <th>Gender</th>\n",
       "      <th>PHQ8_NoInterest</th>\n",
       "      <th>PHQ8_Depressed</th>\n",
       "      <th>PHQ8_Sleep</th>\n",
       "      <th>PHQ8_Tired</th>\n",
       "      <th>PHQ8_Appetite</th>\n",
       "      <th>PHQ8_Failure</th>\n",
       "      <th>PHQ8_Concentrating</th>\n",
       "      <th>PHQ8_Moving</th>\n",
       "    </tr>\n",
       "  </thead>\n",
       "  <tbody>\n",
       "    <tr>\n",
       "      <th>0</th>\n",
       "      <td>302</td>\n",
       "      <td>0</td>\n",
       "      <td>4</td>\n",
       "      <td>1</td>\n",
       "      <td>1</td>\n",
       "      <td>1</td>\n",
       "      <td>0</td>\n",
       "      <td>1</td>\n",
       "      <td>0</td>\n",
       "      <td>1</td>\n",
       "      <td>0</td>\n",
       "      <td>0</td>\n",
       "    </tr>\n",
       "  </tbody>\n",
       "</table>\n",
       "</div>"
      ],
      "text/plain": [
       "   Participant_ID  PHQ8_Binary  PHQ8_Score  Gender  PHQ8_NoInterest  \\\n",
       "0             302            0           4       1                1   \n",
       "\n",
       "   PHQ8_Depressed  PHQ8_Sleep  PHQ8_Tired  PHQ8_Appetite  PHQ8_Failure  \\\n",
       "0               1           0           1              0             1   \n",
       "\n",
       "   PHQ8_Concentrating  PHQ8_Moving  \n",
       "0                   0            0  "
      ]
     },
     "execution_count": 12,
     "metadata": {},
     "output_type": "execute_result"
    }
   ],
   "source": [
    "df_dev.head(1)"
   ]
  },
  {
   "cell_type": "code",
   "execution_count": 13,
   "metadata": {},
   "outputs": [],
   "source": [
    "df_complete = pd.concat([df_test_full, df_dev, df_train], axis=0)"
   ]
  },
  {
   "cell_type": "code",
   "execution_count": 14,
   "metadata": {},
   "outputs": [
    {
     "data": {
      "text/html": [
       "<div>\n",
       "<style scoped>\n",
       "    .dataframe tbody tr th:only-of-type {\n",
       "        vertical-align: middle;\n",
       "    }\n",
       "\n",
       "    .dataframe tbody tr th {\n",
       "        vertical-align: top;\n",
       "    }\n",
       "\n",
       "    .dataframe thead th {\n",
       "        text-align: right;\n",
       "    }\n",
       "</style>\n",
       "<table border=\"1\" class=\"dataframe\">\n",
       "  <thead>\n",
       "    <tr style=\"text-align: right;\">\n",
       "      <th></th>\n",
       "      <th>Participant_ID</th>\n",
       "      <th>PHQ_Score</th>\n",
       "      <th>Gender</th>\n",
       "      <th>PHQ8_Score</th>\n",
       "      <th>PHQ8_Binary</th>\n",
       "      <th>PHQ8_NoInterest</th>\n",
       "      <th>PHQ8_Depressed</th>\n",
       "      <th>PHQ8_Sleep</th>\n",
       "      <th>PHQ8_Tired</th>\n",
       "      <th>PHQ8_Appetite</th>\n",
       "      <th>PHQ8_Failure</th>\n",
       "      <th>PHQ8_Concentrating</th>\n",
       "      <th>PHQ8_Moving</th>\n",
       "    </tr>\n",
       "  </thead>\n",
       "  <tbody>\n",
       "    <tr>\n",
       "      <th>0</th>\n",
       "      <td>300</td>\n",
       "      <td>2.0</td>\n",
       "      <td>1</td>\n",
       "      <td>2</td>\n",
       "      <td>NaN</td>\n",
       "      <td>NaN</td>\n",
       "      <td>NaN</td>\n",
       "      <td>NaN</td>\n",
       "      <td>NaN</td>\n",
       "      <td>NaN</td>\n",
       "      <td>NaN</td>\n",
       "      <td>NaN</td>\n",
       "      <td>NaN</td>\n",
       "    </tr>\n",
       "    <tr>\n",
       "      <th>1</th>\n",
       "      <td>301</td>\n",
       "      <td>3.0</td>\n",
       "      <td>1</td>\n",
       "      <td>3</td>\n",
       "      <td>NaN</td>\n",
       "      <td>NaN</td>\n",
       "      <td>NaN</td>\n",
       "      <td>NaN</td>\n",
       "      <td>NaN</td>\n",
       "      <td>NaN</td>\n",
       "      <td>NaN</td>\n",
       "      <td>NaN</td>\n",
       "      <td>NaN</td>\n",
       "    </tr>\n",
       "    <tr>\n",
       "      <th>2</th>\n",
       "      <td>306</td>\n",
       "      <td>0.0</td>\n",
       "      <td>0</td>\n",
       "      <td>0</td>\n",
       "      <td>NaN</td>\n",
       "      <td>NaN</td>\n",
       "      <td>NaN</td>\n",
       "      <td>NaN</td>\n",
       "      <td>NaN</td>\n",
       "      <td>NaN</td>\n",
       "      <td>NaN</td>\n",
       "      <td>NaN</td>\n",
       "      <td>NaN</td>\n",
       "    </tr>\n",
       "    <tr>\n",
       "      <th>3</th>\n",
       "      <td>308</td>\n",
       "      <td>22.0</td>\n",
       "      <td>0</td>\n",
       "      <td>22</td>\n",
       "      <td>NaN</td>\n",
       "      <td>NaN</td>\n",
       "      <td>NaN</td>\n",
       "      <td>NaN</td>\n",
       "      <td>NaN</td>\n",
       "      <td>NaN</td>\n",
       "      <td>NaN</td>\n",
       "      <td>NaN</td>\n",
       "      <td>NaN</td>\n",
       "    </tr>\n",
       "    <tr>\n",
       "      <th>4</th>\n",
       "      <td>309</td>\n",
       "      <td>15.0</td>\n",
       "      <td>1</td>\n",
       "      <td>15</td>\n",
       "      <td>NaN</td>\n",
       "      <td>NaN</td>\n",
       "      <td>NaN</td>\n",
       "      <td>NaN</td>\n",
       "      <td>NaN</td>\n",
       "      <td>NaN</td>\n",
       "      <td>NaN</td>\n",
       "      <td>NaN</td>\n",
       "      <td>NaN</td>\n",
       "    </tr>\n",
       "  </tbody>\n",
       "</table>\n",
       "</div>"
      ],
      "text/plain": [
       "   Participant_ID  PHQ_Score  Gender  PHQ8_Score  PHQ8_Binary  \\\n",
       "0             300        2.0       1           2          NaN   \n",
       "1             301        3.0       1           3          NaN   \n",
       "2             306        0.0       0           0          NaN   \n",
       "3             308       22.0       0          22          NaN   \n",
       "4             309       15.0       1          15          NaN   \n",
       "\n",
       "   PHQ8_NoInterest  PHQ8_Depressed  PHQ8_Sleep  PHQ8_Tired  PHQ8_Appetite  \\\n",
       "0              NaN             NaN         NaN         NaN            NaN   \n",
       "1              NaN             NaN         NaN         NaN            NaN   \n",
       "2              NaN             NaN         NaN         NaN            NaN   \n",
       "3              NaN             NaN         NaN         NaN            NaN   \n",
       "4              NaN             NaN         NaN         NaN            NaN   \n",
       "\n",
       "   PHQ8_Failure  PHQ8_Concentrating  PHQ8_Moving  \n",
       "0           NaN                 NaN          NaN  \n",
       "1           NaN                 NaN          NaN  \n",
       "2           NaN                 NaN          NaN  \n",
       "3           NaN                 NaN          NaN  \n",
       "4           NaN                 NaN          NaN  "
      ]
     },
     "execution_count": 14,
     "metadata": {},
     "output_type": "execute_result"
    }
   ],
   "source": [
    "df_complete.head()"
   ]
  },
  {
   "cell_type": "code",
   "execution_count": 15,
   "metadata": {},
   "outputs": [
    {
     "name": "stdout",
     "output_type": "stream",
     "text": [
      "df_train: 107 rows\n",
      "df_test_full: 47 rows\n",
      "df_dev: 35 rows\n",
      "Total: 189 rows \n",
      "\n",
      "df_complete: 189 rows\n",
      "df_test: 141 rows (DISCARD)\n",
      "\n"
     ]
    }
   ],
   "source": [
    "print(f'df_train: {df_train.shape[0]} rows\\n'\n",
    "      f'df_test_full: {df_test_full.shape[0]} rows\\n'\n",
    "      f'df_dev: {df_dev.shape[0]} rows\\n'\n",
    "      f'Total: {df_train.shape[0] + df_test_full.shape[0] + df_dev.shape[0]} rows \\n\\n'\n",
    "      \n",
    "      f'df_complete: {df_complete.shape[0]} rows\\n'\n",
    "      f'df_test: {df_test.shape[0] + df_test.shape[0] + df_test.shape[0]} rows (DISCARD)\\n')\n",
    "      \n"
   ]
  },
  {
   "cell_type": "markdown",
   "metadata": {},
   "source": [
    "## Visualizing distribution"
   ]
  },
  {
   "cell_type": "code",
   "execution_count": 16,
   "metadata": {},
   "outputs": [
    {
     "data": {
      "image/png": "[encoded data removed]",
      "text/plain": [
       "<Figure size 1000x600 with 1 Axes>"
      ]
     },
     "metadata": {},
     "output_type": "display_data"
    }
   ],
   "source": [
    "import matplotlib.pyplot as plt\n",
    "import numpy as np\n",
    "\n",
    "def plot_phq8_distribution_shared_cases(df_list, titles, labels):\n",
    "    true_counts = []\n",
    "    false_counts = []\n",
    "\n",
    "    for df in df_list:\n",
    "        true_count = df[df['PHQ8_Score'] == 1].shape[0]\n",
    "        false_count = df[df['PHQ8_Score'] == 0].shape[0]\n",
    "        true_counts.append(true_count)\n",
    "        false_counts.append(false_count)\n",
    "    \n",
    "    x = np.arange(len(df_list))  # the label locations\n",
    "    width = 0.35  # the width of the bars\n",
    "\n",
    "    fig, ax = plt.subplots(figsize=(10, 6))\n",
    "    rects1 = ax.bar(x - width/2, true_counts, width, label=labels[0], color='blue')\n",
    "    rects2 = ax.bar(x + width/2, false_counts, width, label=labels[1], color='red')\n",
    "\n",
    "    ax.set_ylabel('Count')\n",
    "    ax.set_title('Distribution of PHQ8_Score')\n",
    "    ax.set_xticks(x)\n",
    "    ax.set_xticklabels(titles)\n",
    "    ax.legend()\n",
    "\n",
    "    def autolabel(rects):\n",
    "        \"\"\"Attach a text label above each bar in *rects*, displaying its height.\"\"\"\n",
    "        for rect in rects:\n",
    "            height = rect.get_height()\n",
    "            ax.annotate('{}'.format(height),\n",
    "                        xy=(rect.get_x() + rect.get_width() / 2, height),\n",
    "                        xytext=(0, 3),  # 3 points vertical offset\n",
    "                        textcoords=\"offset points\",\n",
    "                        ha='center', va='bottom')\n",
    "\n",
    "    autolabel(rects1)\n",
    "    autolabel(rects2)\n",
    "\n",
    "    fig.tight_layout()\n",
    "\n",
    "    plt.show()\n",
    "\n",
    "# Example usage:\n",
    "plot_phq8_distribution_shared_cases([df_test_full, df_dev, df_train, df_complete], ['df_test_full', 'df_dev', 'df_train', 'df_complete'], ['Depressed', 'Non-depressed'])\n"
   ]
  },
  {
   "cell_type": "code",
   "execution_count": 17,
   "metadata": {},
   "outputs": [
    {
     "data": {
      "image/png": "[encoded data removed]",
      "text/plain": [
       "<Figure size 1500x500 with 4 Axes>"
      ]
     },
     "metadata": {},
     "output_type": "display_data"
    }
   ],
   "source": [
    "def plot_phq8_distribution_shared(df_list, titles, labels):\n",
    "    fig, axs = plt.subplots(1, len(df_list), figsize=(15, 5), sharey=True)\n",
    "    fig.suptitle('Distribution of PHQ8_Score')\n",
    "\n",
    "    for i, (df, title) in enumerate(zip(df_list, titles)):\n",
    "        axs[i].hist(df['PHQ8_Score'].dropna(), bins=np.arange(-0.5, 23.5, 1), alpha=0.75, color='blue', edgecolor='black')\n",
    "        axs[i].set_title(title)\n",
    "        axs[i].set_xlabel('PHQ8_Score')\n",
    "        axs[i].set_ylabel('Count' if i == 0 else '')\n",
    "\n",
    "    plt.tight_layout(rect=[0, 0.03, 1, 0.95])\n",
    "    plt.show()\n",
    "    \n",
    "plot_phq8_distribution_shared([df_test_full, df_dev, df_train, df_complete], ['df_test_full', 'df_dev', 'df_train', 'df_complete'], ['Depressed', 'Non-depressed'])"
   ]
  },
  {
   "cell_type": "code",
   "execution_count": 18,
   "metadata": {},
   "outputs": [],
   "source": [
    "def plot_phq8_distribution_by_gender(df, title):\n",
    "    genders = df['Gender'].unique()\n",
    "    fig, ax = plt.subplots(figsize=(10, 6))\n",
    "    for gender in genders:\n",
    "        subset = df[df['Gender'] == gender]\n",
    "        ax.hist(subset['PHQ8_Score'].dropna(), bins=np.arange(-0.5, 23.5, 1), alpha=0.5, label=f'Gender {gender}', edgecolor='black')\n",
    "    \n",
    "    ax.set_title(title)\n",
    "    ax.set_xlabel('PHQ8_Score')\n",
    "    ax.set_ylabel('Count')\n",
    "    ax.legend(title='Gender')\n",
    "    plt.show()\n",
    "    \n"
   ]
  },
  {
   "cell_type": "markdown",
   "metadata": {},
   "source": [
    "# Balancing datasets (complete)"
   ]
  },
  {
   "cell_type": "code",
   "execution_count": 19,
   "metadata": {},
   "outputs": [],
   "source": [
    "def balance_data(df, target_column, test_size=0.2, random_state=None):\n",
    "    \"\"\"\n",
    "    Balance the data by creating a train-test split with equal representation of each class.\n",
    "    \n",
    "    Args:\n",
    "    - df (DataFrame): The original DataFrame.\n",
    "    - target_column (str): The name of the target column.\n",
    "    - test_size (float): The proportion of the data to include in the test split.\n",
    "    - random_state (int or None): Random seed for reproducibility.\n",
    "    \n",
    "    Returns:\n",
    "    - train_df (DataFrame): The balanced training DataFrame.\n",
    "    - test_df (DataFrame): The balanced testing DataFrame.\n",
    "    \"\"\"\n",
    "    # Separate data into positive and negative classes\n",
    "    positive_data = df[df[target_column] == 1]\n",
    "    negative_data = df[df[target_column] == 0]\n",
    "    \n",
    "    # Determine the number of samples in each class for train and test sets\n",
    "    train_size = int(min(len(positive_data), len(negative_data)) * (1 - test_size))\n",
    "    test_positive_samples = int(len(positive_data) * test_size)\n",
    "    test_negative_samples = int(len(negative_data) * test_size)\n",
    "    \n",
    "    # Randomly sample from each class for test set\n",
    "    test_positive = positive_data.sample(n=test_positive_samples, random_state=random_state)\n",
    "    test_negative = negative_data.sample(n=test_negative_samples, random_state=random_state)\n",
    "    \n",
    "    # Sample from the larger class with replacement to match the size of the smaller class\n",
    "    if len(positive_data) > len(negative_data):\n",
    "        train_positive = positive_data.sample(n=train_size, replace=True, random_state=random_state)\n",
    "        train_negative = negative_data.sample(n=train_size, random_state=random_state)\n",
    "    else:\n",
    "        train_positive = positive_data.sample(n=train_size, random_state=random_state)\n",
    "        train_negative = negative_data.sample(n=train_size, replace=True, random_state=random_state)\n",
    "    \n",
    "    # Concatenate positive and negative samples for train and test sets\n",
    "    train_df = pd.concat([train_positive, train_negative], ignore_index=True)\n",
    "    test_df = pd.concat([test_positive, test_negative], ignore_index=True)\n",
    "    \n",
    "\n",
    "    \n",
    "    return train_df, test_df\n"
   ]
  },
  {
   "cell_type": "code",
   "execution_count": 20,
   "metadata": {},
   "outputs": [
    {
     "data": {
      "text/html": [
       "<div>\n",
       "<style scoped>\n",
       "    .dataframe tbody tr th:only-of-type {\n",
       "        vertical-align: middle;\n",
       "    }\n",
       "\n",
       "    .dataframe tbody tr th {\n",
       "        vertical-align: top;\n",
       "    }\n",
       "\n",
       "    .dataframe thead th {\n",
       "        text-align: right;\n",
       "    }\n",
       "</style>\n",
       "<table border=\"1\" class=\"dataframe\">\n",
       "  <thead>\n",
       "    <tr style=\"text-align: right;\">\n",
       "      <th></th>\n",
       "      <th>Participant_ID</th>\n",
       "      <th>PHQ_Score</th>\n",
       "      <th>Gender</th>\n",
       "      <th>PHQ8_Score</th>\n",
       "      <th>PHQ8_Binary</th>\n",
       "      <th>PHQ8_NoInterest</th>\n",
       "      <th>PHQ8_Depressed</th>\n",
       "      <th>PHQ8_Sleep</th>\n",
       "      <th>PHQ8_Tired</th>\n",
       "      <th>PHQ8_Appetite</th>\n",
       "      <th>PHQ8_Failure</th>\n",
       "      <th>PHQ8_Concentrating</th>\n",
       "      <th>PHQ8_Moving</th>\n",
       "    </tr>\n",
       "  </thead>\n",
       "  <tbody>\n",
       "    <tr>\n",
       "      <th>0</th>\n",
       "      <td>300</td>\n",
       "      <td>2.0</td>\n",
       "      <td>1</td>\n",
       "      <td>2</td>\n",
       "      <td>NaN</td>\n",
       "      <td>NaN</td>\n",
       "      <td>NaN</td>\n",
       "      <td>NaN</td>\n",
       "      <td>NaN</td>\n",
       "      <td>NaN</td>\n",
       "      <td>NaN</td>\n",
       "      <td>NaN</td>\n",
       "      <td>NaN</td>\n",
       "    </tr>\n",
       "    <tr>\n",
       "      <th>1</th>\n",
       "      <td>301</td>\n",
       "      <td>3.0</td>\n",
       "      <td>1</td>\n",
       "      <td>3</td>\n",
       "      <td>NaN</td>\n",
       "      <td>NaN</td>\n",
       "      <td>NaN</td>\n",
       "      <td>NaN</td>\n",
       "      <td>NaN</td>\n",
       "      <td>NaN</td>\n",
       "      <td>NaN</td>\n",
       "      <td>NaN</td>\n",
       "      <td>NaN</td>\n",
       "    </tr>\n",
       "    <tr>\n",
       "      <th>2</th>\n",
       "      <td>306</td>\n",
       "      <td>0.0</td>\n",
       "      <td>0</td>\n",
       "      <td>0</td>\n",
       "      <td>NaN</td>\n",
       "      <td>NaN</td>\n",
       "      <td>NaN</td>\n",
       "      <td>NaN</td>\n",
       "      <td>NaN</td>\n",
       "      <td>NaN</td>\n",
       "      <td>NaN</td>\n",
       "      <td>NaN</td>\n",
       "      <td>NaN</td>\n",
       "    </tr>\n",
       "    <tr>\n",
       "      <th>3</th>\n",
       "      <td>308</td>\n",
       "      <td>22.0</td>\n",
       "      <td>0</td>\n",
       "      <td>22</td>\n",
       "      <td>NaN</td>\n",
       "      <td>NaN</td>\n",
       "      <td>NaN</td>\n",
       "      <td>NaN</td>\n",
       "      <td>NaN</td>\n",
       "      <td>NaN</td>\n",
       "      <td>NaN</td>\n",
       "      <td>NaN</td>\n",
       "      <td>NaN</td>\n",
       "    </tr>\n",
       "    <tr>\n",
       "      <th>4</th>\n",
       "      <td>309</td>\n",
       "      <td>15.0</td>\n",
       "      <td>1</td>\n",
       "      <td>15</td>\n",
       "      <td>NaN</td>\n",
       "      <td>NaN</td>\n",
       "      <td>NaN</td>\n",
       "      <td>NaN</td>\n",
       "      <td>NaN</td>\n",
       "      <td>NaN</td>\n",
       "      <td>NaN</td>\n",
       "      <td>NaN</td>\n",
       "      <td>NaN</td>\n",
       "    </tr>\n",
       "    <tr>\n",
       "      <th>...</th>\n",
       "      <td>...</td>\n",
       "      <td>...</td>\n",
       "      <td>...</td>\n",
       "      <td>...</td>\n",
       "      <td>...</td>\n",
       "      <td>...</td>\n",
       "      <td>...</td>\n",
       "      <td>...</td>\n",
       "      <td>...</td>\n",
       "      <td>...</td>\n",
       "      <td>...</td>\n",
       "      <td>...</td>\n",
       "      <td>...</td>\n",
       "    </tr>\n",
       "    <tr>\n",
       "      <th>102</th>\n",
       "      <td>485</td>\n",
       "      <td>NaN</td>\n",
       "      <td>1</td>\n",
       "      <td>2</td>\n",
       "      <td>0.0</td>\n",
       "      <td>0.0</td>\n",
       "      <td>1.0</td>\n",
       "      <td>0.0</td>\n",
       "      <td>0.0</td>\n",
       "      <td>0.0</td>\n",
       "      <td>0.0</td>\n",
       "      <td>0.0</td>\n",
       "      <td>1.0</td>\n",
       "    </tr>\n",
       "    <tr>\n",
       "      <th>103</th>\n",
       "      <td>486</td>\n",
       "      <td>NaN</td>\n",
       "      <td>0</td>\n",
       "      <td>4</td>\n",
       "      <td>0.0</td>\n",
       "      <td>1.0</td>\n",
       "      <td>1.0</td>\n",
       "      <td>0.0</td>\n",
       "      <td>1.0</td>\n",
       "      <td>0.0</td>\n",
       "      <td>1.0</td>\n",
       "      <td>0.0</td>\n",
       "      <td>0.0</td>\n",
       "    </tr>\n",
       "    <tr>\n",
       "      <th>104</th>\n",
       "      <td>487</td>\n",
       "      <td>NaN</td>\n",
       "      <td>0</td>\n",
       "      <td>0</td>\n",
       "      <td>0.0</td>\n",
       "      <td>0.0</td>\n",
       "      <td>0.0</td>\n",
       "      <td>0.0</td>\n",
       "      <td>0.0</td>\n",
       "      <td>0.0</td>\n",
       "      <td>0.0</td>\n",
       "      <td>0.0</td>\n",
       "      <td>0.0</td>\n",
       "    </tr>\n",
       "    <tr>\n",
       "      <th>105</th>\n",
       "      <td>488</td>\n",
       "      <td>NaN</td>\n",
       "      <td>0</td>\n",
       "      <td>0</td>\n",
       "      <td>0.0</td>\n",
       "      <td>0.0</td>\n",
       "      <td>0.0</td>\n",
       "      <td>0.0</td>\n",
       "      <td>0.0</td>\n",
       "      <td>0.0</td>\n",
       "      <td>0.0</td>\n",
       "      <td>0.0</td>\n",
       "      <td>0.0</td>\n",
       "    </tr>\n",
       "    <tr>\n",
       "      <th>106</th>\n",
       "      <td>491</td>\n",
       "      <td>NaN</td>\n",
       "      <td>0</td>\n",
       "      <td>8</td>\n",
       "      <td>0.0</td>\n",
       "      <td>1.0</td>\n",
       "      <td>1.0</td>\n",
       "      <td>1.0</td>\n",
       "      <td>1.0</td>\n",
       "      <td>1.0</td>\n",
       "      <td>1.0</td>\n",
       "      <td>1.0</td>\n",
       "      <td>1.0</td>\n",
       "    </tr>\n",
       "  </tbody>\n",
       "</table>\n",
       "<p>189 rows × 13 columns</p>\n",
       "</div>"
      ],
      "text/plain": [
       "     Participant_ID  PHQ_Score  Gender  PHQ8_Score  PHQ8_Binary  \\\n",
       "0               300        2.0       1           2          NaN   \n",
       "1               301        3.0       1           3          NaN   \n",
       "2               306        0.0       0           0          NaN   \n",
       "3               308       22.0       0          22          NaN   \n",
       "4               309       15.0       1          15          NaN   \n",
       "..              ...        ...     ...         ...          ...   \n",
       "102             485        NaN       1           2          0.0   \n",
       "103             486        NaN       0           4          0.0   \n",
       "104             487        NaN       0           0          0.0   \n",
       "105             488        NaN       0           0          0.0   \n",
       "106             491        NaN       0           8          0.0   \n",
       "\n",
       "     PHQ8_NoInterest  PHQ8_Depressed  PHQ8_Sleep  PHQ8_Tired  PHQ8_Appetite  \\\n",
       "0                NaN             NaN         NaN         NaN            NaN   \n",
       "1                NaN             NaN         NaN         NaN            NaN   \n",
       "2                NaN             NaN         NaN         NaN            NaN   \n",
       "3                NaN             NaN         NaN         NaN            NaN   \n",
       "4                NaN             NaN         NaN         NaN            NaN   \n",
       "..               ...             ...         ...         ...            ...   \n",
       "102              0.0             1.0         0.0         0.0            0.0   \n",
       "103              1.0             1.0         0.0         1.0            0.0   \n",
       "104              0.0             0.0         0.0         0.0            0.0   \n",
       "105              0.0             0.0         0.0         0.0            0.0   \n",
       "106              1.0             1.0         1.0         1.0            1.0   \n",
       "\n",
       "     PHQ8_Failure  PHQ8_Concentrating  PHQ8_Moving  \n",
       "0             NaN                 NaN          NaN  \n",
       "1             NaN                 NaN          NaN  \n",
       "2             NaN                 NaN          NaN  \n",
       "3             NaN                 NaN          NaN  \n",
       "4             NaN                 NaN          NaN  \n",
       "..            ...                 ...          ...  \n",
       "102           0.0                 0.0          1.0  \n",
       "103           1.0                 0.0          0.0  \n",
       "104           0.0                 0.0          0.0  \n",
       "105           0.0                 0.0          0.0  \n",
       "106           1.0                 1.0          1.0  \n",
       "\n",
       "[189 rows x 13 columns]"
      ]
     },
     "execution_count": 20,
     "metadata": {},
     "output_type": "execute_result"
    }
   ],
   "source": [
    "df_complete"
   ]
  },
  {
   "cell_type": "code",
   "execution_count": 21,
   "metadata": {},
   "outputs": [
    {
     "data": {
      "image/png": "[encoded data removed]",
      "text/plain": [
       "<Figure size 1000x600 with 1 Axes>"
      ]
     },
     "metadata": {},
     "output_type": "display_data"
    }
   ],
   "source": [
    "# Example usage:\n",
    "train_df, test_df = train_test_split(df_complete, test_size=0.2, random_state=1)\n",
    "plot_phq8_distribution_shared_cases([train_df, test_df], ['balanced_train_df', 'balanced_test_df'], ['Depressed', 'Non-depressed'])"
   ]
  },
  {
   "cell_type": "code",
   "execution_count": 22,
   "metadata": {},
   "outputs": [
    {
     "name": "stdout",
     "output_type": "stream",
     "text": [
      "(151, 13)\n",
      "(38, 13)\n"
     ]
    }
   ],
   "source": [
    "print(train_df.shape)\n",
    "print(test_df.shape)"
   ]
  },
  {
   "cell_type": "markdown",
   "metadata": {},
   "source": [
    "# Loading spectrograns"
   ]
  },
  {
   "cell_type": "code",
   "execution_count": 23,
   "metadata": {},
   "outputs": [],
   "source": [
    "def load_spectrogram(df):\n",
    "    # Define root path of data\n",
    "    root_path = 'd:/Sistema/Escritorio/Escritorio/Tesis/DAIC-WOZ/data'  # Replace with your root path\n",
    "\n",
    "    # Add the column for spectrogram if it doesn't exist\n",
    "    if 'Spectrogram' not in df.columns:\n",
    "        # Define the shape of the fixed tensor\n",
    "        tensor_shape = (292, 252, 3)  # Example shape (height, width, channels)\n",
    "\n",
    "        # Create a fixed tensor of zeros with the desired shape\n",
    "        fixed_tensor = np.zeros(tensor_shape, dtype=np.uint8)  # Adjust dtype as needed\n",
    "\n",
    "        # Initialize the 'Spectrogram' column with the fixed tensor\n",
    "        df['Spectrogram'] = [fixed_tensor.copy() for _ in range(len(df))]\n",
    "\n",
    "    # Handle missing values in 'Participant_ID' column\n",
    "    df['Participant_ID'] = pd.to_numeric(df['Participant_ID'], errors='coerce')\n",
    "\n",
    "    # Create an empty list to store modified rows\n",
    "    modified_rows = []\n",
    "    for index, row in df.iterrows():\n",
    "            if not pd.isnull(row['Participant_ID']):  # Check if Participant_ID is not NaN\n",
    "                participant_id = str(int(row['Participant_ID']))\n",
    "                folder_path = os.path.join(root_path, str(participant_id) + '_P/resized')\n",
    "                if os.path.isdir(folder_path):\n",
    "                    # Flag to check if the first spectrogram has been loaded\n",
    "                    first_loaded = False\n",
    "                    # Iterate over image files in the folder\n",
    "                    for image_file in glob.glob(os.path.join(folder_path, '*.jpg')):\n",
    "                        image_path = os.path.join(folder_path, image_file)\n",
    "                        if os.path.isfile(image_path):\n",
    "                            # If it's the first spectrogram, add it to the original row\n",
    "                            if not first_loaded:\n",
    "                                image = imageio.imread(image_path)\n",
    "                                row['Spectrogram'] = image\n",
    "                                modified_rows.append(row)  # Add the modified row to the list\n",
    "                                first_loaded = True\n",
    "                            else:\n",
    "                                # Create a copy of the original row\n",
    "                                new_row = row.copy()\n",
    "                                # Load the new image\n",
    "                                new_image = imageio.imread(image_path)\n",
    "                                # Assign the new image to the 'Spectrogram' column of the new row\n",
    "                                new_row['Spectrogram'] = new_image\n",
    "                                # Append the new row to the list\n",
    "                                modified_rows.append(new_row)\n",
    "                        else:\n",
    "                            print(f\"Image file not found at path {image_path}. Skipping...\")\n",
    "                else:\n",
    "                    print(f\"Folder not found at path {folder_path}. Skipping...\")\n",
    "                    raise Exception\n",
    "    # Concatenate the original DataFrame with the modified rows\n",
    "    #modified_df = pd.concat([df] + modified_rows, ignore_index=True)\n",
    "    modified_df = pd.DataFrame(modified_rows)\n",
    "    return modified_df\n",
    "    #return df\n"
   ]
  },
  {
   "cell_type": "code",
   "execution_count": 24,
   "metadata": {},
   "outputs": [
    {
     "data": {
      "image/png": "[encoded data removed]",
      "text/plain": [
       "<Figure size 1500x500 with 6 Axes>"
      ]
     },
     "metadata": {},
     "output_type": "display_data"
    }
   ],
   "source": [
    "# Load df_test spectrograms\n",
    "df_test_full = load_spectrogram(df_test_full)\n",
    "df_dev = load_spectrogram(df_dev)\n",
    "df_train = load_spectrogram(df_train)\n",
    "df_complete = load_spectrogram(df_complete)\n",
    "train_df = load_spectrogram(train_df)\n",
    "test_df = load_spectrogram(test_df)\n",
    "plot_phq8_distribution_shared([df_test_full, df_dev, df_train, df_complete, train_df, test_df], ['df_test_full', 'df_dev', 'df_train', 'df_complete', 'balanced_train_df', 'balanced_test_df'], ['Depressed', 'Non-depressed'])\n",
    "      \n"
   ]
  },
  {
   "cell_type": "markdown",
   "metadata": {},
   "source": [
    "# Verifying dataset and convertng to X and y "
   ]
  },
  {
   "cell_type": "code",
   "execution_count": 25,
   "metadata": {},
   "outputs": [
    {
     "data": {
      "image/png": "[encoded data removed]",
      "text/plain": [
       "<Figure size 1000x600 with 1 Axes>"
      ]
     },
     "metadata": {},
     "output_type": "display_data"
    }
   ],
   "source": [
    "plot_phq8_distribution_shared_cases([train_df, test_df], ['balanced_train_df', 'balanced_test_df'], ['Depressed', 'Non-depressed'])"
   ]
  },
  {
   "cell_type": "code",
   "execution_count": 26,
   "metadata": {},
   "outputs": [],
   "source": [
    "X_train = np.array(train_df['Spectrogram'].tolist())\n",
    "y_train = train_df['PHQ8_Score'].values\n",
    "\n",
    "X_test = np.array(test_df['Spectrogram'].tolist())\n",
    "y_test = test_df['PHQ8_Score'].values"
   ]
  },
  {
   "cell_type": "markdown",
   "metadata": {},
   "source": [
    "# Training the model"
   ]
  },
  {
   "cell_type": "code",
   "execution_count": null,
   "metadata": {},
   "outputs": [],
   "source": [
    "# Hiperparameters\n",
    "batch_size = 4\n",
    "no_epochs = 100\n",
    "verbosity = 1#2  # 1\n",
    "\n",
    "# for train, test in kfold.split(X_train, y_train):\n",
    "# Define the model architecture\n",
    "model = Sequential()\n",
    "# Convolutional block 1\n",
    "model.add(BatchNormalization())\n",
    "model.add(Conv2D(32, kernel_size=(3, 3), padding='same'))\n",
    "model.add(LeakyReLU(alpha=0.01))\n",
    "# Convolutional block 2\n",
    "model.add(BatchNormalization())\n",
    "model.add(Conv2D(8, (3, 3), padding='same'))\n",
    "model.add(LeakyReLU(alpha=0.01))\n",
    "# Convolutional block 3\n",
    "model.add(BatchNormalization())\n",
    "model.add(Conv2D(4, (3, 3), padding='same'))\n",
    "model.add(LeakyReLU(alpha=0.01))\n",
    "# Convolutional block 4\n",
    "model.add(BatchNormalization())\n",
    "model.add(Conv2D(4, (3, 3), padding='same'))\n",
    "model.add(LeakyReLU(alpha=0.01))\n",
    "\n",
    "model.add(Flatten())\n",
    "\n",
    "model.add(Dense(64))\n",
    "model.add(LeakyReLU(alpha=0.01))\n",
    "model.add(Dense(1, activation='sigmoid'))\n",
    "\n",
    "# Compile the model\n",
    "model.compile(optimizer='adam',\n",
    "                loss='binary_crossentropy',\n",
    "                metrics=['accuracy', tf.keras.metrics.Precision()])\n",
    "\n",
    "# Generate a print\n",
    "print('------------------------------------------------------------------------')\n",
    "\n",
    "callback = tf.keras.callbacks.EarlyStopping(monitor='loss',\n",
    "                                            patience=3,\n",
    "                                            min_delta=0.0001)\n",
    "\n",
    "# Fit data to model\n",
    "history = model.fit(X_train, y_train,\n",
    "                    batch_size=batch_size,\n",
    "                    epochs=no_epochs,\n",
    "                    verbose=verbosity,\n",
    "                    callbacks=[callback])\n",
    "\n",
    "\n",
    "\n"
   ]
  },
  {
   "cell_type": "markdown",
   "metadata": {},
   "source": [
    "## Sigmoide"
   ]
  },
  {
   "cell_type": "code",
   "execution_count": null,
   "metadata": {},
   "outputs": [],
   "source": [
    "from tensorflow.keras.layers import BatchNormalization, Conv2D, LeakyReLU, MaxPooling2D, Dropout, Flatten, Dense\n",
    "from tensorflow.keras.optimizers import Adam, Adadelta\n",
    "import tensorflow as tf\n",
    "# Hiperparameters\n",
    "batch_size = 4\n",
    "no_epochs = 100\n",
    "verbosity = 1#2  # 1\n",
    "input_shape = (252,792,3)\n",
    "\n",
    "# for train, test in kfold.split(X_train, y_train):\n",
    "# Define the model architecture\n",
    "model = Sequential()\n",
    "model.add(BatchNormalization(input_shape=(input_shape)))  # Especifica input_shape\n",
    "model.add(Conv2D(32, kernel_size=(3, 3), padding='same'))\n",
    "model.add(LeakyReLU(alpha=0.01))\n",
    "model.add(MaxPooling2D(pool_size=(2, 2)))\n",
    "model.add(BatchNormalization())\n",
    "\n",
    "model.add(Conv2D(64, kernel_size=(3, 3), padding='same'))\n",
    "model.add(LeakyReLU(alpha=0.01))\n",
    "model.add(MaxPooling2D(pool_size=(2, 2)))\n",
    "model.add(BatchNormalization())\n",
    "\n",
    "model.add(Conv2D(128, kernel_size=(3, 3), padding='same'))\n",
    "model.add(LeakyReLU(alpha=0.01))\n",
    "model.add(MaxPooling2D(pool_size=(2, 2)))\n",
    "model.add(BatchNormalization())\n",
    "\n",
    "model.add(Flatten())\n",
    "model.add(Dense(128))\n",
    "model.add(LeakyReLU(alpha=0.01))\n",
    "model.add(Dropout(0.5))\n",
    "model.add(Dense(64))\n",
    "model.add(LeakyReLU(alpha=0.01))\n",
    "model.add(Dropout(0.5))\n",
    "model.add(Dense(1, activation='sigmoid'))\n",
    "\n",
    "# Compile the model\n",
    "model.compile(optimizer=Adadelta(learning_rate=0.001), \n",
    "                loss='binary_crossentropy',\n",
    "                metrics=['accuracy', tf.keras.metrics.Precision()])\n",
    "\n",
    "# Generate a print\n",
    "print('------------------------------------------------------------------------')\n",
    "\n",
    "callback = tf.keras.callbacks.EarlyStopping(monitor='loss',\n",
    "                                            patience=3,\n",
    "                                            min_delta=0.0001)\n",
    "\n",
    "\n",
    "history = model.fit(X_train,\n",
    "    y_train, \n",
    "    batch_size=batch_size, \n",
    "    epochs=no_epochs, \n",
    "    verbose=verbosity, \n",
    "    validation_split=0.2,\n",
    "    callbacks=[\n",
    "        tf.keras.callbacks.EarlyStopping(monitor='val_loss', patience=5, restore_best_weights=True),\n",
    "        tf.keras.callbacks.ModelCheckpoint('best_model.h5', save_best_only=True),\n",
    "        tf.keras.callbacks.ReduceLROnPlateau(monitor='val_loss', factor=0.1, patience=3)\n",
    "            ])\n",
    "\n",
    "\n",
    "\n"
   ]
  },
  {
   "cell_type": "markdown",
   "metadata": {},
   "source": [
    "# Linear"
   ]
  },
  {
   "cell_type": "code",
   "execution_count": 51,
   "metadata": {},
   "outputs": [
    {
     "name": "stdout",
     "output_type": "stream",
     "text": [
      "Epoch 1/100\n",
      "73/73 [==============================] - 28s 376ms/step - loss: 88352.6484 - mean_absolute_error: 59.9158 - val_loss: 45.4166 - val_mean_absolute_error: 5.0308 - lr: 0.0010\n",
      "Epoch 2/100\n",
      "73/73 [==============================] - 25s 342ms/step - loss: 46.2019 - mean_absolute_error: 5.1155 - val_loss: 31.7098 - val_mean_absolute_error: 4.2192 - lr: 0.0010\n",
      "Epoch 3/100\n",
      "73/73 [==============================] - 24s 335ms/step - loss: 39.8424 - mean_absolute_error: 5.0594 - val_loss: 25.0641 - val_mean_absolute_error: 3.9887 - lr: 0.0010\n",
      "Epoch 4/100\n",
      "73/73 [==============================] - 24s 327ms/step - loss: 37.9902 - mean_absolute_error: 5.0182 - val_loss: 23.1398 - val_mean_absolute_error: 4.0045 - lr: 0.0010\n",
      "Epoch 5/100\n",
      "73/73 [==============================] - 24s 323ms/step - loss: 37.6627 - mean_absolute_error: 5.0395 - val_loss: 22.6654 - val_mean_absolute_error: 4.0526 - lr: 0.0010\n",
      "Epoch 6/100\n",
      "73/73 [==============================] - 24s 334ms/step - loss: 36.6844 - mean_absolute_error: 4.9806 - val_loss: 22.6333 - val_mean_absolute_error: 4.0872 - lr: 0.0010\n",
      "Epoch 7/100\n",
      "73/73 [==============================] - 14s 189ms/step - loss: 35.9908 - mean_absolute_error: 4.9453 - val_loss: 22.7774 - val_mean_absolute_error: 4.1347 - lr: 0.0010\n",
      "Epoch 8/100\n",
      "73/73 [==============================] - 12s 170ms/step - loss: 35.0602 - mean_absolute_error: 4.8641 - val_loss: 23.1262 - val_mean_absolute_error: 4.1931 - lr: 0.0010\n",
      "Epoch 9/100\n",
      "73/73 [==============================] - 12s 163ms/step - loss: 34.3699 - mean_absolute_error: 4.8260 - val_loss: 23.4348 - val_mean_absolute_error: 4.2362 - lr: 0.0010\n",
      "Epoch 10/100\n",
      "73/73 [==============================] - 12s 168ms/step - loss: 33.7872 - mean_absolute_error: 4.8034 - val_loss: 23.4981 - val_mean_absolute_error: 4.2435 - lr: 1.0000e-04\n",
      "Epoch 11/100\n",
      "73/73 [==============================] - 26s 357ms/step - loss: 33.9160 - mean_absolute_error: 4.8061 - val_loss: 23.4910 - val_mean_absolute_error: 4.2436 - lr: 1.0000e-04\n"
     ]
    },
    {
     "data": {
      "text/plain": [
       "<keras.callbacks.History at 0x11d4ea84370>"
      ]
     },
     "execution_count": 51,
     "metadata": {},
     "output_type": "execute_result"
    }
   ],
   "source": [
    "from tensorflow.keras.models import Sequential\n",
    "from tensorflow.keras.layers import BatchNormalization, Conv2D, LeakyReLU, MaxPooling2D, Dropout, Flatten, Dense\n",
    "from tensorflow.keras.optimizers import Adam\n",
    "import tensorflow as tf\n",
    "\n",
    "batch_size=10\n",
    "input_shape = (252, 792, 3)\n",
    "no_epochs = 100\n",
    "verbosity = 1\n",
    "\n",
    "model = Sequential()\n",
    "model.add(BatchNormalization())\n",
    "model.add(Conv2D(32, kernel_size=(3, 3), padding='same'))\n",
    "model.add(LeakyReLU(alpha=0.01))\n",
    "model.add(BatchNormalization())\n",
    "model.add(Conv2D(8, (3, 3), padding='same'))\n",
    "model.add(LeakyReLU(alpha=0.01))\n",
    "model.add(BatchNormalization())\n",
    "model.add(Conv2D(8, (3, 3), padding='same'))\n",
    "model.add(LeakyReLU(alpha=0.01))\n",
    "model.add(BatchNormalization())\n",
    "model.add(Conv2D(8, (3, 3), padding='same'))\n",
    "model.add(LeakyReLU(alpha=0.01))\n",
    "model.add(Flatten())\n",
    "model.add(Dense(64))\n",
    "model.add(LeakyReLU(alpha=0.01))\n",
    "    \n",
    "model.add(Dense(1, activation='linear'))  # Para regresión lineal, usar activación 'linear'\n",
    "\n",
    "model.compile(optimizer=Adam(learning_rate=0.001), \n",
    "              loss='mean_squared_error',  # Función de pérdida para regresión\n",
    "              metrics=['mean_absolute_error'])  # Métrica adicional para regresión\n",
    "\n",
    "# Ajustar el modelo en los datos de entrenamiento aumentados\n",
    "model.fit(X_train,\n",
    "          y_train, \n",
    "          batch_size=batch_size, \n",
    "          epochs=no_epochs, \n",
    "          verbose=verbosity, \n",
    "          validation_split=0.2,\n",
    "          callbacks=[\n",
    "              tf.keras.callbacks.EarlyStopping(monitor='val_loss', patience=5, restore_best_weights=True),\n",
    "              tf.keras.callbacks.ModelCheckpoint('best_model.h5', save_best_only=True),\n",
    "              tf.keras.callbacks.ReduceLROnPlateau(monitor='val_loss', factor=0.1, patience=3)\n",
    "          ])\n"
   ]
  },
  {
   "cell_type": "markdown",
   "metadata": {},
   "source": [
    "# Metrics"
   ]
  },
  {
   "cell_type": "code",
   "execution_count": 52,
   "metadata": {},
   "outputs": [
    {
     "data": {
      "text/plain": [
       "(906, 252, 792, 3)"
      ]
     },
     "execution_count": 52,
     "metadata": {},
     "output_type": "execute_result"
    }
   ],
   "source": [
    "X_train.shape"
   ]
  },
  {
   "cell_type": "code",
   "execution_count": 53,
   "metadata": {},
   "outputs": [
    {
     "data": {
      "text/plain": [
       "(228, 252, 792, 3)"
      ]
     },
     "execution_count": 53,
     "metadata": {},
     "output_type": "execute_result"
    }
   ],
   "source": [
    "X_test.shape"
   ]
  },
  {
   "cell_type": "code",
   "execution_count": 54,
   "metadata": {},
   "outputs": [
    {
     "name": "stdout",
     "output_type": "stream",
     "text": [
      "8/8 [==============================] - 2s 140ms/step\n"
     ]
    },
    {
     "data": {
      "text/plain": [
       "array([4.4966073, 5.155977 , 4.614552 , 6.4427285, 6.2956142, 6.013234 ,\n",
       "       4.9178905, 5.1650524, 4.950615 , 5.920635 , 5.707976 , 5.4723268,\n",
       "       5.08138  , 5.510538 , 5.065412 , 6.8080583, 6.6968274, 6.330536 ,\n",
       "       4.8882737, 5.07346  , 4.7961044, 5.3807406, 5.370673 , 5.098581 ,\n",
       "       5.0638337, 5.5365925, 5.024799 , 7.285685 , 6.920994 , 6.6636376,\n",
       "       5.506754 , 5.525965 , 5.296475 , 5.7653465, 5.710023 , 5.4266343,\n",
       "       4.4806867, 5.099444 , 4.6448326, 6.8854976, 6.6869583, 6.379584 ,\n",
       "       5.2779713, 5.6341805, 5.298559 , 7.046078 , 6.840739 , 6.618614 ,\n",
       "       4.7613373, 5.0060983, 4.701949 , 6.327964 , 6.287274 , 6.0138326,\n",
       "       4.3905463, 4.7665496, 4.3787503, 6.4552894, 6.300442 , 6.149724 ,\n",
       "       5.494844 , 5.6750655, 5.3070927, 7.0376954, 6.8411875, 6.6143355,\n",
       "       4.1752753, 4.794947 , 4.1808214, 6.811755 , 6.5946574, 6.32237  ,\n",
       "       4.8182874, 5.1012383, 4.8732   , 6.6710563, 6.525541 , 6.342474 ,\n",
       "       4.3387566, 5.2972455, 4.6634927, 7.200907 , 6.954119 , 6.74359  ,\n",
       "       4.5851016, 4.9192314, 4.6016097, 6.3895726, 6.276234 , 6.0502152,\n",
       "       4.787694 , 5.4250426, 5.0839143, 6.773064 , 6.626604 , 6.35342  ,\n",
       "       5.0511985, 5.700706 , 5.168141 , 6.7820826, 6.5984397, 6.2464337,\n",
       "       4.9647765, 5.2689576, 5.084296 , 6.384438 , 6.195713 , 6.135996 ,\n",
       "       4.729642 , 5.4398637, 4.87499  , 6.9252434, 6.945471 , 6.5580153,\n",
       "       2.8519065, 3.8270311, 3.1429935, 7.2163115, 7.0454564, 6.755903 ,\n",
       "       5.121336 , 5.498179 , 5.056129 , 6.847157 , 6.6998286, 6.2949224,\n",
       "       4.991231 , 5.4532695, 5.0726914, 6.5600595, 6.4638343, 6.162913 ,\n",
       "       4.6763754, 5.3416104, 4.9449224, 7.37995  , 7.1759505, 6.9163218,\n",
       "       5.2470145, 5.425962 , 5.0489316, 6.095308 , 5.973877 , 5.692843 ,\n",
       "       5.7263336, 5.801404 , 5.481732 , 6.4973297, 6.31791  , 6.09392  ,\n",
       "       5.1948967, 5.319919 , 5.1094656, 5.9709077, 5.798863 , 5.6416464,\n",
       "       4.957804 , 5.37178  , 5.0173182, 6.9212317, 6.7125196, 6.4529305,\n",
       "       5.133347 , 5.469188 , 5.1229   , 5.66998  , 5.56506  , 5.346245 ,\n",
       "       4.1206713, 4.674602 , 4.3169866, 6.5540214, 6.385182 , 6.0774465,\n",
       "       4.968738 , 5.020661 , 4.9081063, 5.351485 , 5.349009 , 5.2241206,\n",
       "       5.6219316, 5.586146 , 5.477735 , 6.345625 , 6.1880984, 5.935445 ,\n",
       "       4.6130633, 5.117372 , 4.6242647, 6.4578395, 6.3838406, 6.1094403,\n",
       "       3.949308 , 4.788276 , 4.24147  , 7.148169 , 6.927891 , 6.8009434,\n",
       "       5.7443295, 5.8741283, 5.4699917, 7.0724483, 6.7838683, 6.5817666,\n",
       "       5.0415983, 5.454389 , 4.8131585, 6.141404 , 6.0412025, 5.771193 ,\n",
       "       4.9069037, 5.3550806, 4.9643764, 7.1758018, 7.0497193, 6.8184752,\n",
       "       4.447573 , 4.827013 , 4.5556083, 6.415217 , 6.1839557, 5.824709 ,\n",
       "       4.157095 , 4.571448 , 4.2787337, 6.5199356, 6.167959 , 5.998891 ],\n",
       "      dtype=float32)"
      ]
     },
     "execution_count": 54,
     "metadata": {},
     "output_type": "execute_result"
    }
   ],
   "source": [
    "y_pred = model.predict(X_test).flatten()\n",
    "y_pred"
   ]
  },
  {
   "cell_type": "code",
   "execution_count": 55,
   "metadata": {},
   "outputs": [
    {
     "data": {
      "text/plain": [
       "(228,)"
      ]
     },
     "execution_count": 55,
     "metadata": {},
     "output_type": "execute_result"
    }
   ],
   "source": [
    "y_pred.shape"
   ]
  },
  {
   "cell_type": "code",
   "execution_count": 56,
   "metadata": {},
   "outputs": [],
   "source": [
    "threshold = 0.5\n",
    "y_pred_binary = np.where(y_pred >= threshold, 1, 0)\n",
    "#y_pred_binary"
   ]
  },
  {
   "cell_type": "code",
   "execution_count": 57,
   "metadata": {},
   "outputs": [
    {
     "name": "stdout",
     "output_type": "stream",
     "text": [
      "8/8 [==============================] - 1s 124ms/step\n"
     ]
    },
    {
     "data": {
      "image/png": "[encoded data removed]",
      "text/plain": [
       "<Figure size 1000x600 with 1 Axes>"
      ]
     },
     "metadata": {},
     "output_type": "display_data"
    }
   ],
   "source": [
    "import matplotlib.pyplot as plt\n",
    "\n",
    "# Evaluar el modelo en los datos de prueba\n",
    "scores = model.evaluate(X_test, y_test, verbose=0)\n",
    "\n",
    "# Predecir valores\n",
    "y_pred = model.predict(X_test).flatten()\n",
    "\n",
    "# Crear un gráfico de dispersión\n",
    "plt.figure(figsize=(10, 6))\n",
    "plt.scatter(y_test, y_pred, alpha=0.5)\n",
    "plt.plot([y_test.min(), y_test.max()], [y_test.min(), y_test.max()], 'k--', lw=2)\n",
    "plt.xlabel('Valores Reales')\n",
    "plt.ylabel('Valores Predichos')\n",
    "plt.title('Valores Reales vs. Valores Predichos')\n",
    "plt.text(0.05, 0.95, f'MSE: {scores[0]:.2f}\\nMAE: {scores[1]:.2f}', transform=plt.gca().transAxes,\n",
    "         fontsize=12, verticalalignment='top', bbox=dict(boxstyle='round,pad=0.5', edgecolor='gray', facecolor='wheat', alpha=0.5))\n",
    "plt.show()\n"
   ]
  },
  {
   "cell_type": "code",
   "execution_count": 60,
   "metadata": {},
   "outputs": [
    {
     "data": {
      "text/plain": [
       "[39.137939453125, 4.855559825897217]"
      ]
     },
     "execution_count": 60,
     "metadata": {},
     "output_type": "execute_result"
    }
   ],
   "source": [
    "scores"
   ]
  },
  {
   "cell_type": "code",
   "execution_count": 59,
   "metadata": {},
   "outputs": [
    {
     "name": "stdout",
     "output_type": "stream",
     "text": [
      "8/8 [==============================] - 1s 123ms/step\n"
     ]
    },
    {
     "ename": "ValueError",
     "evalue": "too many values to unpack (expected 4)",
     "output_type": "error",
     "traceback": [
      "\u001b[1;31m---------------------------------------------------------------------------\u001b[0m",
      "\u001b[1;31mValueError\u001b[0m                                Traceback (most recent call last)",
      "Cell \u001b[1;32mIn[59], line 12\u001b[0m\n\u001b[0;32m      9\u001b[0m y_pred_binary \u001b[38;5;241m=\u001b[39m (y_pred_prob \u001b[38;5;241m>\u001b[39m \u001b[38;5;241m0.5\u001b[39m)\u001b[38;5;241m.\u001b[39mastype(\u001b[38;5;28mint\u001b[39m)\n\u001b[0;32m     11\u001b[0m \u001b[38;5;66;03m# Calculate confusion matrix values\u001b[39;00m\n\u001b[1;32m---> 12\u001b[0m tn, fp, fn, tp \u001b[38;5;241m=\u001b[39m confusion_matrix(y_test, y_pred_binary)\u001b[38;5;241m.\u001b[39mravel()\n\u001b[0;32m     13\u001b[0m specificity \u001b[38;5;241m=\u001b[39m tn \u001b[38;5;241m/\u001b[39m (tn \u001b[38;5;241m+\u001b[39m fp)\n\u001b[0;32m     14\u001b[0m recall \u001b[38;5;241m=\u001b[39m tp \u001b[38;5;241m/\u001b[39m (tp \u001b[38;5;241m+\u001b[39m fn)\n",
      "\u001b[1;31mValueError\u001b[0m: too many values to unpack (expected 4)"
     ]
    }
   ],
   "source": [
    "from sklearn.metrics import confusion_matrix, roc_auc_score, roc_curve\n",
    "\n",
    "# Evaluate the model on test data\n",
    "scores = model.evaluate(X_test, y_test, verbose=0)\n",
    "\n",
    "# Predict probabilities\n",
    "y_pred_prob = model.predict(X_test)\n",
    "# Predict binary outcomes\n",
    "y_pred_binary = (y_pred_prob > 0.5).astype(int)\n",
    "\n",
    "# Calculate confusion matrix values\n",
    "tn, fp, fn, tp = confusion_matrix(y_test, y_pred_binary).ravel()\n",
    "specificity = tn / (tn + fp)\n",
    "recall = tp / (tp + fn)\n",
    "precision = tp / (tp + fp)\n",
    "f1 = 2 * (precision * recall) / (precision + recall) if (precision + recall) > 0 else float('nan')\n",
    "\n",
    "# Calculate AUC\n",
    "auc = roc_auc_score(y_test, y_pred_prob)\n",
    "\n",
    "print(f'Mean Specificity: {specificity}')\n",
    "print(f'Mean Recall: {recall}')\n",
    "print(f'Mean F1 Score: {f1}')\n",
    "print(f'Mean Accuracy: {scores[1] * 100}')\n",
    "print(f'Mean Loss: {scores[0]}')\n",
    "print(f'Mean Precision: {precision}')\n",
    "print(f'Mean AUC: {auc}')\n",
    "print()\n",
    "print(f'True negatives: {tn}')\n",
    "print(f'False negatives: {fn}')\n",
    "print(f'True positives: {tp}')\n",
    "print(f'False positives: {fp}')\n"
   ]
  },
  {
   "cell_type": "code",
   "execution_count": null,
   "metadata": {},
   "outputs": [],
   "source": [
    "folder_path = f'd:/Sistema/Escritorio/Escritorio/Tesis/DAIC-WOZ/folds/70-30_complete_cleaned_adam_arq_original/'\n",
    "if not os.path.exists(folder_path):\n",
    "    os.makedirs(folder_path)\n",
    "\n",
    "# Escribir valores medios en el archivo scores.txt\n",
    "with open(os.path.join(folder_path, 'scores.txt'), 'w') as file:\n",
    "    file.write(f'Mean Specificity: {specificity}\\n')\n",
    "    file.write(f'Mean Recall: {recall}\\n')\n",
    "    file.write(f'Mean F1 Score: {f1}\\n')\n",
    "    file.write(f'Mean Accuracy: {scores[1] * 100}\\n')\n",
    "    file.write(f'Mean Loss: {scores[0]}\\n')\n",
    "    file.write(f'Mean Precision: {precision}\\n')\n",
    "    file.write(f'Mean AUC: {auc}\\n')\n",
    "    file.write(f'True negatives: {tn}\\n')\n",
    "    file.write(f'False negatives: {fn}\\n')\n",
    "    file.write(f'True positives: {tp}\\n')\n",
    "    file.write(f'False positives: {fp}\\n')\n",
    "\n",
    "# Generar la matriz de confusión\n",
    "conf_matrix = confusion_matrix(y_test, y_pred_binary)\n",
    "plt.figure(figsize=(8, 6))\n",
    "sns.heatmap(conf_matrix, annot=True, fmt=\"d\", cmap=\"Blues\")\n",
    "plt.title(\"Confusion Matrix\")\n",
    "plt.xlabel(\"Predicted Label\")\n",
    "plt.ylabel(\"True Label\")\n",
    "plt.savefig(os.path.join(folder_path, \"confusion_matrix.jpg\"))\n",
    "plt.close()\n",
    "\n",
    "# Graficar otras métricas\n",
    "metrics = ['Specificity', 'Recall', 'F1 Score', 'Accuracy', 'Loss', 'Precision', 'AUC']\n",
    "values = [specificity, recall, f1, scores[1], scores[0], precision, auc]\n",
    "plt.figure(figsize=(10, 6))\n",
    "plt.bar(metrics, values, color='skyblue')\n",
    "plt.title(\"Model Metrics\")\n",
    "plt.ylabel(\"Value\")\n",
    "plt.savefig(os.path.join(folder_path, \"model_metrics.jpg\"))\n",
    "plt.close()"
   ]
  }
 ],
 "metadata": {
  "kernelspec": {
   "display_name": "SpectroCNN",
   "language": "python",
   "name": "python3"
  },
  "language_info": {
   "codemirror_mode": {
    "name": "ipython",
    "version": 3
   },
   "file_extension": ".py",
   "mimetype": "text/x-python",
   "name": "python",
   "nbconvert_exporter": "python",
   "pygments_lexer": "ipython3",
   "version": "3.10.13"
  }
 },
 "nbformat": 4,
 "nbformat_minor": 2
}
