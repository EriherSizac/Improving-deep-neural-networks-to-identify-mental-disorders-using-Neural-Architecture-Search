{
 "cells": [
  {
   "cell_type": "code",
   "execution_count": 2,
   "metadata": {},
   "outputs": [
    {
     "name": "stderr",
     "output_type": "stream",
     "text": [
      "c:\\Users\\herna\\anaconda3\\envs\\SpectroCNN\\lib\\site-packages\\tensorflow_addons\\utils\\tfa_eol_msg.py:23: UserWarning: \n",
      "\n",
      "TensorFlow Addons (TFA) has ended development and introduction of new features.\n",
      "TFA has entered a minimal maintenance and release mode until a planned end of life in May 2024.\n",
      "Please modify downstream libraries to take dependencies from other repositories in our TensorFlow community (e.g. Keras, Keras-CV, and Keras-NLP). \n",
      "\n",
      "For more information see: https://github.com/tensorflow/addons/issues/2807 \n",
      "\n",
      "  warnings.warn(\n",
      "c:\\Users\\herna\\anaconda3\\envs\\SpectroCNN\\lib\\site-packages\\tensorflow_addons\\utils\\ensure_tf_install.py:53: UserWarning: Tensorflow Addons supports using Python ops for all Tensorflow versions above or equal to 2.12.0 and strictly below 2.15.0 (nightly versions are not supported). \n",
      " The versions of TensorFlow you are currently using is 2.10.0 and is not supported. \n",
      "Some things might work, some things might not.\n",
      "If you were to encounter a bug, do not file an issue.\n",
      "If you want to make sure you're using a tested and supported configuration, either change the TensorFlow version or the TensorFlow Addons's version. \n",
      "You can find the compatibility matrix in TensorFlow Addon's readme:\n",
      "https://github.com/tensorflow/addons\n",
      "  warnings.warn(\n"
     ]
    }
   ],
   "source": [
    "# Global imports\n",
    "import os\n",
    "import numpy as np\n",
    "import pandas as pd\n",
    "import imageio.v2 as imageio\n",
    "import tensorflow as tf\n",
    "import tensorflow_addons as tfa\n",
    "import seaborn as sns\n",
    "import matplotlib.pyplot as plt\n",
    "import librosa\n",
    "import glob\n",
    "from sklearn.metrics import confusion_matrix, precision_score, recall_score, f1_score\n",
    "from sklearn.model_selection import train_test_split, KFold\n",
    "from tensorflow.keras.callbacks import Callback\n",
    "from sklearn.metrics import confusion_matrix\n",
    "from tensorflow.keras.models import Sequential, Model\n",
    "from tensorflow.keras.layers import BatchNormalization, Conv2D, LeakyReLU, MaxPooling2D, Flatten, Dense\n"
   ]
  },
  {
   "cell_type": "markdown",
   "metadata": {},
   "source": [
    "# Config GPU"
   ]
  },
  {
   "cell_type": "code",
   "execution_count": 3,
   "metadata": {},
   "outputs": [
    {
     "data": {
      "text/plain": [
       "[PhysicalDevice(name='/physical_device:GPU:0', device_type='GPU')]"
      ]
     },
     "execution_count": 3,
     "metadata": {},
     "output_type": "execute_result"
    }
   ],
   "source": [
    "tf.config.list_physical_devices('GPU')"
   ]
  },
  {
   "cell_type": "code",
   "execution_count": 4,
   "metadata": {},
   "outputs": [
    {
     "name": "stdout",
     "output_type": "stream",
     "text": [
      "Num GPUs Available:  1\n"
     ]
    }
   ],
   "source": [
    "print(\"Num GPUs Available: \", len(tf.config.list_physical_devices('GPU')))"
   ]
  },
  {
   "cell_type": "code",
   "execution_count": 5,
   "metadata": {},
   "outputs": [
    {
     "data": {
      "text/plain": [
       "[PhysicalDevice(name='/physical_device:GPU:0', device_type='GPU')]"
      ]
     },
     "execution_count": 5,
     "metadata": {},
     "output_type": "execute_result"
    }
   ],
   "source": [
    "tf.config.list_physical_devices('GPU')"
   ]
  },
  {
   "cell_type": "code",
   "execution_count": 6,
   "metadata": {},
   "outputs": [
    {
     "name": "stdout",
     "output_type": "stream",
     "text": [
      "1 Physical GPUs, 1 Logical GPU\n"
     ]
    }
   ],
   "source": [
    "gpus = tf.config.list_physical_devices('GPU')\n",
    "if gpus:\n",
    "  # Restrict TensorFlow to only use the first GPU\n",
    "  try:\n",
    "    tf.config.set_visible_devices(gpus[0], 'GPU')\n",
    "    logical_gpus = tf.config.list_logical_devices('GPU')\n",
    "    print(len(gpus), \"Physical GPUs,\", len(logical_gpus), \"Logical GPU\")\n",
    "  except RuntimeError as e:\n",
    "    # Visible devices must be set before GPUs have been initialized\n",
    "    print(e)"
   ]
  },
  {
   "cell_type": "code",
   "execution_count": null,
   "metadata": {},
   "outputs": [],
   "source": []
  },
  {
   "cell_type": "markdown",
   "metadata": {},
   "source": [
    "# Importing data"
   ]
  },
  {
   "cell_type": "code",
   "execution_count": 7,
   "metadata": {},
   "outputs": [],
   "source": [
    "# mport train\n",
    "df_train = pd.read_csv('d:/Sistema/Escritorio/Escritorio/Tesis/DAIC-WOZ/train_split_Depression_AVEC2017.csv')\n",
    "df_test = pd.read_csv('d:/Sistema/Escritorio/Escritorio/Tesis/DAIC-WOZ/test_split_Depression_AVEC2017.csv')\n",
    "df_test_full = pd.read_csv('d:/Sistema/Escritorio/Escritorio/Tesis/DAIC-WOZ/full_test_split.csv')\n",
    "df_dev = pd.read_csv('d:/Sistema/Escritorio/Escritorio/Tesis/DAIC-WOZ/dev_split_Depression_AVEC2017.csv')"
   ]
  },
  {
   "cell_type": "markdown",
   "metadata": {},
   "source": [
    "## Standarizing data\n"
   ]
  },
  {
   "cell_type": "code",
   "execution_count": 8,
   "metadata": {},
   "outputs": [],
   "source": [
    "df_test_full['PHQ8_Binary'] = df_test_full['PHQ_Binary']\n",
    "df_test_full.drop('PHQ_Binary', axis=1, inplace=True)"
   ]
  },
  {
   "cell_type": "code",
   "execution_count": 9,
   "metadata": {},
   "outputs": [
    {
     "data": {
      "text/html": [
       "<div>\n",
       "<style scoped>\n",
       "    .dataframe tbody tr th:only-of-type {\n",
       "        vertical-align: middle;\n",
       "    }\n",
       "\n",
       "    .dataframe tbody tr th {\n",
       "        vertical-align: top;\n",
       "    }\n",
       "\n",
       "    .dataframe thead th {\n",
       "        text-align: right;\n",
       "    }\n",
       "</style>\n",
       "<table border=\"1\" class=\"dataframe\">\n",
       "  <thead>\n",
       "    <tr style=\"text-align: right;\">\n",
       "      <th></th>\n",
       "      <th>Participant_ID</th>\n",
       "      <th>PHQ_Score</th>\n",
       "      <th>Gender</th>\n",
       "      <th>PHQ8_Binary</th>\n",
       "    </tr>\n",
       "  </thead>\n",
       "  <tbody>\n",
       "    <tr>\n",
       "      <th>0</th>\n",
       "      <td>300</td>\n",
       "      <td>2</td>\n",
       "      <td>1</td>\n",
       "      <td>0</td>\n",
       "    </tr>\n",
       "  </tbody>\n",
       "</table>\n",
       "</div>"
      ],
      "text/plain": [
       "   Participant_ID  PHQ_Score  Gender  PHQ8_Binary\n",
       "0             300          2       1            0"
      ]
     },
     "execution_count": 9,
     "metadata": {},
     "output_type": "execute_result"
    }
   ],
   "source": [
    "df_test_full.head(1)"
   ]
  },
  {
   "cell_type": "code",
   "execution_count": 10,
   "metadata": {},
   "outputs": [
    {
     "data": {
      "text/html": [
       "<div>\n",
       "<style scoped>\n",
       "    .dataframe tbody tr th:only-of-type {\n",
       "        vertical-align: middle;\n",
       "    }\n",
       "\n",
       "    .dataframe tbody tr th {\n",
       "        vertical-align: top;\n",
       "    }\n",
       "\n",
       "    .dataframe thead th {\n",
       "        text-align: right;\n",
       "    }\n",
       "</style>\n",
       "<table border=\"1\" class=\"dataframe\">\n",
       "  <thead>\n",
       "    <tr style=\"text-align: right;\">\n",
       "      <th></th>\n",
       "      <th>Participant_ID</th>\n",
       "      <th>PHQ8_Binary</th>\n",
       "      <th>PHQ8_Score</th>\n",
       "      <th>Gender</th>\n",
       "      <th>PHQ8_NoInterest</th>\n",
       "      <th>PHQ8_Depressed</th>\n",
       "      <th>PHQ8_Sleep</th>\n",
       "      <th>PHQ8_Tired</th>\n",
       "      <th>PHQ8_Appetite</th>\n",
       "      <th>PHQ8_Failure</th>\n",
       "      <th>PHQ8_Concentrating</th>\n",
       "      <th>PHQ8_Moving</th>\n",
       "    </tr>\n",
       "  </thead>\n",
       "  <tbody>\n",
       "    <tr>\n",
       "      <th>0</th>\n",
       "      <td>303</td>\n",
       "      <td>0</td>\n",
       "      <td>0</td>\n",
       "      <td>0</td>\n",
       "      <td>0</td>\n",
       "      <td>0</td>\n",
       "      <td>0.0</td>\n",
       "      <td>0</td>\n",
       "      <td>0</td>\n",
       "      <td>0</td>\n",
       "      <td>0</td>\n",
       "      <td>0</td>\n",
       "    </tr>\n",
       "  </tbody>\n",
       "</table>\n",
       "</div>"
      ],
      "text/plain": [
       "   Participant_ID  PHQ8_Binary  PHQ8_Score  Gender  PHQ8_NoInterest  \\\n",
       "0             303            0           0       0                0   \n",
       "\n",
       "   PHQ8_Depressed  PHQ8_Sleep  PHQ8_Tired  PHQ8_Appetite  PHQ8_Failure  \\\n",
       "0               0         0.0           0              0             0   \n",
       "\n",
       "   PHQ8_Concentrating  PHQ8_Moving  \n",
       "0                   0            0  "
      ]
     },
     "execution_count": 10,
     "metadata": {},
     "output_type": "execute_result"
    }
   ],
   "source": [
    "df_train.head(1)"
   ]
  },
  {
   "cell_type": "code",
   "execution_count": 11,
   "metadata": {},
   "outputs": [
    {
     "data": {
      "text/html": [
       "<div>\n",
       "<style scoped>\n",
       "    .dataframe tbody tr th:only-of-type {\n",
       "        vertical-align: middle;\n",
       "    }\n",
       "\n",
       "    .dataframe tbody tr th {\n",
       "        vertical-align: top;\n",
       "    }\n",
       "\n",
       "    .dataframe thead th {\n",
       "        text-align: right;\n",
       "    }\n",
       "</style>\n",
       "<table border=\"1\" class=\"dataframe\">\n",
       "  <thead>\n",
       "    <tr style=\"text-align: right;\">\n",
       "      <th></th>\n",
       "      <th>Participant_ID</th>\n",
       "      <th>PHQ8_Binary</th>\n",
       "      <th>PHQ8_Score</th>\n",
       "      <th>Gender</th>\n",
       "      <th>PHQ8_NoInterest</th>\n",
       "      <th>PHQ8_Depressed</th>\n",
       "      <th>PHQ8_Sleep</th>\n",
       "      <th>PHQ8_Tired</th>\n",
       "      <th>PHQ8_Appetite</th>\n",
       "      <th>PHQ8_Failure</th>\n",
       "      <th>PHQ8_Concentrating</th>\n",
       "      <th>PHQ8_Moving</th>\n",
       "    </tr>\n",
       "  </thead>\n",
       "  <tbody>\n",
       "    <tr>\n",
       "      <th>0</th>\n",
       "      <td>302</td>\n",
       "      <td>0</td>\n",
       "      <td>4</td>\n",
       "      <td>1</td>\n",
       "      <td>1</td>\n",
       "      <td>1</td>\n",
       "      <td>0</td>\n",
       "      <td>1</td>\n",
       "      <td>0</td>\n",
       "      <td>1</td>\n",
       "      <td>0</td>\n",
       "      <td>0</td>\n",
       "    </tr>\n",
       "  </tbody>\n",
       "</table>\n",
       "</div>"
      ],
      "text/plain": [
       "   Participant_ID  PHQ8_Binary  PHQ8_Score  Gender  PHQ8_NoInterest  \\\n",
       "0             302            0           4       1                1   \n",
       "\n",
       "   PHQ8_Depressed  PHQ8_Sleep  PHQ8_Tired  PHQ8_Appetite  PHQ8_Failure  \\\n",
       "0               1           0           1              0             1   \n",
       "\n",
       "   PHQ8_Concentrating  PHQ8_Moving  \n",
       "0                   0            0  "
      ]
     },
     "execution_count": 11,
     "metadata": {},
     "output_type": "execute_result"
    }
   ],
   "source": [
    "df_dev.head(1)"
   ]
  },
  {
   "cell_type": "code",
   "execution_count": 12,
   "metadata": {},
   "outputs": [],
   "source": [
    "df_complete = pd.concat([df_test_full, df_dev, df_train], axis=0)"
   ]
  },
  {
   "cell_type": "code",
   "execution_count": 13,
   "metadata": {},
   "outputs": [
    {
     "name": "stdout",
     "output_type": "stream",
     "text": [
      "df_train: 107 rows\n",
      "df_test_full: 47 rows\n",
      "df_dev: 35 rows\n",
      "Total: 189 rows \n",
      "\n",
      "df_complete: 189 rows\n",
      "df_test: 141 rows (DISCARD)\n",
      "\n"
     ]
    }
   ],
   "source": [
    "print(f'df_train: {df_train.shape[0]} rows\\n'\n",
    "      f'df_test_full: {df_test_full.shape[0]} rows\\n'\n",
    "      f'df_dev: {df_dev.shape[0]} rows\\n'\n",
    "      f'Total: {df_train.shape[0] + df_test_full.shape[0] + df_dev.shape[0]} rows \\n\\n'\n",
    "      \n",
    "      f'df_complete: {df_complete.shape[0]} rows\\n'\n",
    "      f'df_test: {df_test.shape[0] + df_test.shape[0] + df_test.shape[0]} rows (DISCARD)\\n')\n",
    "      \n"
   ]
  },
  {
   "cell_type": "markdown",
   "metadata": {},
   "source": [
    "## Visualizing distribution"
   ]
  },
  {
   "cell_type": "code",
   "execution_count": 14,
   "metadata": {},
   "outputs": [
    {
     "data": {
      "image/png": "[encoded data removed]",
      "text/plain": [
       "<Figure size 1000x600 with 1 Axes>"
      ]
     },
     "metadata": {},
     "output_type": "display_data"
    }
   ],
   "source": [
    "import matplotlib.pyplot as plt\n",
    "import numpy as np\n",
    "\n",
    "def plot_phq8_distribution_shared(df_list, titles, labels):\n",
    "    true_counts = []\n",
    "    false_counts = []\n",
    "\n",
    "    for df in df_list:\n",
    "        true_count = df[df['PHQ8_Binary'] == 1].shape[0]\n",
    "        false_count = df[df['PHQ8_Binary'] == 0].shape[0]\n",
    "        true_counts.append(true_count)\n",
    "        false_counts.append(false_count)\n",
    "    \n",
    "    x = np.arange(len(df_list))  # the label locations\n",
    "    width = 0.35  # the width of the bars\n",
    "\n",
    "    fig, ax = plt.subplots(figsize=(10, 6))\n",
    "    rects1 = ax.bar(x - width/2, true_counts, width, label=labels[0], color='blue')\n",
    "    rects2 = ax.bar(x + width/2, false_counts, width, label=labels[1], color='red')\n",
    "\n",
    "    ax.set_ylabel('Count')\n",
    "    ax.set_title('Distribution of PHQ8_Binary')\n",
    "    ax.set_xticks(x)\n",
    "    ax.set_xticklabels(titles)\n",
    "    ax.legend()\n",
    "\n",
    "    def autolabel(rects):\n",
    "        \"\"\"Attach a text label above each bar in *rects*, displaying its height.\"\"\"\n",
    "        for rect in rects:\n",
    "            height = rect.get_height()\n",
    "            ax.annotate('{}'.format(height),\n",
    "                        xy=(rect.get_x() + rect.get_width() / 2, height),\n",
    "                        xytext=(0, 3),  # 3 points vertical offset\n",
    "                        textcoords=\"offset points\",\n",
    "                        ha='center', va='bottom')\n",
    "\n",
    "    autolabel(rects1)\n",
    "    autolabel(rects2)\n",
    "\n",
    "    fig.tight_layout()\n",
    "\n",
    "    plt.show()\n",
    "\n",
    "# Example usage:\n",
    "plot_phq8_distribution_shared([df_test_full, df_dev, df_train, df_complete], ['df_test_full', 'df_dev', 'df_train', 'df_complete'], ['Depressed', 'Non-depressed'])\n"
   ]
  },
  {
   "cell_type": "markdown",
   "metadata": {},
   "source": [
    "# Balancing datasets (complete)"
   ]
  },
  {
   "cell_type": "code",
   "execution_count": 15,
   "metadata": {},
   "outputs": [],
   "source": [
    "def balance_data(df, target_column, test_size=0.2, random_state=None):\n",
    "    \"\"\"\n",
    "    Balance the data by creating a train-test split with equal representation of each class.\n",
    "    \n",
    "    Args:\n",
    "    - df (DataFrame): The original DataFrame.\n",
    "    - target_column (str): The name of the target column.\n",
    "    - test_size (float): The proportion of the data to include in the test split.\n",
    "    - random_state (int or None): Random seed for reproducibility.\n",
    "    \n",
    "    Returns:\n",
    "    - train_df (DataFrame): The balanced training DataFrame.\n",
    "    - test_df (DataFrame): The balanced testing DataFrame.\n",
    "    \"\"\"\n",
    "    # Separate data into positive and negative classes\n",
    "    positive_data = df[df[target_column] == 1]\n",
    "    negative_data = df[df[target_column] == 0]\n",
    "    \n",
    "    # Determine the number of samples in each class for train and test sets\n",
    "    train_size = int(min(len(positive_data), len(negative_data)) * (1 - test_size))\n",
    "    test_positive_samples = int(len(positive_data) * test_size)\n",
    "    test_negative_samples = int(len(negative_data) * test_size)\n",
    "    \n",
    "    # Randomly sample from each class for test set\n",
    "    test_positive = positive_data.sample(n=test_positive_samples, random_state=random_state)\n",
    "    test_negative = negative_data.sample(n=test_negative_samples, random_state=random_state)\n",
    "    \n",
    "    # Sample from the larger class with replacement to match the size of the smaller class\n",
    "    if len(positive_data) > len(negative_data):\n",
    "        train_positive = positive_data.sample(n=train_size, replace=True, random_state=random_state)\n",
    "        train_negative = negative_data.sample(n=train_size, random_state=random_state)\n",
    "    else:\n",
    "        train_positive = positive_data.sample(n=train_size, random_state=random_state)\n",
    "        train_negative = negative_data.sample(n=train_size, replace=True, random_state=random_state)\n",
    "    \n",
    "    # Concatenate positive and negative samples for train and test sets\n",
    "    train_df = pd.concat([train_positive, train_negative], ignore_index=True)\n",
    "    test_df = pd.concat([test_positive, test_negative], ignore_index=True)\n",
    "    \n",
    "\n",
    "    \n",
    "    return train_df, test_df\n"
   ]
  },
  {
   "cell_type": "code",
   "execution_count": 16,
   "metadata": {},
   "outputs": [
    {
     "data": {
      "image/png": "[encoded data removed]",
      "text/plain": [
       "<Figure size 1000x600 with 1 Axes>"
      ]
     },
     "metadata": {},
     "output_type": "display_data"
    }
   ],
   "source": [
    "# Example usage:\n",
    "balanced_train_df, balanced_test_df = balance_data(df_complete, 'PHQ8_Binary', test_size=0.3, random_state=1)\n",
    "plot_phq8_distribution_shared([balanced_train_df, balanced_test_df], ['balanced_train_df', 'balanced_test_df'], ['Depressed', 'Non-depressed'])"
   ]
  },
  {
   "cell_type": "markdown",
   "metadata": {},
   "source": [
    "# Loading spectrograns"
   ]
  },
  {
   "cell_type": "code",
   "execution_count": 17,
   "metadata": {},
   "outputs": [],
   "source": [
    "def load_spectrogram(df):\n",
    "    # Define root path of data\n",
    "    root_path = 'd:/Sistema/Escritorio/Escritorio/Tesis/DAIC-WOZ/data'  # Replace with your root path\n",
    "\n",
    "    # Add the column for spectrogram if it doesn't exist\n",
    "    if 'Spectrogram' not in df.columns:\n",
    "        # Define the shape of the fixed tensor\n",
    "        tensor_shape = (292, 252, 3)  # Example shape (height, width, channels)\n",
    "\n",
    "        # Create a fixed tensor of zeros with the desired shape\n",
    "        fixed_tensor = np.zeros(tensor_shape, dtype=np.uint8)  # Adjust dtype as needed\n",
    "\n",
    "        # Initialize the 'Spectrogram' column with the fixed tensor\n",
    "        df['Spectrogram'] = [fixed_tensor.copy() for _ in range(len(df))]\n",
    "\n",
    "    # Handle missing values in 'Participant_ID' column\n",
    "    df['Participant_ID'] = pd.to_numeric(df['Participant_ID'], errors='coerce')\n",
    "\n",
    "    # Create an empty list to store modified rows\n",
    "    modified_rows = []\n",
    "    for index, row in df.iterrows():\n",
    "            if not pd.isnull(row['Participant_ID']):  # Check if Participant_ID is not NaN\n",
    "                participant_id = str(int(row['Participant_ID']))\n",
    "                folder_path = os.path.join(root_path, str(participant_id) + '_P/resized')\n",
    "                if os.path.isdir(folder_path):\n",
    "                    # Flag to check if the first spectrogram has been loaded\n",
    "                    first_loaded = False\n",
    "                    # Iterate over image files in the folder\n",
    "                    for image_file in glob.glob(os.path.join(folder_path, '*.jpg')):\n",
    "                        image_path = os.path.join(folder_path, image_file)\n",
    "                        if os.path.isfile(image_path):\n",
    "                            # If it's the first spectrogram, add it to the original row\n",
    "                            if not first_loaded:\n",
    "                                image = imageio.imread(image_path)\n",
    "                                row['Spectrogram'] = image\n",
    "                                modified_rows.append(row)  # Add the modified row to the list\n",
    "                                first_loaded = True\n",
    "                            else:\n",
    "                                # Create a copy of the original row\n",
    "                                new_row = row.copy()\n",
    "                                # Load the new image\n",
    "                                new_image = imageio.imread(image_path)\n",
    "                                # Assign the new image to the 'Spectrogram' column of the new row\n",
    "                                new_row['Spectrogram'] = new_image\n",
    "                                # Append the new row to the list\n",
    "                                modified_rows.append(new_row)\n",
    "                        else:\n",
    "                            print(f\"Image file not found at path {image_path}. Skipping...\")\n",
    "                else:\n",
    "                    print(f\"Folder not found at path {folder_path}. Skipping...\")\n",
    "                    raise Exception\n",
    "    # Concatenate the original DataFrame with the modified rows\n",
    "    #modified_df = pd.concat([df] + modified_rows, ignore_index=True)\n",
    "    modified_df = pd.DataFrame(modified_rows)\n",
    "    return modified_df\n",
    "    #return df\n"
   ]
  },
  {
   "cell_type": "code",
   "execution_count": 18,
   "metadata": {},
   "outputs": [
    {
     "data": {
      "image/png": "[encoded data removed]",
      "text/plain": [
       "<Figure size 1000x600 with 1 Axes>"
      ]
     },
     "metadata": {},
     "output_type": "display_data"
    }
   ],
   "source": [
    "# Load df_test spectrograms\n",
    "df_test_full = load_spectrogram(df_test_full)\n",
    "df_dev = load_spectrogram(df_dev)\n",
    "df_train = load_spectrogram(df_train)\n",
    "df_complete = load_spectrogram(df_complete)\n",
    "balanced_train_df = load_spectrogram(balanced_train_df)\n",
    "balanced_test_df = load_spectrogram(balanced_test_df)\n",
    "plot_phq8_distribution_shared([df_test_full, df_dev, df_train, df_complete, balanced_train_df, balanced_test_df], ['df_test_full', 'df_dev', 'df_train', 'df_complete', 'balanced_train_df', 'balanced_test_df'], ['Depressed', 'Non-depressed'])\n",
    "      \n"
   ]
  },
  {
   "cell_type": "markdown",
   "metadata": {},
   "source": [
    "# Verifying dataset and convertng to X and y "
   ]
  },
  {
   "cell_type": "code",
   "execution_count": 19,
   "metadata": {},
   "outputs": [
    {
     "data": {
      "image/png": "[encoded data removed]",
      "text/plain": [
       "<Figure size 1000x600 with 1 Axes>"
      ]
     },
     "metadata": {},
     "output_type": "display_data"
    }
   ],
   "source": [
    "plot_phq8_distribution_shared([balanced_train_df, balanced_test_df], ['balanced_train_df', 'balanced_test_df'], ['Depressed', 'Non-depressed'])"
   ]
  },
  {
   "cell_type": "code",
   "execution_count": 20,
   "metadata": {},
   "outputs": [],
   "source": [
    "X_train = np.array(balanced_train_df['Spectrogram'].tolist())\n",
    "y_train = balanced_train_df['PHQ8_Binary'].values\n",
    "\n",
    "X_test = np.array(balanced_test_df['Spectrogram'].tolist())\n",
    "y_test = balanced_test_df['PHQ8_Binary'].values"
   ]
  },
  {
   "cell_type": "markdown",
   "metadata": {},
   "source": [
    "# Training the model"
   ]
  },
  {
   "cell_type": "code",
   "execution_count": 30,
   "metadata": {},
   "outputs": [
    {
     "name": "stdout",
     "output_type": "stream",
     "text": [
      "------------------------------------------------------------------------\n",
      "Epoch 1/100\n",
      "117/117 [==============================] - 7s 53ms/step - loss: 10.3419 - accuracy: 0.7607 - precision_2: 0.7607\n",
      "Epoch 2/100\n",
      "117/117 [==============================] - 6s 52ms/step - loss: 0.0965 - accuracy: 0.9893 - precision_2: 0.9872\n",
      "Epoch 3/100\n",
      "117/117 [==============================] - 6s 53ms/step - loss: 0.0487 - accuracy: 0.9915 - precision_2: 0.9915\n",
      "Epoch 4/100\n",
      "117/117 [==============================] - 6s 51ms/step - loss: 7.3650e-06 - accuracy: 1.0000 - precision_2: 1.0000\n",
      "Epoch 5/100\n",
      "117/117 [==============================] - 6s 50ms/step - loss: 9.7003e-06 - accuracy: 1.0000 - precision_2: 1.0000\n",
      "Epoch 6/100\n",
      "117/117 [==============================] - 6s 50ms/step - loss: 9.4955e-05 - accuracy: 1.0000 - precision_2: 1.0000\n",
      "Epoch 7/100\n",
      "117/117 [==============================] - 6s 50ms/step - loss: 2.4000e-07 - accuracy: 1.0000 - precision_2: 1.0000\n"
     ]
    }
   ],
   "source": [
    "# Hiperparameters\n",
    "batch_size = 4\n",
    "no_epochs = 100\n",
    "verbosity = 1#2  # 1\n",
    "\n",
    "# for train, test in kfold.split(X_train, y_train):\n",
    "# Define the model architecture\n",
    "model = Sequential()\n",
    "# Convolutional block 1\n",
    "model.add(BatchNormalization())\n",
    "model.add(Conv2D(32, kernel_size=(3, 3), padding='same'))\n",
    "model.add(LeakyReLU(alpha=0.01))\n",
    "# Convolutional block 2\n",
    "model.add(BatchNormalization())\n",
    "model.add(Conv2D(8, (3, 3), padding='same'))\n",
    "model.add(LeakyReLU(alpha=0.01))\n",
    "# Convolutional block 3\n",
    "model.add(BatchNormalization())\n",
    "model.add(Conv2D(4, (3, 3), padding='same'))\n",
    "model.add(LeakyReLU(alpha=0.01))\n",
    "# Convolutional block 4\n",
    "model.add(BatchNormalization())\n",
    "model.add(Conv2D(4, (3, 3), padding='same'))\n",
    "model.add(LeakyReLU(alpha=0.01))\n",
    "\n",
    "model.add(Flatten())\n",
    "\n",
    "model.add(Dense(64))\n",
    "model.add(LeakyReLU(alpha=0.01))\n",
    "model.add(Dense(1, activation='sigmoid'))\n",
    "\n",
    "# Compile the model\n",
    "model.compile(optimizer='adam',\n",
    "                loss='binary_crossentropy',\n",
    "                metrics=['accuracy', tf.keras.metrics.Precision()])\n",
    "\n",
    "# Generate a print\n",
    "print('------------------------------------------------------------------------')\n",
    "\n",
    "callback = tf.keras.callbacks.EarlyStopping(monitor='loss',\n",
    "                                            patience=3,\n",
    "                                            min_delta=0.0001)\n",
    "\n",
    "# Fit data to model\n",
    "history = model.fit(X_train, y_train,\n",
    "                    batch_size=batch_size,\n",
    "                    epochs=no_epochs,\n",
    "                    verbose=verbosity,\n",
    "                    callbacks=[callback])\n",
    "\n",
    "\n",
    "\n"
   ]
  },
  {
   "cell_type": "markdown",
   "metadata": {},
   "source": [
    "## Diferente arquitectura"
   ]
  },
  {
   "cell_type": "code",
   "execution_count": 21,
   "metadata": {},
   "outputs": [
    {
     "name": "stdout",
     "output_type": "stream",
     "text": [
      "------------------------------------------------------------------------\n",
      "Epoch 1/100\n",
      "94/94 [==============================] - 27s 146ms/step - loss: 0.9864 - accuracy: 0.5187 - precision: 0.6436 - val_loss: 0.8692 - val_accuracy: 0.0638 - val_precision: 0.0000e+00 - lr: 0.0010\n",
      "Epoch 2/100\n",
      "94/94 [==============================] - 11s 122ms/step - loss: 0.7309 - accuracy: 0.6150 - precision: 0.6991 - val_loss: 0.8303 - val_accuracy: 0.1809 - val_precision: 0.0000e+00 - lr: 0.0010\n",
      "Epoch 3/100\n",
      "94/94 [==============================] - 5s 54ms/step - loss: 0.6165 - accuracy: 0.6872 - precision: 0.7511 - val_loss: 0.9685 - val_accuracy: 0.1277 - val_precision: 0.0000e+00 - lr: 0.0010\n",
      "Epoch 4/100\n",
      "94/94 [==============================] - 5s 52ms/step - loss: 0.4995 - accuracy: 0.7380 - precision: 0.7742 - val_loss: 1.0450 - val_accuracy: 0.1383 - val_precision: 0.0000e+00 - lr: 0.0010\n",
      "Epoch 5/100\n",
      "94/94 [==============================] - 5s 53ms/step - loss: 0.5256 - accuracy: 0.7299 - precision: 0.8009 - val_loss: 1.2258 - val_accuracy: 0.1702 - val_precision: 0.0000e+00 - lr: 0.0010\n",
      "Epoch 6/100\n",
      "94/94 [==============================] - 5s 57ms/step - loss: 0.3904 - accuracy: 0.8075 - precision: 0.8347 - val_loss: 1.2546 - val_accuracy: 0.1809 - val_precision: 0.0000e+00 - lr: 1.0000e-04\n",
      "Epoch 7/100\n",
      "94/94 [==============================] - 5s 58ms/step - loss: 0.4488 - accuracy: 0.7727 - precision: 0.8066 - val_loss: 1.2548 - val_accuracy: 0.2021 - val_precision: 0.0000e+00 - lr: 1.0000e-04\n"
     ]
    }
   ],
   "source": [
    "from tensorflow.keras.layers import BatchNormalization, Conv2D, LeakyReLU, MaxPooling2D, Dropout, Flatten, Dense\n",
    "from tensorflow.keras.optimizers import Adam, Adadelta\n",
    "import tensorflow as tf\n",
    "# Hiperparameters\n",
    "batch_size = 4\n",
    "no_epochs = 100\n",
    "verbosity = 1#2  # 1\n",
    "input_shape = (252,792,3)\n",
    "\n",
    "# for train, test in kfold.split(X_train, y_train):\n",
    "# Define the model architecture\n",
    "model = Sequential()\n",
    "model.add(BatchNormalization(input_shape=(input_shape)))  # Especifica input_shape\n",
    "model.add(Conv2D(32, kernel_size=(3, 3), padding='same'))\n",
    "model.add(LeakyReLU(alpha=0.01))\n",
    "model.add(MaxPooling2D(pool_size=(2, 2)))\n",
    "model.add(BatchNormalization())\n",
    "\n",
    "model.add(Conv2D(64, kernel_size=(3, 3), padding='same'))\n",
    "model.add(LeakyReLU(alpha=0.01))\n",
    "model.add(MaxPooling2D(pool_size=(2, 2)))\n",
    "model.add(BatchNormalization())\n",
    "\n",
    "model.add(Conv2D(128, kernel_size=(3, 3), padding='same'))\n",
    "model.add(LeakyReLU(alpha=0.01))\n",
    "model.add(MaxPooling2D(pool_size=(2, 2)))\n",
    "model.add(BatchNormalization())\n",
    "\n",
    "model.add(Flatten())\n",
    "model.add(Dense(128))\n",
    "model.add(LeakyReLU(alpha=0.01))\n",
    "model.add(Dropout(0.5))\n",
    "model.add(Dense(64))\n",
    "model.add(LeakyReLU(alpha=0.01))\n",
    "model.add(Dropout(0.5))\n",
    "model.add(Dense(1, activation='sigmoid'))\n",
    "\n",
    "# Compile the model\n",
    "model.compile(optimizer=Adadelta(learning_rate=0.001), \n",
    "                loss='binary_crossentropy',\n",
    "                metrics=['accuracy', tf.keras.metrics.Precision()])\n",
    "\n",
    "# Generate a print\n",
    "print('------------------------------------------------------------------------')\n",
    "\n",
    "callback = tf.keras.callbacks.EarlyStopping(monitor='loss',\n",
    "                                            patience=3,\n",
    "                                            min_delta=0.0001)\n",
    "\n",
    "\n",
    "history = model.fit(X_train,\n",
    "    y_train, \n",
    "    batch_size=batch_size, \n",
    "    epochs=no_epochs, \n",
    "    verbose=verbosity, \n",
    "    validation_split=0.2,\n",
    "    callbacks=[\n",
    "        tf.keras.callbacks.EarlyStopping(monitor='val_loss', patience=5, restore_best_weights=True),\n",
    "        tf.keras.callbacks.ModelCheckpoint('best_model.h5', save_best_only=True),\n",
    "        tf.keras.callbacks.ReduceLROnPlateau(monitor='val_loss', factor=0.1, patience=3)\n",
    "            ])\n",
    "\n",
    "\n",
    "\n"
   ]
  },
  {
   "cell_type": "markdown",
   "metadata": {},
   "source": [
    "# Regresión lineal con DL\n"
   ]
  },
  {
   "cell_type": "code",
   "execution_count": 36,
   "metadata": {},
   "outputs": [
    {
     "name": "stdout",
     "output_type": "stream",
     "text": [
      "Epoch 1/100\n",
      "93/94 [============================>.] - ETA: 0s - loss: 6189.3984 - mean_absolute_error: 48.1258"
     ]
    },
    {
     "ename": "KeyboardInterrupt",
     "evalue": "",
     "output_type": "error",
     "traceback": [
      "\u001b[1;31m---------------------------------------------------------------------------\u001b[0m",
      "\u001b[1;31mKeyboardInterrupt\u001b[0m                         Traceback (most recent call last)",
      "Cell \u001b[1;32mIn[36], line 37\u001b[0m\n\u001b[0;32m     32\u001b[0m model\u001b[38;5;241m.\u001b[39mcompile(optimizer\u001b[38;5;241m=\u001b[39mAdam(learning_rate\u001b[38;5;241m=\u001b[39m\u001b[38;5;241m0.001\u001b[39m), \n\u001b[0;32m     33\u001b[0m               loss\u001b[38;5;241m=\u001b[39m\u001b[38;5;124m'\u001b[39m\u001b[38;5;124mmean_squared_error\u001b[39m\u001b[38;5;124m'\u001b[39m,  \u001b[38;5;66;03m# Función de pérdida para regresión\u001b[39;00m\n\u001b[0;32m     34\u001b[0m               metrics\u001b[38;5;241m=\u001b[39m[\u001b[38;5;124m'\u001b[39m\u001b[38;5;124mmean_absolute_error\u001b[39m\u001b[38;5;124m'\u001b[39m])  \u001b[38;5;66;03m# Métrica adicional para regresión\u001b[39;00m\n\u001b[0;32m     36\u001b[0m \u001b[38;5;66;03m# Ajustar el modelo en los datos de entrenamiento aumentados\u001b[39;00m\n\u001b[1;32m---> 37\u001b[0m \u001b[43mmodel\u001b[49m\u001b[38;5;241;43m.\u001b[39;49m\u001b[43mfit\u001b[49m\u001b[43m(\u001b[49m\u001b[43mX_train\u001b[49m\u001b[43m,\u001b[49m\n\u001b[0;32m     38\u001b[0m \u001b[43m          \u001b[49m\u001b[43my_train\u001b[49m\u001b[43m,\u001b[49m\u001b[43m \u001b[49m\n\u001b[0;32m     39\u001b[0m \u001b[43m          \u001b[49m\u001b[43mbatch_size\u001b[49m\u001b[38;5;241;43m=\u001b[39;49m\u001b[43mbatch_size\u001b[49m\u001b[43m,\u001b[49m\u001b[43m \u001b[49m\n\u001b[0;32m     40\u001b[0m \u001b[43m          \u001b[49m\u001b[43mepochs\u001b[49m\u001b[38;5;241;43m=\u001b[39;49m\u001b[43mno_epochs\u001b[49m\u001b[43m,\u001b[49m\u001b[43m \u001b[49m\n\u001b[0;32m     41\u001b[0m \u001b[43m          \u001b[49m\u001b[43mverbose\u001b[49m\u001b[38;5;241;43m=\u001b[39;49m\u001b[43mverbosity\u001b[49m\u001b[43m,\u001b[49m\u001b[43m \u001b[49m\n\u001b[0;32m     42\u001b[0m \u001b[43m          \u001b[49m\u001b[43mvalidation_split\u001b[49m\u001b[38;5;241;43m=\u001b[39;49m\u001b[38;5;241;43m0.2\u001b[39;49m\u001b[43m,\u001b[49m\n\u001b[0;32m     43\u001b[0m \u001b[43m          \u001b[49m\u001b[43mcallbacks\u001b[49m\u001b[38;5;241;43m=\u001b[39;49m\u001b[43m[\u001b[49m\n\u001b[0;32m     44\u001b[0m \u001b[43m              \u001b[49m\u001b[43mtf\u001b[49m\u001b[38;5;241;43m.\u001b[39;49m\u001b[43mkeras\u001b[49m\u001b[38;5;241;43m.\u001b[39;49m\u001b[43mcallbacks\u001b[49m\u001b[38;5;241;43m.\u001b[39;49m\u001b[43mEarlyStopping\u001b[49m\u001b[43m(\u001b[49m\u001b[43mmonitor\u001b[49m\u001b[38;5;241;43m=\u001b[39;49m\u001b[38;5;124;43m'\u001b[39;49m\u001b[38;5;124;43mval_loss\u001b[39;49m\u001b[38;5;124;43m'\u001b[39;49m\u001b[43m,\u001b[49m\u001b[43m \u001b[49m\u001b[43mpatience\u001b[49m\u001b[38;5;241;43m=\u001b[39;49m\u001b[38;5;241;43m5\u001b[39;49m\u001b[43m,\u001b[49m\u001b[43m \u001b[49m\u001b[43mrestore_best_weights\u001b[49m\u001b[38;5;241;43m=\u001b[39;49m\u001b[38;5;28;43;01mTrue\u001b[39;49;00m\u001b[43m)\u001b[49m\u001b[43m,\u001b[49m\n\u001b[0;32m     45\u001b[0m \u001b[43m              \u001b[49m\u001b[43mtf\u001b[49m\u001b[38;5;241;43m.\u001b[39;49m\u001b[43mkeras\u001b[49m\u001b[38;5;241;43m.\u001b[39;49m\u001b[43mcallbacks\u001b[49m\u001b[38;5;241;43m.\u001b[39;49m\u001b[43mModelCheckpoint\u001b[49m\u001b[43m(\u001b[49m\u001b[38;5;124;43m'\u001b[39;49m\u001b[38;5;124;43mbest_model.h5\u001b[39;49m\u001b[38;5;124;43m'\u001b[39;49m\u001b[43m,\u001b[49m\u001b[43m \u001b[49m\u001b[43msave_best_only\u001b[49m\u001b[38;5;241;43m=\u001b[39;49m\u001b[38;5;28;43;01mTrue\u001b[39;49;00m\u001b[43m)\u001b[49m\u001b[43m,\u001b[49m\n\u001b[0;32m     46\u001b[0m \u001b[43m              \u001b[49m\u001b[43mtf\u001b[49m\u001b[38;5;241;43m.\u001b[39;49m\u001b[43mkeras\u001b[49m\u001b[38;5;241;43m.\u001b[39;49m\u001b[43mcallbacks\u001b[49m\u001b[38;5;241;43m.\u001b[39;49m\u001b[43mReduceLROnPlateau\u001b[49m\u001b[43m(\u001b[49m\u001b[43mmonitor\u001b[49m\u001b[38;5;241;43m=\u001b[39;49m\u001b[38;5;124;43m'\u001b[39;49m\u001b[38;5;124;43mval_loss\u001b[39;49m\u001b[38;5;124;43m'\u001b[39;49m\u001b[43m,\u001b[49m\u001b[43m \u001b[49m\u001b[43mfactor\u001b[49m\u001b[38;5;241;43m=\u001b[39;49m\u001b[38;5;241;43m0.1\u001b[39;49m\u001b[43m,\u001b[49m\u001b[43m \u001b[49m\u001b[43mpatience\u001b[49m\u001b[38;5;241;43m=\u001b[39;49m\u001b[38;5;241;43m3\u001b[39;49m\u001b[43m)\u001b[49m\n\u001b[0;32m     47\u001b[0m \u001b[43m          \u001b[49m\u001b[43m]\u001b[49m\u001b[43m)\u001b[49m\n",
      "File \u001b[1;32mc:\\Users\\herna\\anaconda3\\envs\\SpectroCNN\\lib\\site-packages\\keras\\utils\\traceback_utils.py:65\u001b[0m, in \u001b[0;36mfilter_traceback.<locals>.error_handler\u001b[1;34m(*args, **kwargs)\u001b[0m\n\u001b[0;32m     63\u001b[0m filtered_tb \u001b[38;5;241m=\u001b[39m \u001b[38;5;28;01mNone\u001b[39;00m\n\u001b[0;32m     64\u001b[0m \u001b[38;5;28;01mtry\u001b[39;00m:\n\u001b[1;32m---> 65\u001b[0m     \u001b[38;5;28;01mreturn\u001b[39;00m fn(\u001b[38;5;241m*\u001b[39margs, \u001b[38;5;241m*\u001b[39m\u001b[38;5;241m*\u001b[39mkwargs)\n\u001b[0;32m     66\u001b[0m \u001b[38;5;28;01mexcept\u001b[39;00m \u001b[38;5;167;01mException\u001b[39;00m \u001b[38;5;28;01mas\u001b[39;00m e:\n\u001b[0;32m     67\u001b[0m     filtered_tb \u001b[38;5;241m=\u001b[39m _process_traceback_frames(e\u001b[38;5;241m.\u001b[39m__traceback__)\n",
      "File \u001b[1;32mc:\\Users\\herna\\anaconda3\\envs\\SpectroCNN\\lib\\site-packages\\keras\\engine\\training.py:1624\u001b[0m, in \u001b[0;36mModel.fit\u001b[1;34m(self, x, y, batch_size, epochs, verbose, callbacks, validation_split, validation_data, shuffle, class_weight, sample_weight, initial_epoch, steps_per_epoch, validation_steps, validation_batch_size, validation_freq, max_queue_size, workers, use_multiprocessing)\u001b[0m\n\u001b[0;32m   1619\u001b[0m     val_logs \u001b[38;5;241m=\u001b[39m {\n\u001b[0;32m   1620\u001b[0m         \u001b[38;5;124m\"\u001b[39m\u001b[38;5;124mval_\u001b[39m\u001b[38;5;124m\"\u001b[39m \u001b[38;5;241m+\u001b[39m name: val \u001b[38;5;28;01mfor\u001b[39;00m name, val \u001b[38;5;129;01min\u001b[39;00m val_logs\u001b[38;5;241m.\u001b[39mitems()\n\u001b[0;32m   1621\u001b[0m     }\n\u001b[0;32m   1622\u001b[0m     epoch_logs\u001b[38;5;241m.\u001b[39mupdate(val_logs)\n\u001b[1;32m-> 1624\u001b[0m \u001b[43mcallbacks\u001b[49m\u001b[38;5;241;43m.\u001b[39;49m\u001b[43mon_epoch_end\u001b[49m\u001b[43m(\u001b[49m\u001b[43mepoch\u001b[49m\u001b[43m,\u001b[49m\u001b[43m \u001b[49m\u001b[43mepoch_logs\u001b[49m\u001b[43m)\u001b[49m\n\u001b[0;32m   1625\u001b[0m training_logs \u001b[38;5;241m=\u001b[39m epoch_logs\n\u001b[0;32m   1626\u001b[0m \u001b[38;5;28;01mif\u001b[39;00m \u001b[38;5;28mself\u001b[39m\u001b[38;5;241m.\u001b[39mstop_training:\n",
      "File \u001b[1;32mc:\\Users\\herna\\anaconda3\\envs\\SpectroCNN\\lib\\site-packages\\keras\\callbacks.py:448\u001b[0m, in \u001b[0;36mCallbackList.on_epoch_end\u001b[1;34m(self, epoch, logs)\u001b[0m\n\u001b[0;32m    446\u001b[0m logs \u001b[38;5;241m=\u001b[39m \u001b[38;5;28mself\u001b[39m\u001b[38;5;241m.\u001b[39m_process_logs(logs)\n\u001b[0;32m    447\u001b[0m \u001b[38;5;28;01mfor\u001b[39;00m callback \u001b[38;5;129;01min\u001b[39;00m \u001b[38;5;28mself\u001b[39m\u001b[38;5;241m.\u001b[39mcallbacks:\n\u001b[1;32m--> 448\u001b[0m     \u001b[43mcallback\u001b[49m\u001b[38;5;241;43m.\u001b[39;49m\u001b[43mon_epoch_end\u001b[49m\u001b[43m(\u001b[49m\u001b[43mepoch\u001b[49m\u001b[43m,\u001b[49m\u001b[43m \u001b[49m\u001b[43mlogs\u001b[49m\u001b[43m)\u001b[49m\n",
      "File \u001b[1;32mc:\\Users\\herna\\anaconda3\\envs\\SpectroCNN\\lib\\site-packages\\keras\\callbacks.py:1463\u001b[0m, in \u001b[0;36mModelCheckpoint.on_epoch_end\u001b[1;34m(self, epoch, logs)\u001b[0m\n\u001b[0;32m   1460\u001b[0m \u001b[38;5;28mself\u001b[39m\u001b[38;5;241m.\u001b[39mepochs_since_last_save \u001b[38;5;241m+\u001b[39m\u001b[38;5;241m=\u001b[39m \u001b[38;5;241m1\u001b[39m\n\u001b[0;32m   1462\u001b[0m \u001b[38;5;28;01mif\u001b[39;00m \u001b[38;5;28mself\u001b[39m\u001b[38;5;241m.\u001b[39msave_freq \u001b[38;5;241m==\u001b[39m \u001b[38;5;124m\"\u001b[39m\u001b[38;5;124mepoch\u001b[39m\u001b[38;5;124m\"\u001b[39m:\n\u001b[1;32m-> 1463\u001b[0m     \u001b[38;5;28;43mself\u001b[39;49m\u001b[38;5;241;43m.\u001b[39;49m\u001b[43m_save_model\u001b[49m\u001b[43m(\u001b[49m\u001b[43mepoch\u001b[49m\u001b[38;5;241;43m=\u001b[39;49m\u001b[43mepoch\u001b[49m\u001b[43m,\u001b[49m\u001b[43m \u001b[49m\u001b[43mbatch\u001b[49m\u001b[38;5;241;43m=\u001b[39;49m\u001b[38;5;28;43;01mNone\u001b[39;49;00m\u001b[43m,\u001b[49m\u001b[43m \u001b[49m\u001b[43mlogs\u001b[49m\u001b[38;5;241;43m=\u001b[39;49m\u001b[43mlogs\u001b[49m\u001b[43m)\u001b[49m\n",
      "File \u001b[1;32mc:\\Users\\herna\\anaconda3\\envs\\SpectroCNN\\lib\\site-packages\\keras\\callbacks.py:1528\u001b[0m, in \u001b[0;36mModelCheckpoint._save_model\u001b[1;34m(self, epoch, batch, logs)\u001b[0m\n\u001b[0;32m   1522\u001b[0m         \u001b[38;5;28mself\u001b[39m\u001b[38;5;241m.\u001b[39mmodel\u001b[38;5;241m.\u001b[39msave_weights(\n\u001b[0;32m   1523\u001b[0m             filepath,\n\u001b[0;32m   1524\u001b[0m             overwrite\u001b[38;5;241m=\u001b[39m\u001b[38;5;28;01mTrue\u001b[39;00m,\n\u001b[0;32m   1525\u001b[0m             options\u001b[38;5;241m=\u001b[39m\u001b[38;5;28mself\u001b[39m\u001b[38;5;241m.\u001b[39m_options,\n\u001b[0;32m   1526\u001b[0m         )\n\u001b[0;32m   1527\u001b[0m     \u001b[38;5;28;01melse\u001b[39;00m:\n\u001b[1;32m-> 1528\u001b[0m         \u001b[38;5;28;43mself\u001b[39;49m\u001b[38;5;241;43m.\u001b[39;49m\u001b[43mmodel\u001b[49m\u001b[38;5;241;43m.\u001b[39;49m\u001b[43msave\u001b[49m\u001b[43m(\u001b[49m\n\u001b[0;32m   1529\u001b[0m \u001b[43m            \u001b[49m\u001b[43mfilepath\u001b[49m\u001b[43m,\u001b[49m\n\u001b[0;32m   1530\u001b[0m \u001b[43m            \u001b[49m\u001b[43moverwrite\u001b[49m\u001b[38;5;241;43m=\u001b[39;49m\u001b[38;5;28;43;01mTrue\u001b[39;49;00m\u001b[43m,\u001b[49m\n\u001b[0;32m   1531\u001b[0m \u001b[43m            \u001b[49m\u001b[43moptions\u001b[49m\u001b[38;5;241;43m=\u001b[39;49m\u001b[38;5;28;43mself\u001b[39;49m\u001b[38;5;241;43m.\u001b[39;49m\u001b[43m_options\u001b[49m\u001b[43m,\u001b[49m\n\u001b[0;32m   1532\u001b[0m \u001b[43m        \u001b[49m\u001b[43m)\u001b[49m\n\u001b[0;32m   1533\u001b[0m \u001b[38;5;28;01melse\u001b[39;00m:\n\u001b[0;32m   1534\u001b[0m     \u001b[38;5;28;01mif\u001b[39;00m \u001b[38;5;28mself\u001b[39m\u001b[38;5;241m.\u001b[39mverbose \u001b[38;5;241m>\u001b[39m \u001b[38;5;241m0\u001b[39m:\n",
      "File \u001b[1;32mc:\\Users\\herna\\anaconda3\\envs\\SpectroCNN\\lib\\site-packages\\keras\\utils\\traceback_utils.py:65\u001b[0m, in \u001b[0;36mfilter_traceback.<locals>.error_handler\u001b[1;34m(*args, **kwargs)\u001b[0m\n\u001b[0;32m     63\u001b[0m filtered_tb \u001b[38;5;241m=\u001b[39m \u001b[38;5;28;01mNone\u001b[39;00m\n\u001b[0;32m     64\u001b[0m \u001b[38;5;28;01mtry\u001b[39;00m:\n\u001b[1;32m---> 65\u001b[0m     \u001b[38;5;28;01mreturn\u001b[39;00m fn(\u001b[38;5;241m*\u001b[39margs, \u001b[38;5;241m*\u001b[39m\u001b[38;5;241m*\u001b[39mkwargs)\n\u001b[0;32m     66\u001b[0m \u001b[38;5;28;01mexcept\u001b[39;00m \u001b[38;5;167;01mException\u001b[39;00m \u001b[38;5;28;01mas\u001b[39;00m e:\n\u001b[0;32m     67\u001b[0m     filtered_tb \u001b[38;5;241m=\u001b[39m _process_traceback_frames(e\u001b[38;5;241m.\u001b[39m__traceback__)\n",
      "File \u001b[1;32mc:\\Users\\herna\\anaconda3\\envs\\SpectroCNN\\lib\\site-packages\\keras\\engine\\training.py:2698\u001b[0m, in \u001b[0;36mModel.save\u001b[1;34m(self, filepath, overwrite, include_optimizer, save_format, signatures, options, save_traces)\u001b[0m\n\u001b[0;32m   2643\u001b[0m \u001b[38;5;129m@traceback_utils\u001b[39m\u001b[38;5;241m.\u001b[39mfilter_traceback\n\u001b[0;32m   2644\u001b[0m \u001b[38;5;28;01mdef\u001b[39;00m \u001b[38;5;21msave\u001b[39m(\n\u001b[0;32m   2645\u001b[0m     \u001b[38;5;28mself\u001b[39m,\n\u001b[1;32m   (...)\u001b[0m\n\u001b[0;32m   2652\u001b[0m     save_traces\u001b[38;5;241m=\u001b[39m\u001b[38;5;28;01mTrue\u001b[39;00m,\n\u001b[0;32m   2653\u001b[0m ):\n\u001b[0;32m   2655\u001b[0m \u001b[38;5;250m    \u001b[39m\u001b[38;5;124;03m\"\"\"Saves the model to Tensorflow SavedModel or a single HDF5 file.\u001b[39;00m\n\u001b[0;32m   2656\u001b[0m \n\u001b[0;32m   2657\u001b[0m \u001b[38;5;124;03m    Please see `tf.keras.models.save_model` or the\u001b[39;00m\n\u001b[1;32m   (...)\u001b[0m\n\u001b[0;32m   2695\u001b[0m \u001b[38;5;124;03m    ```\u001b[39;00m\n\u001b[0;32m   2696\u001b[0m \u001b[38;5;124;03m    \"\"\"\u001b[39;00m\n\u001b[1;32m-> 2698\u001b[0m     \u001b[43msave\u001b[49m\u001b[38;5;241;43m.\u001b[39;49m\u001b[43msave_model\u001b[49m\u001b[43m(\u001b[49m\n\u001b[0;32m   2699\u001b[0m \u001b[43m        \u001b[49m\u001b[38;5;28;43mself\u001b[39;49m\u001b[43m,\u001b[49m\n\u001b[0;32m   2700\u001b[0m \u001b[43m        \u001b[49m\u001b[43mfilepath\u001b[49m\u001b[43m,\u001b[49m\n\u001b[0;32m   2701\u001b[0m \u001b[43m        \u001b[49m\u001b[43moverwrite\u001b[49m\u001b[43m,\u001b[49m\n\u001b[0;32m   2702\u001b[0m \u001b[43m        \u001b[49m\u001b[43minclude_optimizer\u001b[49m\u001b[43m,\u001b[49m\n\u001b[0;32m   2703\u001b[0m \u001b[43m        \u001b[49m\u001b[43msave_format\u001b[49m\u001b[43m,\u001b[49m\n\u001b[0;32m   2704\u001b[0m \u001b[43m        \u001b[49m\u001b[43msignatures\u001b[49m\u001b[43m,\u001b[49m\n\u001b[0;32m   2705\u001b[0m \u001b[43m        \u001b[49m\u001b[43moptions\u001b[49m\u001b[43m,\u001b[49m\n\u001b[0;32m   2706\u001b[0m \u001b[43m        \u001b[49m\u001b[43msave_traces\u001b[49m\u001b[43m,\u001b[49m\n\u001b[0;32m   2707\u001b[0m \u001b[43m    \u001b[49m\u001b[43m)\u001b[49m\n",
      "File \u001b[1;32mc:\\Users\\herna\\anaconda3\\envs\\SpectroCNN\\lib\\site-packages\\keras\\utils\\traceback_utils.py:65\u001b[0m, in \u001b[0;36mfilter_traceback.<locals>.error_handler\u001b[1;34m(*args, **kwargs)\u001b[0m\n\u001b[0;32m     63\u001b[0m filtered_tb \u001b[38;5;241m=\u001b[39m \u001b[38;5;28;01mNone\u001b[39;00m\n\u001b[0;32m     64\u001b[0m \u001b[38;5;28;01mtry\u001b[39;00m:\n\u001b[1;32m---> 65\u001b[0m     \u001b[38;5;28;01mreturn\u001b[39;00m fn(\u001b[38;5;241m*\u001b[39margs, \u001b[38;5;241m*\u001b[39m\u001b[38;5;241m*\u001b[39mkwargs)\n\u001b[0;32m     66\u001b[0m \u001b[38;5;28;01mexcept\u001b[39;00m \u001b[38;5;167;01mException\u001b[39;00m \u001b[38;5;28;01mas\u001b[39;00m e:\n\u001b[0;32m     67\u001b[0m     filtered_tb \u001b[38;5;241m=\u001b[39m _process_traceback_frames(e\u001b[38;5;241m.\u001b[39m__traceback__)\n",
      "File \u001b[1;32mc:\\Users\\herna\\anaconda3\\envs\\SpectroCNN\\lib\\site-packages\\keras\\saving\\save.py:161\u001b[0m, in \u001b[0;36msave_model\u001b[1;34m(model, filepath, overwrite, include_optimizer, save_format, signatures, options, save_traces)\u001b[0m\n\u001b[0;32m    150\u001b[0m     \u001b[38;5;28;01mif\u001b[39;00m \u001b[38;5;129;01mnot\u001b[39;00m model\u001b[38;5;241m.\u001b[39m_is_graph_network \u001b[38;5;129;01mand\u001b[39;00m \u001b[38;5;129;01mnot\u001b[39;00m \u001b[38;5;28misinstance\u001b[39m(\n\u001b[0;32m    151\u001b[0m         model, sequential\u001b[38;5;241m.\u001b[39mSequential\n\u001b[0;32m    152\u001b[0m     ):\n\u001b[0;32m    153\u001b[0m         \u001b[38;5;28;01mraise\u001b[39;00m \u001b[38;5;167;01mNotImplementedError\u001b[39;00m(\n\u001b[0;32m    154\u001b[0m             \u001b[38;5;124m\"\u001b[39m\u001b[38;5;124mSaving the model to HDF5 format requires the model to be a \u001b[39m\u001b[38;5;124m\"\u001b[39m\n\u001b[0;32m    155\u001b[0m             \u001b[38;5;124m\"\u001b[39m\u001b[38;5;124mFunctional model or a Sequential model. It does not work for \u001b[39m\u001b[38;5;124m\"\u001b[39m\n\u001b[1;32m   (...)\u001b[0m\n\u001b[0;32m    159\u001b[0m             \u001b[38;5;124m'\u001b[39m\u001b[38;5;124msetting save_format=\u001b[39m\u001b[38;5;124m\"\u001b[39m\u001b[38;5;124mtf\u001b[39m\u001b[38;5;124m\"\u001b[39m\u001b[38;5;124m) or using `save_weights`.\u001b[39m\u001b[38;5;124m'\u001b[39m\n\u001b[0;32m    160\u001b[0m         )\n\u001b[1;32m--> 161\u001b[0m     \u001b[43mhdf5_format\u001b[49m\u001b[38;5;241;43m.\u001b[39;49m\u001b[43msave_model_to_hdf5\u001b[49m\u001b[43m(\u001b[49m\n\u001b[0;32m    162\u001b[0m \u001b[43m        \u001b[49m\u001b[43mmodel\u001b[49m\u001b[43m,\u001b[49m\u001b[43m \u001b[49m\u001b[43mfilepath\u001b[49m\u001b[43m,\u001b[49m\u001b[43m \u001b[49m\u001b[43moverwrite\u001b[49m\u001b[43m,\u001b[49m\u001b[43m \u001b[49m\u001b[43minclude_optimizer\u001b[49m\n\u001b[0;32m    163\u001b[0m \u001b[43m    \u001b[49m\u001b[43m)\u001b[49m\n\u001b[0;32m    164\u001b[0m \u001b[38;5;28;01melse\u001b[39;00m:\n\u001b[0;32m    165\u001b[0m     \u001b[38;5;28;01mwith\u001b[39;00m generic_utils\u001b[38;5;241m.\u001b[39mSharedObjectSavingScope():\n",
      "File \u001b[1;32mc:\\Users\\herna\\anaconda3\\envs\\SpectroCNN\\lib\\site-packages\\keras\\saving\\hdf5_format.py:141\u001b[0m, in \u001b[0;36msave_model_to_hdf5\u001b[1;34m(model, filepath, overwrite, include_optimizer)\u001b[0m\n\u001b[0;32m    131\u001b[0m         logging\u001b[38;5;241m.\u001b[39mwarning(\n\u001b[0;32m    132\u001b[0m             \u001b[38;5;124m\"\u001b[39m\u001b[38;5;124mHDF5 format does not save weights of\u001b[39m\u001b[38;5;124m\"\u001b[39m\n\u001b[0;32m    133\u001b[0m             \u001b[38;5;124m\"\u001b[39m\u001b[38;5;124m `optimizer_experimental.Optimizer`, your optimizer will\u001b[39m\u001b[38;5;124m\"\u001b[39m\n\u001b[0;32m    134\u001b[0m             \u001b[38;5;124m\"\u001b[39m\u001b[38;5;124m be recompiled at loading time.\u001b[39m\u001b[38;5;124m\"\u001b[39m\n\u001b[0;32m    135\u001b[0m         )\n\u001b[0;32m    136\u001b[0m     \u001b[38;5;28;01melif\u001b[39;00m (\n\u001b[0;32m    137\u001b[0m         include_optimizer\n\u001b[0;32m    138\u001b[0m         \u001b[38;5;129;01mand\u001b[39;00m model\u001b[38;5;241m.\u001b[39moptimizer\n\u001b[0;32m    139\u001b[0m         \u001b[38;5;129;01mand\u001b[39;00m \u001b[38;5;129;01mnot\u001b[39;00m \u001b[38;5;28misinstance\u001b[39m(model\u001b[38;5;241m.\u001b[39moptimizer, optimizer_v1\u001b[38;5;241m.\u001b[39mTFOptimizer)\n\u001b[0;32m    140\u001b[0m     ):\n\u001b[1;32m--> 141\u001b[0m         \u001b[43msave_optimizer_weights_to_hdf5_group\u001b[49m\u001b[43m(\u001b[49m\u001b[43mf\u001b[49m\u001b[43m,\u001b[49m\u001b[43m \u001b[49m\u001b[43mmodel\u001b[49m\u001b[38;5;241;43m.\u001b[39;49m\u001b[43moptimizer\u001b[49m\u001b[43m)\u001b[49m\n\u001b[0;32m    143\u001b[0m     f\u001b[38;5;241m.\u001b[39mflush()\n\u001b[0;32m    144\u001b[0m \u001b[38;5;28;01mfinally\u001b[39;00m:\n",
      "File \u001b[1;32mc:\\Users\\herna\\anaconda3\\envs\\SpectroCNN\\lib\\site-packages\\keras\\saving\\hdf5_format.py:686\u001b[0m, in \u001b[0;36msave_optimizer_weights_to_hdf5_group\u001b[1;34m(hdf5_group, optimizer)\u001b[0m\n\u001b[0;32m    682\u001b[0m weight_names \u001b[38;5;241m=\u001b[39m [\u001b[38;5;28mstr\u001b[39m(w\u001b[38;5;241m.\u001b[39mname)\u001b[38;5;241m.\u001b[39mencode(\u001b[38;5;124m\"\u001b[39m\u001b[38;5;124mutf8\u001b[39m\u001b[38;5;124m\"\u001b[39m) \u001b[38;5;28;01mfor\u001b[39;00m w \u001b[38;5;129;01min\u001b[39;00m symbolic_weights]\n\u001b[0;32m    683\u001b[0m save_attributes_to_hdf5_group(\n\u001b[0;32m    684\u001b[0m     weights_group, \u001b[38;5;124m\"\u001b[39m\u001b[38;5;124mweight_names\u001b[39m\u001b[38;5;124m\"\u001b[39m, weight_names\n\u001b[0;32m    685\u001b[0m )\n\u001b[1;32m--> 686\u001b[0m weight_values \u001b[38;5;241m=\u001b[39m \u001b[43mbackend\u001b[49m\u001b[38;5;241;43m.\u001b[39;49m\u001b[43mbatch_get_value\u001b[49m\u001b[43m(\u001b[49m\u001b[43msymbolic_weights\u001b[49m\u001b[43m)\u001b[49m\n\u001b[0;32m    687\u001b[0m \u001b[38;5;28;01mfor\u001b[39;00m name, val \u001b[38;5;129;01min\u001b[39;00m \u001b[38;5;28mzip\u001b[39m(weight_names, weight_values):\n\u001b[0;32m    688\u001b[0m     param_dset \u001b[38;5;241m=\u001b[39m weights_group\u001b[38;5;241m.\u001b[39mcreate_dataset(\n\u001b[0;32m    689\u001b[0m         name, val\u001b[38;5;241m.\u001b[39mshape, dtype\u001b[38;5;241m=\u001b[39mval\u001b[38;5;241m.\u001b[39mdtype\n\u001b[0;32m    690\u001b[0m     )\n",
      "File \u001b[1;32mc:\\Users\\herna\\anaconda3\\envs\\SpectroCNN\\lib\\site-packages\\tensorflow\\python\\util\\traceback_utils.py:150\u001b[0m, in \u001b[0;36mfilter_traceback.<locals>.error_handler\u001b[1;34m(*args, **kwargs)\u001b[0m\n\u001b[0;32m    148\u001b[0m filtered_tb \u001b[38;5;241m=\u001b[39m \u001b[38;5;28;01mNone\u001b[39;00m\n\u001b[0;32m    149\u001b[0m \u001b[38;5;28;01mtry\u001b[39;00m:\n\u001b[1;32m--> 150\u001b[0m   \u001b[38;5;28;01mreturn\u001b[39;00m fn(\u001b[38;5;241m*\u001b[39margs, \u001b[38;5;241m*\u001b[39m\u001b[38;5;241m*\u001b[39mkwargs)\n\u001b[0;32m    151\u001b[0m \u001b[38;5;28;01mexcept\u001b[39;00m \u001b[38;5;167;01mException\u001b[39;00m \u001b[38;5;28;01mas\u001b[39;00m e:\n\u001b[0;32m    152\u001b[0m   filtered_tb \u001b[38;5;241m=\u001b[39m _process_traceback_frames(e\u001b[38;5;241m.\u001b[39m__traceback__)\n",
      "File \u001b[1;32mc:\\Users\\herna\\anaconda3\\envs\\SpectroCNN\\lib\\site-packages\\tensorflow\\python\\util\\dispatch.py:1176\u001b[0m, in \u001b[0;36madd_dispatch_support.<locals>.decorator.<locals>.op_dispatch_handler\u001b[1;34m(*args, **kwargs)\u001b[0m\n\u001b[0;32m   1174\u001b[0m \u001b[38;5;66;03m# Fallback dispatch system (dispatch v1):\u001b[39;00m\n\u001b[0;32m   1175\u001b[0m \u001b[38;5;28;01mtry\u001b[39;00m:\n\u001b[1;32m-> 1176\u001b[0m   \u001b[38;5;28;01mreturn\u001b[39;00m dispatch_target(\u001b[38;5;241m*\u001b[39margs, \u001b[38;5;241m*\u001b[39m\u001b[38;5;241m*\u001b[39mkwargs)\n\u001b[0;32m   1177\u001b[0m \u001b[38;5;28;01mexcept\u001b[39;00m (\u001b[38;5;167;01mTypeError\u001b[39;00m, \u001b[38;5;167;01mValueError\u001b[39;00m):\n\u001b[0;32m   1178\u001b[0m   \u001b[38;5;66;03m# Note: convert_to_eager_tensor currently raises a ValueError, not a\u001b[39;00m\n\u001b[0;32m   1179\u001b[0m   \u001b[38;5;66;03m# TypeError, when given unexpected types.  So we need to catch both.\u001b[39;00m\n\u001b[0;32m   1180\u001b[0m   result \u001b[38;5;241m=\u001b[39m dispatch(op_dispatch_handler, args, kwargs)\n",
      "File \u001b[1;32mc:\\Users\\herna\\anaconda3\\envs\\SpectroCNN\\lib\\site-packages\\keras\\backend.py:4240\u001b[0m, in \u001b[0;36mbatch_get_value\u001b[1;34m(tensors)\u001b[0m\n\u001b[0;32m   4228\u001b[0m \u001b[38;5;250m\u001b[39m\u001b[38;5;124;03m\"\"\"Returns the value of more than one tensor variable.\u001b[39;00m\n\u001b[0;32m   4229\u001b[0m \n\u001b[0;32m   4230\u001b[0m \u001b[38;5;124;03mArgs:\u001b[39;00m\n\u001b[1;32m   (...)\u001b[0m\n\u001b[0;32m   4237\u001b[0m \u001b[38;5;124;03m    RuntimeError: If this method is called inside defun.\u001b[39;00m\n\u001b[0;32m   4238\u001b[0m \u001b[38;5;124;03m\"\"\"\u001b[39;00m\n\u001b[0;32m   4239\u001b[0m \u001b[38;5;28;01mif\u001b[39;00m tf\u001b[38;5;241m.\u001b[39mexecuting_eagerly():\n\u001b[1;32m-> 4240\u001b[0m     \u001b[38;5;28;01mreturn\u001b[39;00m [x\u001b[38;5;241m.\u001b[39mnumpy() \u001b[38;5;28;01mfor\u001b[39;00m x \u001b[38;5;129;01min\u001b[39;00m tensors]\n\u001b[0;32m   4241\u001b[0m \u001b[38;5;28;01melif\u001b[39;00m tf\u001b[38;5;241m.\u001b[39minside_function():\n\u001b[0;32m   4242\u001b[0m     \u001b[38;5;28;01mraise\u001b[39;00m \u001b[38;5;167;01mRuntimeError\u001b[39;00m(\u001b[38;5;124m\"\u001b[39m\u001b[38;5;124mCannot get value inside Tensorflow graph function.\u001b[39m\u001b[38;5;124m\"\u001b[39m)\n",
      "File \u001b[1;32mc:\\Users\\herna\\anaconda3\\envs\\SpectroCNN\\lib\\site-packages\\keras\\backend.py:4240\u001b[0m, in \u001b[0;36m<listcomp>\u001b[1;34m(.0)\u001b[0m\n\u001b[0;32m   4228\u001b[0m \u001b[38;5;250m\u001b[39m\u001b[38;5;124;03m\"\"\"Returns the value of more than one tensor variable.\u001b[39;00m\n\u001b[0;32m   4229\u001b[0m \n\u001b[0;32m   4230\u001b[0m \u001b[38;5;124;03mArgs:\u001b[39;00m\n\u001b[1;32m   (...)\u001b[0m\n\u001b[0;32m   4237\u001b[0m \u001b[38;5;124;03m    RuntimeError: If this method is called inside defun.\u001b[39;00m\n\u001b[0;32m   4238\u001b[0m \u001b[38;5;124;03m\"\"\"\u001b[39;00m\n\u001b[0;32m   4239\u001b[0m \u001b[38;5;28;01mif\u001b[39;00m tf\u001b[38;5;241m.\u001b[39mexecuting_eagerly():\n\u001b[1;32m-> 4240\u001b[0m     \u001b[38;5;28;01mreturn\u001b[39;00m [\u001b[43mx\u001b[49m\u001b[38;5;241;43m.\u001b[39;49m\u001b[43mnumpy\u001b[49m\u001b[43m(\u001b[49m\u001b[43m)\u001b[49m \u001b[38;5;28;01mfor\u001b[39;00m x \u001b[38;5;129;01min\u001b[39;00m tensors]\n\u001b[0;32m   4241\u001b[0m \u001b[38;5;28;01melif\u001b[39;00m tf\u001b[38;5;241m.\u001b[39minside_function():\n\u001b[0;32m   4242\u001b[0m     \u001b[38;5;28;01mraise\u001b[39;00m \u001b[38;5;167;01mRuntimeError\u001b[39;00m(\u001b[38;5;124m\"\u001b[39m\u001b[38;5;124mCannot get value inside Tensorflow graph function.\u001b[39m\u001b[38;5;124m\"\u001b[39m)\n",
      "File \u001b[1;32mc:\\Users\\herna\\anaconda3\\envs\\SpectroCNN\\lib\\site-packages\\tensorflow\\python\\ops\\resource_variable_ops.py:637\u001b[0m, in \u001b[0;36mBaseResourceVariable.numpy\u001b[1;34m(self)\u001b[0m\n\u001b[0;32m    635\u001b[0m \u001b[38;5;28;01mdef\u001b[39;00m \u001b[38;5;21mnumpy\u001b[39m(\u001b[38;5;28mself\u001b[39m):\n\u001b[0;32m    636\u001b[0m   \u001b[38;5;28;01mif\u001b[39;00m context\u001b[38;5;241m.\u001b[39mexecuting_eagerly():\n\u001b[1;32m--> 637\u001b[0m     \u001b[38;5;28;01mreturn\u001b[39;00m \u001b[38;5;28;43mself\u001b[39;49m\u001b[38;5;241;43m.\u001b[39;49m\u001b[43mread_value\u001b[49m\u001b[43m(\u001b[49m\u001b[43m)\u001b[49m\u001b[38;5;241;43m.\u001b[39;49m\u001b[43mnumpy\u001b[49m\u001b[43m(\u001b[49m\u001b[43m)\u001b[49m\n\u001b[0;32m    638\u001b[0m   \u001b[38;5;28;01mraise\u001b[39;00m \u001b[38;5;167;01mNotImplementedError\u001b[39;00m(\n\u001b[0;32m    639\u001b[0m       \u001b[38;5;124m\"\u001b[39m\u001b[38;5;124mnumpy() is only available when eager execution is enabled.\u001b[39m\u001b[38;5;124m\"\u001b[39m)\n",
      "File \u001b[1;32mc:\\Users\\herna\\anaconda3\\envs\\SpectroCNN\\lib\\site-packages\\tensorflow\\python\\framework\\ops.py:1158\u001b[0m, in \u001b[0;36m_EagerTensorBase.numpy\u001b[1;34m(self)\u001b[0m\n\u001b[0;32m   1156\u001b[0m \u001b[38;5;66;03m# TODO(slebedev): Consider avoiding a copy for non-CPU or remote tensors.\u001b[39;00m\n\u001b[0;32m   1157\u001b[0m maybe_arr \u001b[38;5;241m=\u001b[39m \u001b[38;5;28mself\u001b[39m\u001b[38;5;241m.\u001b[39m_numpy()  \u001b[38;5;66;03m# pylint: disable=protected-access\u001b[39;00m\n\u001b[1;32m-> 1158\u001b[0m \u001b[38;5;28;01mreturn\u001b[39;00m \u001b[43mmaybe_arr\u001b[49m\u001b[38;5;241;43m.\u001b[39;49m\u001b[43mcopy\u001b[49m\u001b[43m(\u001b[49m\u001b[43m)\u001b[49m \u001b[38;5;28;01mif\u001b[39;00m \u001b[38;5;28misinstance\u001b[39m(maybe_arr, np\u001b[38;5;241m.\u001b[39mndarray) \u001b[38;5;28;01melse\u001b[39;00m maybe_arr\n",
      "\u001b[1;31mKeyboardInterrupt\u001b[0m: "
     ]
    }
   ],
   "source": [
    "from tensorflow.keras.models import Sequential\n",
    "from tensorflow.keras.layers import BatchNormalization, Conv2D, LeakyReLU, MaxPooling2D, Dropout, Flatten, Dense\n",
    "from tensorflow.keras.optimizers import Adam\n",
    "import tensorflow as tf\n",
    "\n",
    "model = Sequential()\n",
    "model.add(BatchNormalization(input_shape=(input_shape)))  # Especifica input_shape\n",
    "model.add(Conv2D(32, kernel_size=(3, 3), padding='same'))\n",
    "model.add(LeakyReLU(alpha=0.01))\n",
    "model.add(MaxPooling2D(pool_size=(2, 2)))\n",
    "model.add(BatchNormalization())\n",
    "\n",
    "model.add(Conv2D(64, kernel_size=(3, 3), padding='same'))\n",
    "model.add(LeakyReLU(alpha=0.01))\n",
    "model.add(MaxPooling2D(pool_size=(2, 2)))\n",
    "model.add(BatchNormalization())\n",
    "\n",
    "model.add(Conv2D(128, kernel_size=(3, 3), padding='same'))\n",
    "model.add(LeakyReLU(alpha=0.01))\n",
    "model.add(MaxPooling2D(pool_size=(2, 2)))\n",
    "model.add(BatchNormalization())\n",
    "\n",
    "model.add(Flatten())\n",
    "model.add(Dense(128))\n",
    "model.add(LeakyReLU(alpha=0.01))\n",
    "model.add(Dropout(0.5))\n",
    "model.add(Dense(64))\n",
    "model.add(LeakyReLU(alpha=0.01))\n",
    "model.add(Dropout(0.5))\n",
    "model.add(Dense(1, activation='linear'))  # Para regresión lineal, usar activación 'linear'\n",
    "\n",
    "model.compile(optimizer=Adam(learning_rate=0.001), \n",
    "              loss='mean_squared_error',  # Función de pérdida para regresión\n",
    "              metrics=['mean_absolute_error'])  # Métrica adicional para regresión\n",
    "\n",
    "# Ajustar el modelo en los datos de entrenamiento aumentados\n",
    "model.fit(X_train,\n",
    "          y_train, \n",
    "          batch_size=batch_size, \n",
    "          epochs=no_epochs, \n",
    "          verbose=verbosity, \n",
    "          validation_split=0.2,\n",
    "          callbacks=[\n",
    "              tf.keras.callbacks.EarlyStopping(monitor='val_loss', patience=5, restore_best_weights=True),\n",
    "              tf.keras.callbacks.ModelCheckpoint('best_model.h5', save_best_only=True),\n",
    "              tf.keras.callbacks.ReduceLROnPlateau(monitor='val_loss', factor=0.1, patience=3)\n",
    "          ])\n"
   ]
  },
  {
   "cell_type": "markdown",
   "metadata": {},
   "source": [
    "# Metrics"
   ]
  },
  {
   "cell_type": "code",
   "execution_count": 31,
   "metadata": {},
   "outputs": [
    {
     "name": "stdout",
     "output_type": "stream",
     "text": [
      "11/11 [==============================] - 1s 115ms/step\n"
     ]
    },
    {
     "data": {
      "text/plain": [
       "array([[1.00000000e+00],\n",
       "       [1.00000000e+00],\n",
       "       [1.00000000e+00],\n",
       "       [1.00000000e+00],\n",
       "       [1.00000000e+00],\n",
       "       [1.00000000e+00],\n",
       "       [1.00000000e+00],\n",
       "       [1.00000000e+00],\n",
       "       [1.00000000e+00],\n",
       "       [1.00000000e+00],\n",
       "       [1.00000000e+00],\n",
       "       [1.00000000e+00],\n",
       "       [1.00000000e+00],\n",
       "       [1.00000000e+00],\n",
       "       [1.00000000e+00],\n",
       "       [1.00000000e+00],\n",
       "       [1.00000000e+00],\n",
       "       [1.00000000e+00],\n",
       "       [1.00000000e+00],\n",
       "       [1.00000000e+00],\n",
       "       [1.00000000e+00],\n",
       "       [1.00000000e+00],\n",
       "       [1.00000000e+00],\n",
       "       [1.00000000e+00],\n",
       "       [1.00000000e+00],\n",
       "       [1.00000000e+00],\n",
       "       [1.00000000e+00],\n",
       "       [1.00000000e+00],\n",
       "       [1.00000000e+00],\n",
       "       [1.00000000e+00],\n",
       "       [1.00000000e+00],\n",
       "       [1.00000000e+00],\n",
       "       [1.00000000e+00],\n",
       "       [1.00000000e+00],\n",
       "       [1.00000000e+00],\n",
       "       [1.00000000e+00],\n",
       "       [1.00000000e+00],\n",
       "       [1.00000000e+00],\n",
       "       [9.99999523e-01],\n",
       "       [1.00000000e+00],\n",
       "       [1.00000000e+00],\n",
       "       [1.00000000e+00],\n",
       "       [1.00000000e+00],\n",
       "       [1.00000000e+00],\n",
       "       [1.00000000e+00],\n",
       "       [1.00000000e+00],\n",
       "       [1.00000000e+00],\n",
       "       [1.00000000e+00],\n",
       "       [1.00000000e+00],\n",
       "       [1.00000000e+00],\n",
       "       [1.00000000e+00],\n",
       "       [1.00000000e+00],\n",
       "       [1.00000000e+00],\n",
       "       [1.00000000e+00],\n",
       "       [1.00000000e+00],\n",
       "       [1.00000000e+00],\n",
       "       [1.00000000e+00],\n",
       "       [1.00000000e+00],\n",
       "       [1.00000000e+00],\n",
       "       [1.00000000e+00],\n",
       "       [1.00000000e+00],\n",
       "       [1.00000000e+00],\n",
       "       [1.00000000e+00],\n",
       "       [1.00000000e+00],\n",
       "       [1.00000000e+00],\n",
       "       [1.00000000e+00],\n",
       "       [1.00000000e+00],\n",
       "       [1.00000000e+00],\n",
       "       [1.00000000e+00],\n",
       "       [1.00000000e+00],\n",
       "       [1.00000000e+00],\n",
       "       [1.00000000e+00],\n",
       "       [1.00000000e+00],\n",
       "       [1.00000000e+00],\n",
       "       [1.00000000e+00],\n",
       "       [1.00000000e+00],\n",
       "       [1.00000000e+00],\n",
       "       [1.00000000e+00],\n",
       "       [1.00000000e+00],\n",
       "       [1.00000000e+00],\n",
       "       [1.00000000e+00],\n",
       "       [1.00000000e+00],\n",
       "       [1.00000000e+00],\n",
       "       [9.99999881e-01],\n",
       "       [1.00000000e+00],\n",
       "       [1.00000000e+00],\n",
       "       [1.00000000e+00],\n",
       "       [1.00000000e+00],\n",
       "       [1.00000000e+00],\n",
       "       [1.00000000e+00],\n",
       "       [1.00000000e+00],\n",
       "       [1.00000000e+00],\n",
       "       [1.00000000e+00],\n",
       "       [1.00000000e+00],\n",
       "       [1.00000000e+00],\n",
       "       [1.00000000e+00],\n",
       "       [7.61698067e-01],\n",
       "       [9.72033799e-01],\n",
       "       [5.89544470e-06],\n",
       "       [9.15011733e-10],\n",
       "       [3.16168638e-08],\n",
       "       [2.14205988e-06],\n",
       "       [7.57646859e-01],\n",
       "       [1.09740477e-02],\n",
       "       [2.16859349e-04],\n",
       "       [4.70772813e-12],\n",
       "       [9.76376965e-12],\n",
       "       [2.55196580e-13],\n",
       "       [4.45467144e-01],\n",
       "       [7.18235970e-01],\n",
       "       [9.99946475e-01],\n",
       "       [5.91837568e-04],\n",
       "       [3.47882807e-02],\n",
       "       [5.42892933e-01],\n",
       "       [7.02469551e-04],\n",
       "       [2.46684474e-04],\n",
       "       [1.20797565e-11],\n",
       "       [1.00492023e-25],\n",
       "       [4.64362593e-23],\n",
       "       [3.68655762e-19],\n",
       "       [9.61903751e-01],\n",
       "       [9.84592855e-01],\n",
       "       [5.54379920e-09],\n",
       "       [3.05977650e-02],\n",
       "       [5.24669170e-01],\n",
       "       [9.99911904e-01],\n",
       "       [9.99995470e-01],\n",
       "       [9.96121705e-01],\n",
       "       [9.60577369e-01],\n",
       "       [9.99998927e-01],\n",
       "       [1.00000000e+00],\n",
       "       [6.21526428e-02],\n",
       "       [6.33538663e-01],\n",
       "       [1.50177540e-04],\n",
       "       [2.77491051e-11],\n",
       "       [1.35695490e-25],\n",
       "       [1.02910849e-25],\n",
       "       [1.56060992e-21],\n",
       "       [8.20232928e-01],\n",
       "       [2.45410891e-04],\n",
       "       [4.51178539e-06],\n",
       "       [4.46218920e-08],\n",
       "       [1.89176478e-06],\n",
       "       [7.08882317e-06],\n",
       "       [2.85059306e-23],\n",
       "       [9.40779839e-30],\n",
       "       [2.17504704e-22],\n",
       "       [0.00000000e+00],\n",
       "       [0.00000000e+00],\n",
       "       [0.00000000e+00],\n",
       "       [4.28875476e-01],\n",
       "       [9.65954840e-01],\n",
       "       [3.81760625e-03],\n",
       "       [9.99999762e-01],\n",
       "       [9.75539327e-01],\n",
       "       [9.87093151e-01],\n",
       "       [9.98295009e-01],\n",
       "       [8.89167845e-01],\n",
       "       [7.04592288e-01],\n",
       "       [1.07469612e-04],\n",
       "       [6.57425403e-07],\n",
       "       [2.23783049e-04],\n",
       "       [7.40789831e-01],\n",
       "       [9.97645676e-01],\n",
       "       [2.72854845e-06],\n",
       "       [3.07378623e-10],\n",
       "       [6.80008156e-08],\n",
       "       [3.83846803e-08],\n",
       "       [3.70498601e-05],\n",
       "       [9.34830692e-04],\n",
       "       [2.67324429e-09],\n",
       "       [4.86827592e-13],\n",
       "       [2.79018909e-12],\n",
       "       [2.22249841e-03],\n",
       "       [2.06719014e-05],\n",
       "       [2.99524936e-06],\n",
       "       [2.88738944e-02],\n",
       "       [7.58891366e-03],\n",
       "       [4.83001173e-01],\n",
       "       [7.40694344e-01],\n",
       "       [4.68138993e-01],\n",
       "       [3.36128980e-01],\n",
       "       [9.99975801e-01],\n",
       "       [1.79906450e-02],\n",
       "       [4.87155121e-05],\n",
       "       [1.52928169e-06],\n",
       "       [5.31647265e-01],\n",
       "       [7.28924811e-01],\n",
       "       [1.00000000e+00],\n",
       "       [5.52636811e-06],\n",
       "       [2.33801911e-05],\n",
       "       [9.06372130e-01],\n",
       "       [1.56903188e-04],\n",
       "       [5.75277163e-03],\n",
       "       [1.90577198e-09],\n",
       "       [3.08041557e-08],\n",
       "       [9.78620276e-02],\n",
       "       [2.46148466e-06],\n",
       "       [5.72723210e-01],\n",
       "       [2.79279709e-01],\n",
       "       [2.30184081e-03],\n",
       "       [3.33385159e-15],\n",
       "       [3.72808173e-10],\n",
       "       [1.56165184e-02],\n",
       "       [6.41064233e-08],\n",
       "       [1.20710965e-07],\n",
       "       [2.07259580e-02],\n",
       "       [1.28205918e-13],\n",
       "       [1.02732621e-13],\n",
       "       [2.27259322e-10],\n",
       "       [8.97181809e-01],\n",
       "       [6.79528177e-01],\n",
       "       [4.53121722e-01],\n",
       "       [6.12946920e-08],\n",
       "       [8.86870657e-06],\n",
       "       [2.05528247e-03],\n",
       "       [2.35040511e-11],\n",
       "       [1.28903019e-13],\n",
       "       [7.88458766e-17],\n",
       "       [0.00000000e+00],\n",
       "       [0.00000000e+00],\n",
       "       [0.00000000e+00],\n",
       "       [7.06752471e-05],\n",
       "       [2.97729656e-07],\n",
       "       [4.38843714e-03],\n",
       "       [9.96631801e-01],\n",
       "       [1.69036955e-01],\n",
       "       [4.96033635e-07],\n",
       "       [9.95796561e-01],\n",
       "       [9.98296559e-01],\n",
       "       [9.99987721e-01],\n",
       "       [1.00000000e+00],\n",
       "       [1.00000000e+00],\n",
       "       [9.99999642e-01],\n",
       "       [1.41654927e-02],\n",
       "       [7.37484970e-06],\n",
       "       [2.18724296e-03],\n",
       "       [2.38937592e-16],\n",
       "       [5.77068883e-13],\n",
       "       [3.26984202e-23],\n",
       "       [9.77079451e-01],\n",
       "       [9.97489691e-01],\n",
       "       [4.28880157e-05],\n",
       "       [9.99883890e-01],\n",
       "       [7.82353505e-02],\n",
       "       [1.09875433e-01],\n",
       "       [2.50740536e-03],\n",
       "       [1.33955568e-01],\n",
       "       [9.61625070e-15],\n",
       "       [4.34452325e-26],\n",
       "       [3.83584909e-30],\n",
       "       [3.23199813e-28],\n",
       "       [5.95619023e-01],\n",
       "       [4.91693430e-02],\n",
       "       [1.86563529e-08],\n",
       "       [9.92529690e-01],\n",
       "       [9.91443932e-01],\n",
       "       [9.94361639e-01],\n",
       "       [2.93395999e-07],\n",
       "       [2.75513679e-09],\n",
       "       [1.18360743e-09],\n",
       "       [4.56893767e-09],\n",
       "       [2.17270753e-08],\n",
       "       [6.86733046e-14],\n",
       "       [3.13892178e-02],\n",
       "       [1.63306847e-01],\n",
       "       [5.12599900e-06],\n",
       "       [1.62537851e-15],\n",
       "       [1.92851852e-14],\n",
       "       [7.08019309e-13],\n",
       "       [1.84876134e-03],\n",
       "       [2.52005499e-04],\n",
       "       [9.99999285e-01],\n",
       "       [3.63042529e-09],\n",
       "       [1.35882486e-10],\n",
       "       [1.23947047e-10],\n",
       "       [3.69894505e-02],\n",
       "       [3.50722484e-02],\n",
       "       [2.69211847e-10],\n",
       "       [3.84259202e-08],\n",
       "       [6.29151342e-10],\n",
       "       [4.91594619e-07],\n",
       "       [2.10969144e-08],\n",
       "       [1.26886036e-07],\n",
       "       [7.50052786e-05],\n",
       "       [5.35629066e-16],\n",
       "       [2.23175298e-12],\n",
       "       [1.44757985e-13],\n",
       "       [9.99999881e-01],\n",
       "       [9.99828339e-01],\n",
       "       [1.00000000e+00],\n",
       "       [2.34306417e-03],\n",
       "       [9.42562590e-04],\n",
       "       [1.83722383e-04],\n",
       "       [9.57463205e-01],\n",
       "       [9.94587779e-01],\n",
       "       [9.99997973e-01],\n",
       "       [1.00000000e+00],\n",
       "       [1.00000000e+00],\n",
       "       [9.99999642e-01],\n",
       "       [2.82126844e-01],\n",
       "       [8.96564648e-02],\n",
       "       [1.00000000e+00],\n",
       "       [5.56622162e-08],\n",
       "       [1.14886127e-07],\n",
       "       [7.84366217e-04],\n",
       "       [8.56650412e-01],\n",
       "       [9.97875452e-01],\n",
       "       [1.00000000e+00],\n",
       "       [1.00000000e+00],\n",
       "       [1.00000000e+00],\n",
       "       [1.00000000e+00],\n",
       "       [6.11233991e-04],\n",
       "       [3.49604161e-05],\n",
       "       [2.87308599e-09],\n",
       "       [6.03030676e-05],\n",
       "       [6.72384864e-03],\n",
       "       [9.92212081e-05],\n",
       "       [9.99628901e-01],\n",
       "       [9.94324446e-01],\n",
       "       [1.05377701e-04],\n",
       "       [1.00000000e+00],\n",
       "       [1.00000000e+00],\n",
       "       [1.00000000e+00],\n",
       "       [1.73921522e-03],\n",
       "       [6.73688203e-02],\n",
       "       [1.98961049e-02],\n",
       "       [9.99977469e-01],\n",
       "       [2.47549451e-05],\n",
       "       [1.94001623e-04]], dtype=float32)"
      ]
     },
     "execution_count": 31,
     "metadata": {},
     "output_type": "execute_result"
    }
   ],
   "source": [
    "y_pred = model.predict(X_test)\n",
    "y_pred"
   ]
  },
  {
   "cell_type": "code",
   "execution_count": 32,
   "metadata": {},
   "outputs": [],
   "source": [
    "threshold = 0.5\n",
    "y_pred_binary = np.where(y_pred >= threshold, 1, 0)\n",
    "#y_pred_binary"
   ]
  },
  {
   "cell_type": "code",
   "execution_count": 33,
   "metadata": {},
   "outputs": [
    {
     "name": "stdout",
     "output_type": "stream",
     "text": [
      "11/11 [==============================] - 1s 94ms/step\n",
      "Mean Specificity: 0.6923076923076923\n",
      "Mean Recall: 1.0\n",
      "Mean F1 Score: 0.7272727272727273\n",
      "Mean Accuracy: 78.18182110786438\n",
      "Mean Loss: 2.1066105365753174\n",
      "Mean Precision: 0.5714285714285714\n",
      "Mean AUC: 0.9670806623931624\n",
      "\n",
      "True negatives: 162\n",
      "False negatives: 0\n",
      "True positives: 96\n",
      "False positives: 72\n"
     ]
    }
   ],
   "source": [
    "from sklearn.metrics import confusion_matrix, roc_auc_score, roc_curve\n",
    "\n",
    "# Evaluate the model on test data\n",
    "scores = model.evaluate(X_test, y_test, verbose=0)\n",
    "\n",
    "# Predict probabilities\n",
    "y_pred_prob = model.predict(X_test)\n",
    "# Predict binary outcomes\n",
    "y_pred_binary = (y_pred_prob > 0.5).astype(int)\n",
    "\n",
    "# Calculate confusion matrix values\n",
    "tn, fp, fn, tp = confusion_matrix(y_test, y_pred_binary).ravel()\n",
    "specificity = tn / (tn + fp)\n",
    "recall = tp / (tp + fn)\n",
    "precision = tp / (tp + fp)\n",
    "f1 = 2 * (precision * recall) / (precision + recall) if (precision + recall) > 0 else float('nan')\n",
    "\n",
    "# Calculate AUC\n",
    "auc = roc_auc_score(y_test, y_pred_prob)\n",
    "\n",
    "print(f'Mean Specificity: {specificity}')\n",
    "print(f'Mean Recall: {recall}')\n",
    "print(f'Mean F1 Score: {f1}')\n",
    "print(f'Mean Accuracy: {scores[1] * 100}')\n",
    "print(f'Mean Loss: {scores[0]}')\n",
    "print(f'Mean Precision: {precision}')\n",
    "print(f'Mean AUC: {auc}')\n",
    "print()\n",
    "print(f'True negatives: {tn}')\n",
    "print(f'False negatives: {fn}')\n",
    "print(f'True positives: {tp}')\n",
    "print(f'False positives: {fp}')\n"
   ]
  },
  {
   "cell_type": "code",
   "execution_count": 35,
   "metadata": {},
   "outputs": [],
   "source": [
    "folder_path = f'd:/Sistema/Escritorio/Escritorio/Tesis/DAIC-WOZ/folds/70-30_complete_cleaned_adam_arq_original/'\n",
    "if not os.path.exists(folder_path):\n",
    "    os.makedirs(folder_path)\n",
    "\n",
    "# Escribir valores medios en el archivo scores.txt\n",
    "with open(os.path.join(folder_path, 'scores.txt'), 'w') as file:\n",
    "    file.write(f'Mean Specificity: {specificity}\\n')\n",
    "    file.write(f'Mean Recall: {recall}\\n')\n",
    "    file.write(f'Mean F1 Score: {f1}\\n')\n",
    "    file.write(f'Mean Accuracy: {scores[1] * 100}\\n')\n",
    "    file.write(f'Mean Loss: {scores[0]}\\n')\n",
    "    file.write(f'Mean Precision: {precision}\\n')\n",
    "    file.write(f'Mean AUC: {auc}\\n')\n",
    "    file.write(f'True negatives: {tn}\\n')\n",
    "    file.write(f'False negatives: {fn}\\n')\n",
    "    file.write(f'True positives: {tp}\\n')\n",
    "    file.write(f'False positives: {fp}\\n')\n",
    "\n",
    "# Generar la matriz de confusión\n",
    "conf_matrix = confusion_matrix(y_test, y_pred_binary)\n",
    "plt.figure(figsize=(8, 6))\n",
    "sns.heatmap(conf_matrix, annot=True, fmt=\"d\", cmap=\"Blues\")\n",
    "plt.title(\"Confusion Matrix\")\n",
    "plt.xlabel(\"Predicted Label\")\n",
    "plt.ylabel(\"True Label\")\n",
    "plt.savefig(os.path.join(folder_path, \"confusion_matrix.jpg\"))\n",
    "plt.close()\n",
    "\n",
    "# Graficar otras métricas\n",
    "metrics = ['Specificity', 'Recall', 'F1 Score', 'Accuracy', 'Loss', 'Precision', 'AUC']\n",
    "values = [specificity, recall, f1, scores[1], scores[0], precision, auc]\n",
    "plt.figure(figsize=(10, 6))\n",
    "plt.bar(metrics, values, color='skyblue')\n",
    "plt.title(\"Model Metrics\")\n",
    "plt.ylabel(\"Value\")\n",
    "plt.savefig(os.path.join(folder_path, \"model_metrics.jpg\"))\n",
    "plt.close()"
   ]
  }
 ],
 "metadata": {
  "kernelspec": {
   "display_name": "SpectroCNN",
   "language": "python",
   "name": "python3"
  },
  "language_info": {
   "codemirror_mode": {
    "name": "ipython",
    "version": 3
   },
   "file_extension": ".py",
   "mimetype": "text/x-python",
   "name": "python",
   "nbconvert_exporter": "python",
   "pygments_lexer": "ipython3",
   "version": "3.10.13"
  }
 },
 "nbformat": 4,
 "nbformat_minor": 2
}
