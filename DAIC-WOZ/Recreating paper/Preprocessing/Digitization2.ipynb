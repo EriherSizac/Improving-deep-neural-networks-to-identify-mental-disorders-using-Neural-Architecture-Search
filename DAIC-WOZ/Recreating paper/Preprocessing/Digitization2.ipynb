{
 "cells": [
  {
   "cell_type": "code",
   "execution_count": 3,
   "metadata": {},
   "outputs": [
    {
     "name": "stdout",
     "output_type": "stream",
     "text": [
      "Processed and saved: d:\\Sistema\\Escritorio\\Escritorio\\Tesis\\DAIC-WOZ\\data\\300_P\\preprocessed_300_AUDIO.wav\n"
     ]
    },
    {
     "ename": "Error",
     "evalue": "file does not start with RIFF id",
     "output_type": "error",
     "traceback": [
      "\u001b[1;31m---------------------------------------------------------------------------\u001b[0m",
      "\u001b[1;31mError\u001b[0m                                     Traceback (most recent call last)",
      "\u001b[1;32md:\\Sistema\\Escritorio\\Escritorio\\Tesis\\DAIC-WOZ\\Recreating paper\\Preprocessing\\Digitization2.ipynb Cell 1\u001b[0m line \u001b[0;36m3\n\u001b[0;32m     <a href='vscode-notebook-cell:/d%3A/Sistema/Escritorio/Escritorio/Tesis/DAIC-WOZ/Recreating%20paper/Preprocessing/Digitization2.ipynb#W0sZmlsZQ%3D%3D?line=32'>33</a>\u001b[0m \u001b[39mif\u001b[39;00m os\u001b[39m.\u001b[39mpath\u001b[39m.\u001b[39misdir(folder_path):\n\u001b[0;32m     <a href='vscode-notebook-cell:/d%3A/Sistema/Escritorio/Escritorio/Tesis/DAIC-WOZ/Recreating%20paper/Preprocessing/Digitization2.ipynb#W0sZmlsZQ%3D%3D?line=33'>34</a>\u001b[0m     \u001b[39m# Find all .wav files in the current folder\u001b[39;00m\n\u001b[0;32m     <a href='vscode-notebook-cell:/d%3A/Sistema/Escritorio/Escritorio/Tesis/DAIC-WOZ/Recreating%20paper/Preprocessing/Digitization2.ipynb#W0sZmlsZQ%3D%3D?line=34'>35</a>\u001b[0m     \u001b[39mfor\u001b[39;00m wav_file_path \u001b[39min\u001b[39;00m glob\u001b[39m.\u001b[39mglob(os\u001b[39m.\u001b[39mpath\u001b[39m.\u001b[39mjoin(folder_path, \u001b[39m'\u001b[39m\u001b[39m*.wav\u001b[39m\u001b[39m'\u001b[39m)):\n\u001b[0;32m     <a href='vscode-notebook-cell:/d%3A/Sistema/Escritorio/Escritorio/Tesis/DAIC-WOZ/Recreating%20paper/Preprocessing/Digitization2.ipynb#W0sZmlsZQ%3D%3D?line=35'>36</a>\u001b[0m         \u001b[39m# Read the analog audio signal (wav file)\u001b[39;00m\n\u001b[1;32m---> <a href='vscode-notebook-cell:/d%3A/Sistema/Escritorio/Escritorio/Tesis/DAIC-WOZ/Recreating%20paper/Preprocessing/Digitization2.ipynb#W0sZmlsZQ%3D%3D?line=36'>37</a>\u001b[0m         \u001b[39mwith\u001b[39;00m wave\u001b[39m.\u001b[39;49mopen(wav_file_path, \u001b[39m'\u001b[39;49m\u001b[39mr\u001b[39;49m\u001b[39m'\u001b[39;49m) \u001b[39mas\u001b[39;00m wav_file:\n\u001b[0;32m     <a href='vscode-notebook-cell:/d%3A/Sistema/Escritorio/Escritorio/Tesis/DAIC-WOZ/Recreating%20paper/Preprocessing/Digitization2.ipynb#W0sZmlsZQ%3D%3D?line=37'>38</a>\u001b[0m             n_channels \u001b[39m=\u001b[39m wav_file\u001b[39m.\u001b[39mgetnchannels()\n\u001b[0;32m     <a href='vscode-notebook-cell:/d%3A/Sistema/Escritorio/Escritorio/Tesis/DAIC-WOZ/Recreating%20paper/Preprocessing/Digitization2.ipynb#W0sZmlsZQ%3D%3D?line=38'>39</a>\u001b[0m             sample_width \u001b[39m=\u001b[39m wav_file\u001b[39m.\u001b[39mgetsampwidth()\n",
      "File \u001b[1;32m~\\AppData\\Local\\Programs\\Python\\Python310\\lib\\wave.py:509\u001b[0m, in \u001b[0;36mopen\u001b[1;34m(f, mode)\u001b[0m\n\u001b[0;32m    507\u001b[0m         mode \u001b[39m=\u001b[39m \u001b[39m'\u001b[39m\u001b[39mrb\u001b[39m\u001b[39m'\u001b[39m\n\u001b[0;32m    508\u001b[0m \u001b[39mif\u001b[39;00m mode \u001b[39min\u001b[39;00m (\u001b[39m'\u001b[39m\u001b[39mr\u001b[39m\u001b[39m'\u001b[39m, \u001b[39m'\u001b[39m\u001b[39mrb\u001b[39m\u001b[39m'\u001b[39m):\n\u001b[1;32m--> 509\u001b[0m     \u001b[39mreturn\u001b[39;00m Wave_read(f)\n\u001b[0;32m    510\u001b[0m \u001b[39melif\u001b[39;00m mode \u001b[39min\u001b[39;00m (\u001b[39m'\u001b[39m\u001b[39mw\u001b[39m\u001b[39m'\u001b[39m, \u001b[39m'\u001b[39m\u001b[39mwb\u001b[39m\u001b[39m'\u001b[39m):\n\u001b[0;32m    511\u001b[0m     \u001b[39mreturn\u001b[39;00m Wave_write(f)\n",
      "File \u001b[1;32m~\\AppData\\Local\\Programs\\Python\\Python310\\lib\\wave.py:163\u001b[0m, in \u001b[0;36mWave_read.__init__\u001b[1;34m(self, f)\u001b[0m\n\u001b[0;32m    161\u001b[0m \u001b[39m# else, assume it is an open file object already\u001b[39;00m\n\u001b[0;32m    162\u001b[0m \u001b[39mtry\u001b[39;00m:\n\u001b[1;32m--> 163\u001b[0m     \u001b[39mself\u001b[39;49m\u001b[39m.\u001b[39;49minitfp(f)\n\u001b[0;32m    164\u001b[0m \u001b[39mexcept\u001b[39;00m:\n\u001b[0;32m    165\u001b[0m     \u001b[39mif\u001b[39;00m \u001b[39mself\u001b[39m\u001b[39m.\u001b[39m_i_opened_the_file:\n",
      "File \u001b[1;32m~\\AppData\\Local\\Programs\\Python\\Python310\\lib\\wave.py:130\u001b[0m, in \u001b[0;36mWave_read.initfp\u001b[1;34m(self, file)\u001b[0m\n\u001b[0;32m    128\u001b[0m \u001b[39mself\u001b[39m\u001b[39m.\u001b[39m_file \u001b[39m=\u001b[39m Chunk(file, bigendian \u001b[39m=\u001b[39m \u001b[39m0\u001b[39m)\n\u001b[0;32m    129\u001b[0m \u001b[39mif\u001b[39;00m \u001b[39mself\u001b[39m\u001b[39m.\u001b[39m_file\u001b[39m.\u001b[39mgetname() \u001b[39m!=\u001b[39m \u001b[39mb\u001b[39m\u001b[39m'\u001b[39m\u001b[39mRIFF\u001b[39m\u001b[39m'\u001b[39m:\n\u001b[1;32m--> 130\u001b[0m     \u001b[39mraise\u001b[39;00m Error(\u001b[39m'\u001b[39m\u001b[39mfile does not start with RIFF id\u001b[39m\u001b[39m'\u001b[39m)\n\u001b[0;32m    131\u001b[0m \u001b[39mif\u001b[39;00m \u001b[39mself\u001b[39m\u001b[39m.\u001b[39m_file\u001b[39m.\u001b[39mread(\u001b[39m4\u001b[39m) \u001b[39m!=\u001b[39m \u001b[39mb\u001b[39m\u001b[39m'\u001b[39m\u001b[39mWAVE\u001b[39m\u001b[39m'\u001b[39m:\n\u001b[0;32m    132\u001b[0m     \u001b[39mraise\u001b[39;00m Error(\u001b[39m'\u001b[39m\u001b[39mnot a WAVE file\u001b[39m\u001b[39m'\u001b[39m)\n",
      "\u001b[1;31mError\u001b[0m: file does not start with RIFF id"
     ]
    }
   ],
   "source": [
    "import os\n",
    "import glob\n",
    "import wave\n",
    "import numpy as np\n",
    "from scipy.signal import butter, lfilter\n",
    "import soundfile as sf\n",
    "\n",
    "# Function to apply a Butterworth band-pass filter\n",
    "def butter_bandpass(lowcut, highcut, fs, order=5):\n",
    "    nyq = 0.5 * fs\n",
    "    low = lowcut / nyq\n",
    "    high = highcut / nyq\n",
    "    b, a = butter(order, [low, high], btype='band')\n",
    "    return b, a\n",
    "\n",
    "def butter_bandpass_filter(data, lowcut, highcut, fs, order=5):\n",
    "    b, a = butter_bandpass(lowcut, highcut, fs, order=order)\n",
    "    y = lfilter(b, a, data)\n",
    "    return y\n",
    "\n",
    "# Parameters for digitization\n",
    "lowcut = 300.0  # Lower cutoff frequency for pre-filtering (Hz)\n",
    "highcut = 3400.0  # Upper cutoff frequency for pre-filtering (Hz)\n",
    "fs = 8000  # Sampling rate (Hz)\n",
    "n_bits = 16  # Quantization accuracy (bits)\n",
    "\n",
    "# Path to the directory containing folders with .wav files\n",
    "root_path =  \"d:\\Sistema\\Escritorio\\Escritorio\\Tesis\\DAIC-WOZ\\data\"\n",
    "\n",
    "\n",
    "# Process each folder and .wav file\n",
    "for folder_name in os.listdir(root_path):\n",
    "    folder_path = os.path.join(root_path, folder_name)\n",
    "    if os.path.isdir(folder_path):\n",
    "        # Find all .wav files in the current folder\n",
    "        for wav_file_path in glob.glob(os.path.join(folder_path, '*.wav')):\n",
    "            # Read the analog audio signal (wav file)\n",
    "            with wave.open(wav_file_path, 'r') as wav_file:\n",
    "                n_channels = wav_file.getnchannels()\n",
    "                sample_width = wav_file.getsampwidth()\n",
    "                framerate = wav_file.getframerate()\n",
    "                n_frames = wav_file.getnframes()\n",
    "                audio_signal = wav_file.readframes(n_frames)\n",
    "\n",
    "            # Convert audio signal to numpy array\n",
    "            audio_signal = np.frombuffer(audio_signal, dtype=np.int16)\n",
    "\n",
    "            # Pre-filtering\n",
    "            filtered_signal = butter_bandpass_filter(audio_signal, lowcut, highcut, fs)\n",
    "\n",
    "            # Sampling (downsampling if necessary)\n",
    "            sampled_signal = filtered_signal[::int(framerate/fs)]\n",
    "\n",
    "            # Quantization (assuming the signal is already 16-bit, no additional quantization is needed)\n",
    "            quantized_signal = np.array(sampled_signal, dtype=np.int16)\n",
    "\n",
    "            # Coding (compression) - This step would depend on the coding algorithm used\n",
    "            # For example, applying a simple delta encoding (not an actual compression algorithm)\n",
    "            coded_signal = np.diff(quantized_signal)\n",
    "\n",
    "            # Extract the audio file name without extension\n",
    "            audio_file_name = os.path.splitext(os.path.basename(wav_file_path))[0]\n",
    "\n",
    "            # Output file path\n",
    "            output_file_path = os.path.join(folder_path, f'preprocessed_{audio_file_name}.wav')\n",
    "\n",
    "            # Save the digitized audio signal as a .wav file\n",
    "            with wave.open(output_file_path, 'w') as wav_out:\n",
    "                wav_out.setnchannels(n_channels)\n",
    "                wav_out.setsampwidth(sample_width)\n",
    "                wav_out.setframerate(fs)\n",
    "                wav_out.writeframes(coded_signal.tobytes())\n",
    "\n",
    "            print(f'Processed and saved: {output_file_path}')"
   ]
  }
 ],
 "metadata": {
  "kernelspec": {
   "display_name": ".venv",
   "language": "python",
   "name": "python3"
  },
  "language_info": {
   "codemirror_mode": {
    "name": "ipython",
    "version": 3
   },
   "file_extension": ".py",
   "mimetype": "text/x-python",
   "name": "python",
   "nbconvert_exporter": "python",
   "pygments_lexer": "ipython3",
   "version": "3.10.4"
  }
 },
 "nbformat": 4,
 "nbformat_minor": 2
}
