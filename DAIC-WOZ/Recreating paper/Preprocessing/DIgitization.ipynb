{
 "cells": [
  {
   "cell_type": "code",
   "execution_count": 3,
   "metadata": {},
   "outputs": [
    {
     "name": "stdout",
     "output_type": "stream",
     "text": [
      "Collecting numpy\n",
      "  Downloading numpy-1.26.2-cp310-cp310-win_amd64.whl.metadata (61 kB)\n",
      "     ---------------------------------------- 0.0/61.2 kB ? eta -:--:--\n",
      "     ---------------------------------------- 61.2/61.2 kB 1.6 MB/s eta 0:00:00\n",
      "Downloading numpy-1.26.2-cp310-cp310-win_amd64.whl (15.8 MB)\n",
      "   ---------------------------------------- 0.0/15.8 MB ? eta -:--:--\n",
      "    --------------------------------------- 0.2/15.8 MB 4.1 MB/s eta 0:00:04\n",
      "   - -------------------------------------- 0.7/15.8 MB 7.5 MB/s eta 0:00:03\n",
      "   ----- ---------------------------------- 2.0/15.8 MB 14.1 MB/s eta 0:00:01\n",
      "   ------------- -------------------------- 5.3/15.8 MB 28.2 MB/s eta 0:00:01\n",
      "   ------------------------- -------------- 10.0/15.8 MB 42.5 MB/s eta 0:00:01\n",
      "   --------------------------- ------------ 11.0/15.8 MB 59.5 MB/s eta 0:00:01\n",
      "   ----------------------------- ---------- 11.8/15.8 MB 59.5 MB/s eta 0:00:01\n",
      "   ---------------------------------- ----- 13.7/15.8 MB 50.4 MB/s eta 0:00:01\n",
      "   ------------------------------------- -- 14.8/15.8 MB 43.5 MB/s eta 0:00:01\n",
      "   ---------------------------------------  15.8/15.8 MB 36.4 MB/s eta 0:00:01\n",
      "   ---------------------------------------- 15.8/15.8 MB 32.7 MB/s eta 0:00:00\n",
      "Installing collected packages: numpy\n",
      "Successfully installed numpy-1.26.2\n",
      "Collecting scipy\n",
      "  Downloading scipy-1.11.4-cp310-cp310-win_amd64.whl.metadata (60 kB)\n",
      "     ---------------------------------------- 0.0/60.4 kB ? eta -:--:--\n",
      "     ---------------------------------------- 60.4/60.4 kB 1.6 MB/s eta 0:00:00\n",
      "Requirement already satisfied: numpy<1.28.0,>=1.21.6 in d:\\sistema\\escritorio\\escritorio\\tesis\\daic-woz\\recreating paper\\preprocessing\\.venv\\lib\\site-packages (from scipy) (1.26.2)\n",
      "Downloading scipy-1.11.4-cp310-cp310-win_amd64.whl (44.1 MB)\n",
      "   ---------------------------------------- 0.0/44.1 MB ? eta -:--:--\n",
      "   ---------------------------------------- 0.1/44.1 MB 3.6 MB/s eta 0:00:13\n",
      "    --------------------------------------- 0.6/44.1 MB 7.2 MB/s eta 0:00:07\n",
      "   - -------------------------------------- 1.5/44.1 MB 11.7 MB/s eta 0:00:04\n",
      "   --- ------------------------------------ 4.2/44.1 MB 24.1 MB/s eta 0:00:02\n",
      "   ------- -------------------------------- 8.4/44.1 MB 36.1 MB/s eta 0:00:01\n",
      "   ---------- ----------------------------- 11.7/44.1 MB 93.9 MB/s eta 0:00:01\n",
      "   ----------- ---------------------------- 12.6/44.1 MB 65.6 MB/s eta 0:00:01\n",
      "   ------------ --------------------------- 13.6/44.1 MB 50.4 MB/s eta 0:00:01\n",
      "   ------------- -------------------------- 15.2/44.1 MB 46.7 MB/s eta 0:00:01\n",
      "   -------------- ------------------------- 16.4/44.1 MB 40.9 MB/s eta 0:00:01\n",
      "   ---------------- ----------------------- 18.5/44.1 MB 34.4 MB/s eta 0:00:01\n",
      "   ------------------ --------------------- 20.3/44.1 MB 32.7 MB/s eta 0:00:01\n",
      "   --------------------- ------------------ 23.6/44.1 MB 43.7 MB/s eta 0:00:01\n",
      "   ---------------------- ----------------- 24.5/44.1 MB 50.4 MB/s eta 0:00:01\n",
      "   ---------------------- ----------------- 24.7/44.1 MB 36.4 MB/s eta 0:00:01\n",
      "   ---------------------- ----------------- 24.9/44.1 MB 32.7 MB/s eta 0:00:01\n",
      "   ---------------------- ----------------- 25.3/44.1 MB 26.2 MB/s eta 0:00:01\n",
      "   ----------------------- ---------------- 25.5/44.1 MB 26.2 MB/s eta 0:00:01\n",
      "   ----------------------- ---------------- 25.7/44.1 MB 24.2 MB/s eta 0:00:01\n",
      "   ----------------------- ---------------- 26.3/44.1 MB 21.1 MB/s eta 0:00:01\n",
      "   ------------------------ --------------- 26.6/44.1 MB 20.5 MB/s eta 0:00:01\n",
      "   ------------------------ --------------- 27.1/44.1 MB 18.2 MB/s eta 0:00:01\n",
      "   ------------------------- -------------- 27.7/44.1 MB 17.7 MB/s eta 0:00:01\n",
      "   ------------------------- -------------- 28.1/44.1 MB 16.4 MB/s eta 0:00:01\n",
      "   -------------------------- ------------- 29.1/44.1 MB 16.0 MB/s eta 0:00:01\n",
      "   -------------------------- ------------- 29.7/44.1 MB 16.0 MB/s eta 0:00:01\n",
      "   --------------------------- ------------ 30.6/44.1 MB 14.5 MB/s eta 0:00:01\n",
      "   ---------------------------- ----------- 31.0/44.1 MB 14.2 MB/s eta 0:00:01\n",
      "   ------------------------------- -------- 34.5/44.1 MB 13.6 MB/s eta 0:00:01\n",
      "   ------------------------------------ --- 40.0/44.1 MB 54.7 MB/s eta 0:00:01\n",
      "   ---------------------------------------  44.1/44.1 MB 110.0 MB/s eta 0:00:01\n",
      "   ---------------------------------------  44.1/44.1 MB 110.0 MB/s eta 0:00:01\n",
      "   ---------------------------------------- 44.1/44.1 MB 59.4 MB/s eta 0:00:00\n",
      "Installing collected packages: scipy\n",
      "Successfully installed scipy-1.11.4\n"
     ]
    }
   ],
   "source": [
    "!pip install numpy\n",
    "!pip install scipy"
   ]
  },
  {
   "cell_type": "code",
   "execution_count": 4,
   "metadata": {},
   "outputs": [],
   "source": [
    "import os\n",
    "import numpy as np\n",
    "from scipy.io import wavfile\n",
    "from scipy.signal import butter, lfilter\n",
    "\n"
   ]
  },
  {
   "cell_type": "code",
   "execution_count": 5,
   "metadata": {},
   "outputs": [],
   "source": [
    "def amplify_and_gain_control(signal, amplification_factor):\n",
    "    amplified_signal = signal * amplification_factor\n",
    "    return amplified_signal\n",
    "\n",
    "def pre_filtering(signal, sampling_rate):\n",
    "    # Design a band-pass filter\n",
    "    low_cutoff = 300.0\n",
    "    high_cutoff = 3400.0\n",
    "    nyquist = 0.5 * sampling_rate\n",
    "    low = low_cutoff / nyquist\n",
    "    high = high_cutoff / nyquist\n",
    "    b, a = butter(N=6, Wn=[low, high], btype='band')\n",
    "    \n",
    "    # Apply the band-pass filter\n",
    "    filtered_signal = lfilter(b, a, signal)\n",
    "    return filtered_signal\n",
    "\n",
    "def analog_to_digital_conversion(signal, quantization_bits):\n",
    "    # Normalize the signal to the range [-1, 1]\n",
    "    normalized_signal = np.clip(signal, -1.0, 1.0)\n",
    "    \n",
    "    # Quantize the normalized signal\n",
    "    quantized_signal = np.round((normalized_signal + 1.0) / 2.0 * (2**quantization_bits - 1))\n",
    "    \n",
    "    return quantized_signal.astype(np.int16)\n",
    "\n",
    "def encoding(digital_signal):\n",
    "    # Additional encoding if needed\n",
    "    # This can include compression or other encoding techniques\n",
    "    \n",
    "    encoded_signal = digital_signal\n",
    "    return encoded_signal\n",
    "\n"
   ]
  },
  {
   "cell_type": "code",
   "execution_count": 28,
   "metadata": {},
   "outputs": [
    {
     "name": "stdout",
     "output_type": "stream",
     "text": [
      "Processing folder: d:\\Sistema\\Escritorio\\Escritorio\\Tesis\\DAIC-WOZ\\data\\300_P\n",
      "Processing file: d:\\Sistema\\Escritorio\\Escritorio\\Tesis\\DAIC-WOZ\\data\\300_P\\300_AUDIO.wav\n"
     ]
    },
    {
     "name": "stderr",
     "output_type": "stream",
     "text": [
      "C:\\Users\\herna\\AppData\\Local\\Temp\\ipykernel_27592\\2421983229.py:25: WavFileWarning: Reached EOF prematurely; finished at 20752044 bytes, expected 166016044 bytes from header.\n",
      "  sampling_rate, analog_audio_signal = wavfile.read(file_path)\n"
     ]
    },
    {
     "name": "stdout",
     "output_type": "stream",
     "text": [
      "Processed data saved to: d:\\Sistema\\Escritorio\\Escritorio\\Tesis\\DAIC-WOZ\\data\\300_P\\processed_300_AUDIO.wav\n",
      "Processing folder: d:\\Sistema\\Escritorio\\Escritorio\\Tesis\\DAIC-WOZ\\data\\301_P\n",
      "Processing file: d:\\Sistema\\Escritorio\\Escritorio\\Tesis\\DAIC-WOZ\\data\\301_P\\301_AUDIO.wav\n"
     ]
    },
    {
     "name": "stderr",
     "output_type": "stream",
     "text": [
      "C:\\Users\\herna\\AppData\\Local\\Temp\\ipykernel_27592\\2421983229.py:25: WavFileWarning: Reached EOF prematurely; finished at 26364844 bytes, expected 210918444 bytes from header.\n",
      "  sampling_rate, analog_audio_signal = wavfile.read(file_path)\n"
     ]
    },
    {
     "name": "stdout",
     "output_type": "stream",
     "text": [
      "Processed data saved to: d:\\Sistema\\Escritorio\\Escritorio\\Tesis\\DAIC-WOZ\\data\\301_P\\processed_301_AUDIO.wav\n",
      "Processing file: d:\\Sistema\\Escritorio\\Escritorio\\Tesis\\DAIC-WOZ\\data\\301_P\\processed_301_AUDIO.wav\n",
      "Processed data saved to: d:\\Sistema\\Escritorio\\Escritorio\\Tesis\\DAIC-WOZ\\data\\301_P\\processed_processed_301_AUDIO.wav\n",
      "Processing file: d:\\Sistema\\Escritorio\\Escritorio\\Tesis\\DAIC-WOZ\\data\\301_P\\processed_processed_301_AUDIO.wav\n",
      "Processed data saved to: d:\\Sistema\\Escritorio\\Escritorio\\Tesis\\DAIC-WOZ\\data\\301_P\\processed_processed_processed_301_AUDIO.wav\n",
      "Processing file: d:\\Sistema\\Escritorio\\Escritorio\\Tesis\\DAIC-WOZ\\data\\301_P\\processed_processed_processed_301_AUDIO.wav\n",
      "Processed data saved to: d:\\Sistema\\Escritorio\\Escritorio\\Tesis\\DAIC-WOZ\\data\\301_P\\processed_processed_processed_processed_301_AUDIO.wav\n",
      "Processing file: d:\\Sistema\\Escritorio\\Escritorio\\Tesis\\DAIC-WOZ\\data\\301_P\\processed_processed_processed_processed_301_AUDIO.wav\n"
     ]
    },
    {
     "ename": "KeyboardInterrupt",
     "evalue": "",
     "output_type": "error",
     "traceback": [
      "\u001b[1;31m---------------------------------------------------------------------------\u001b[0m",
      "\u001b[1;31mKeyboardInterrupt\u001b[0m                         Traceback (most recent call last)",
      "\u001b[1;32md:\\Sistema\\Escritorio\\Escritorio\\Tesis\\DAIC-WOZ\\Recreating paper\\Preprocessing\\DIgitization.ipynb Cell 4\u001b[0m line \u001b[0;36m4\n\u001b[0;32m     <a href='vscode-notebook-cell:/d%3A/Sistema/Escritorio/Escritorio/Tesis/DAIC-WOZ/Recreating%20paper/Preprocessing/DIgitization.ipynb#W2sZmlsZQ%3D%3D?line=39'>40</a>\u001b[0m \u001b[39m# Save the processed data as a new .wav file\u001b[39;00m\n\u001b[0;32m     <a href='vscode-notebook-cell:/d%3A/Sistema/Escritorio/Escritorio/Tesis/DAIC-WOZ/Recreating%20paper/Preprocessing/DIgitization.ipynb#W2sZmlsZQ%3D%3D?line=40'>41</a>\u001b[0m output_file_path \u001b[39m=\u001b[39m os\u001b[39m.\u001b[39mpath\u001b[39m.\u001b[39mjoin(folder_path, \u001b[39mf\u001b[39m\u001b[39m\"\u001b[39m\u001b[39mprocessed_\u001b[39m\u001b[39m{\u001b[39;00mfile_name\u001b[39m}\u001b[39;00m\u001b[39m\"\u001b[39m)\n\u001b[1;32m---> <a href='vscode-notebook-cell:/d%3A/Sistema/Escritorio/Escritorio/Tesis/DAIC-WOZ/Recreating%20paper/Preprocessing/DIgitization.ipynb#W2sZmlsZQ%3D%3D?line=41'>42</a>\u001b[0m wavfile\u001b[39m.\u001b[39;49mwrite(output_file_path, sampling_rate, encoded_signal)\n\u001b[0;32m     <a href='vscode-notebook-cell:/d%3A/Sistema/Escritorio/Escritorio/Tesis/DAIC-WOZ/Recreating%20paper/Preprocessing/DIgitization.ipynb#W2sZmlsZQ%3D%3D?line=42'>43</a>\u001b[0m \u001b[39mprint\u001b[39m(\u001b[39mf\u001b[39m\u001b[39m\"\u001b[39m\u001b[39mProcessed data saved to: \u001b[39m\u001b[39m{\u001b[39;00moutput_file_path\u001b[39m}\u001b[39;00m\u001b[39m\"\u001b[39m)\n\u001b[0;32m     <a href='vscode-notebook-cell:/d%3A/Sistema/Escritorio/Escritorio/Tesis/DAIC-WOZ/Recreating%20paper/Preprocessing/DIgitization.ipynb#W2sZmlsZQ%3D%3D?line=44'>45</a>\u001b[0m \u001b[39m# Add your further processing or saving logic here\u001b[39;00m\n",
      "File \u001b[1;32md:\\Sistema\\Escritorio\\Escritorio\\Tesis\\DAIC-WOZ\\Recreating paper\\Preprocessing\\.venv\\lib\\site-packages\\scipy\\io\\wavfile.py:823\u001b[0m, in \u001b[0;36mwrite\u001b[1;34m(filename, rate, data)\u001b[0m\n\u001b[0;32m    820\u001b[0m \u001b[39mif\u001b[39;00m data\u001b[39m.\u001b[39mdtype\u001b[39m.\u001b[39mbyteorder \u001b[39m==\u001b[39m \u001b[39m'\u001b[39m\u001b[39m>\u001b[39m\u001b[39m'\u001b[39m \u001b[39mor\u001b[39;00m (data\u001b[39m.\u001b[39mdtype\u001b[39m.\u001b[39mbyteorder \u001b[39m==\u001b[39m \u001b[39m'\u001b[39m\u001b[39m=\u001b[39m\u001b[39m'\u001b[39m \u001b[39mand\u001b[39;00m\n\u001b[0;32m    821\u001b[0m                                    sys\u001b[39m.\u001b[39mbyteorder \u001b[39m==\u001b[39m \u001b[39m'\u001b[39m\u001b[39mbig\u001b[39m\u001b[39m'\u001b[39m):\n\u001b[0;32m    822\u001b[0m     data \u001b[39m=\u001b[39m data\u001b[39m.\u001b[39mbyteswap()\n\u001b[1;32m--> 823\u001b[0m _array_tofile(fid, data)\n\u001b[0;32m    825\u001b[0m \u001b[39m# Determine file size and place it in correct\u001b[39;00m\n\u001b[0;32m    826\u001b[0m \u001b[39m#  position at start of the file.\u001b[39;00m\n\u001b[0;32m    827\u001b[0m size \u001b[39m=\u001b[39m fid\u001b[39m.\u001b[39mtell()\n",
      "File \u001b[1;32md:\\Sistema\\Escritorio\\Escritorio\\Tesis\\DAIC-WOZ\\Recreating paper\\Preprocessing\\.venv\\lib\\site-packages\\scipy\\io\\wavfile.py:840\u001b[0m, in \u001b[0;36m_array_tofile\u001b[1;34m(fid, data)\u001b[0m\n\u001b[0;32m    838\u001b[0m \u001b[39mdef\u001b[39;00m \u001b[39m_array_tofile\u001b[39m(fid, data):\n\u001b[0;32m    839\u001b[0m     \u001b[39m# ravel gives a c-contiguous buffer\u001b[39;00m\n\u001b[1;32m--> 840\u001b[0m     fid\u001b[39m.\u001b[39;49mwrite(data\u001b[39m.\u001b[39;49mravel()\u001b[39m.\u001b[39;49mview(\u001b[39m'\u001b[39;49m\u001b[39mb\u001b[39;49m\u001b[39m'\u001b[39;49m)\u001b[39m.\u001b[39;49mdata)\n",
      "\u001b[1;31mKeyboardInterrupt\u001b[0m: "
     ]
    }
   ],
   "source": [
    "# Specify the path to the main folder containing subfolders with .wav files\n",
    "main_folder_path = \"d:\\Sistema\\Escritorio\\Escritorio\\Tesis\\DAIC-WOZ\\data\"\n",
    "\n",
    "# Default values\n",
    "amplification_factor = 0.1\n",
    "quantization_bits = 16\n",
    "\n",
    "# Iterate through each folder in the main folder\n",
    "for folder_name in os.listdir(main_folder_path):\n",
    "    folder_path = os.path.join(main_folder_path, folder_name)\n",
    "    \n",
    "    # Check if it's a directory\n",
    "    if os.path.isdir(folder_path):\n",
    "        print(f\"Processing folder: {folder_path}\")\n",
    "        \n",
    "        # Iterate through each file in the folder\n",
    "        for file_name in os.listdir(folder_path):\n",
    "            file_path = os.path.join(folder_path, file_name)\n",
    "            \n",
    "            # Check if it's a .wav file\n",
    "            if file_name.lower().endswith('.wav'):\n",
    "                print(f\"Processing file: {file_path}\")\n",
    "                \n",
    "                # Load .wav file\n",
    "                sampling_rate, analog_audio_signal = wavfile.read(file_path)\n",
    "\n",
    "                # Step 1: Amplification and Gain Control\n",
    "                amplified_signal = amplify_and_gain_control(analog_audio_signal, amplification_factor)\n",
    "\n",
    "                # Step 2: Pre-Filtering\n",
    "                filtered_signal = pre_filtering(amplified_signal, sampling_rate)\n",
    "\n",
    "                # Step 3: Analog to Digital Conversion\n",
    "                #digital_signal = analog_to_digital_conversion(filtered_signal, quantization_bits)\n",
    "                digital_signal = analog_to_digital_conversion(amplified_signal, quantization_bits)\n",
    "\n",
    "                # Step 4: Coding/Encoding\n",
    "                encoded_signal = encoding(digital_signal)\n",
    "\n",
    "                # Save the processed data as a new .wav file\n",
    "                output_file_path = os.path.join(folder_path, f\"processed_{file_name}\")\n",
    "                wavfile.write(output_file_path, sampling_rate, encoded_signal)\n",
    "                print(f\"Processed data saved to: {output_file_path}\")\n",
    "                \n",
    "                # Add your further processing or saving logic here\n"
   ]
  }
 ],
 "metadata": {
  "kernelspec": {
   "display_name": ".venv",
   "language": "python",
   "name": "python3"
  },
  "language_info": {
   "codemirror_mode": {
    "name": "ipython",
    "version": 3
   },
   "file_extension": ".py",
   "mimetype": "text/x-python",
   "name": "python",
   "nbconvert_exporter": "python",
   "pygments_lexer": "ipython3",
   "version": "3.10.4"
  }
 },
 "nbformat": 4,
 "nbformat_minor": 2
}
