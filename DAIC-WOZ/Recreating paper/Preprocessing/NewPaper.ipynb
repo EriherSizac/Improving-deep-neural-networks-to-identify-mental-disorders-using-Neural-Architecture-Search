{
 "cells": [
  {
   "cell_type": "code",
   "execution_count": 19,
   "metadata": {},
   "outputs": [
    {
     "name": "stdout",
     "output_type": "stream",
     "text": [
      "Requirement already satisfied: noisereduce in c:\\users\\herna\\anaconda3\\envs\\tesis\\lib\\site-packages (3.0.0)\n",
      "Requirement already satisfied: scipy in c:\\users\\herna\\anaconda3\\envs\\tesis\\lib\\site-packages (from noisereduce) (1.12.0)\n",
      "Requirement already satisfied: matplotlib in c:\\users\\herna\\anaconda3\\envs\\tesis\\lib\\site-packages (from noisereduce) (3.8.3)\n",
      "Requirement already satisfied: librosa in c:\\users\\herna\\anaconda3\\envs\\tesis\\lib\\site-packages (from noisereduce) (0.10.1)\n",
      "Requirement already satisfied: numpy in c:\\users\\herna\\anaconda3\\envs\\tesis\\lib\\site-packages (from noisereduce) (1.26.4)\n",
      "Requirement already satisfied: tqdm in c:\\users\\herna\\anaconda3\\envs\\tesis\\lib\\site-packages (from noisereduce) (4.66.2)\n",
      "Requirement already satisfied: audioread>=2.1.9 in c:\\users\\herna\\anaconda3\\envs\\tesis\\lib\\site-packages (from librosa->noisereduce) (3.0.1)\n",
      "Requirement already satisfied: scikit-learn>=0.20.0 in c:\\users\\herna\\anaconda3\\envs\\tesis\\lib\\site-packages (from librosa->noisereduce) (1.4.1.post1)\n",
      "Requirement already satisfied: joblib>=0.14 in c:\\users\\herna\\anaconda3\\envs\\tesis\\lib\\site-packages (from librosa->noisereduce) (1.3.2)\n",
      "Requirement already satisfied: decorator>=4.3.0 in c:\\users\\herna\\anaconda3\\envs\\tesis\\lib\\site-packages (from librosa->noisereduce) (5.1.1)\n",
      "Requirement already satisfied: numba>=0.51.0 in c:\\users\\herna\\anaconda3\\envs\\tesis\\lib\\site-packages (from librosa->noisereduce) (0.59.0)\n",
      "Requirement already satisfied: soundfile>=0.12.1 in c:\\users\\herna\\anaconda3\\envs\\tesis\\lib\\site-packages (from librosa->noisereduce) (0.12.1)\n",
      "Requirement already satisfied: pooch>=1.0 in c:\\users\\herna\\anaconda3\\envs\\tesis\\lib\\site-packages (from librosa->noisereduce) (1.8.1)\n",
      "Requirement already satisfied: soxr>=0.3.2 in c:\\users\\herna\\anaconda3\\envs\\tesis\\lib\\site-packages (from librosa->noisereduce) (0.3.7)\n",
      "Requirement already satisfied: typing-extensions>=4.1.1 in c:\\users\\herna\\anaconda3\\envs\\tesis\\lib\\site-packages (from librosa->noisereduce) (4.10.0)\n",
      "Requirement already satisfied: lazy-loader>=0.1 in c:\\users\\herna\\anaconda3\\envs\\tesis\\lib\\site-packages (from librosa->noisereduce) (0.3)\n",
      "Requirement already satisfied: msgpack>=1.0 in c:\\users\\herna\\anaconda3\\envs\\tesis\\lib\\site-packages (from librosa->noisereduce) (1.0.7)\n",
      "Requirement already satisfied: contourpy>=1.0.1 in c:\\users\\herna\\anaconda3\\envs\\tesis\\lib\\site-packages (from matplotlib->noisereduce) (1.2.0)\n",
      "Requirement already satisfied: cycler>=0.10 in c:\\users\\herna\\anaconda3\\envs\\tesis\\lib\\site-packages (from matplotlib->noisereduce) (0.12.1)\n",
      "Requirement already satisfied: fonttools>=4.22.0 in c:\\users\\herna\\anaconda3\\envs\\tesis\\lib\\site-packages (from matplotlib->noisereduce) (4.49.0)\n",
      "Requirement already satisfied: kiwisolver>=1.3.1 in c:\\users\\herna\\anaconda3\\envs\\tesis\\lib\\site-packages (from matplotlib->noisereduce) (1.4.5)\n",
      "Requirement already satisfied: packaging>=20.0 in c:\\users\\herna\\anaconda3\\envs\\tesis\\lib\\site-packages (from matplotlib->noisereduce) (23.2)\n",
      "Requirement already satisfied: pillow>=8 in c:\\users\\herna\\anaconda3\\envs\\tesis\\lib\\site-packages (from matplotlib->noisereduce) (10.2.0)\n",
      "Requirement already satisfied: pyparsing>=2.3.1 in c:\\users\\herna\\anaconda3\\envs\\tesis\\lib\\site-packages (from matplotlib->noisereduce) (3.1.1)\n",
      "Requirement already satisfied: python-dateutil>=2.7 in c:\\users\\herna\\anaconda3\\envs\\tesis\\lib\\site-packages (from matplotlib->noisereduce) (2.8.2)\n",
      "Requirement already satisfied: importlib-resources>=3.2.0 in c:\\users\\herna\\anaconda3\\envs\\tesis\\lib\\site-packages (from matplotlib->noisereduce) (6.1.2)\n",
      "Requirement already satisfied: colorama in c:\\users\\herna\\anaconda3\\envs\\tesis\\lib\\site-packages (from tqdm->noisereduce) (0.4.6)\n",
      "Requirement already satisfied: zipp>=3.1.0 in c:\\users\\herna\\anaconda3\\envs\\tesis\\lib\\site-packages (from importlib-resources>=3.2.0->matplotlib->noisereduce) (3.17.0)\n",
      "Requirement already satisfied: llvmlite<0.43,>=0.42.0dev0 in c:\\users\\herna\\anaconda3\\envs\\tesis\\lib\\site-packages (from numba>=0.51.0->librosa->noisereduce) (0.42.0)\n",
      "Requirement already satisfied: platformdirs>=2.5.0 in c:\\users\\herna\\anaconda3\\envs\\tesis\\lib\\site-packages (from pooch>=1.0->librosa->noisereduce) (4.2.0)\n",
      "Requirement already satisfied: requests>=2.19.0 in c:\\users\\herna\\anaconda3\\envs\\tesis\\lib\\site-packages (from pooch>=1.0->librosa->noisereduce) (2.31.0)\n",
      "Requirement already satisfied: six>=1.5 in c:\\users\\herna\\anaconda3\\envs\\tesis\\lib\\site-packages (from python-dateutil>=2.7->matplotlib->noisereduce) (1.16.0)\n",
      "Requirement already satisfied: threadpoolctl>=2.0.0 in c:\\users\\herna\\anaconda3\\envs\\tesis\\lib\\site-packages (from scikit-learn>=0.20.0->librosa->noisereduce) (3.3.0)\n",
      "Requirement already satisfied: cffi>=1.0 in c:\\users\\herna\\anaconda3\\envs\\tesis\\lib\\site-packages (from soundfile>=0.12.1->librosa->noisereduce) (1.16.0)\n",
      "Requirement already satisfied: pycparser in c:\\users\\herna\\anaconda3\\envs\\tesis\\lib\\site-packages (from cffi>=1.0->soundfile>=0.12.1->librosa->noisereduce) (2.21)\n",
      "Requirement already satisfied: charset-normalizer<4,>=2 in c:\\users\\herna\\anaconda3\\envs\\tesis\\lib\\site-packages (from requests>=2.19.0->pooch>=1.0->librosa->noisereduce) (3.3.2)\n",
      "Requirement already satisfied: idna<4,>=2.5 in c:\\users\\herna\\anaconda3\\envs\\tesis\\lib\\site-packages (from requests>=2.19.0->pooch>=1.0->librosa->noisereduce) (3.6)\n",
      "Requirement already satisfied: urllib3<3,>=1.21.1 in c:\\users\\herna\\anaconda3\\envs\\tesis\\lib\\site-packages (from requests>=2.19.0->pooch>=1.0->librosa->noisereduce) (2.2.1)\n",
      "Requirement already satisfied: certifi>=2017.4.17 in c:\\users\\herna\\anaconda3\\envs\\tesis\\lib\\site-packages (from requests>=2.19.0->pooch>=1.0->librosa->noisereduce) (2024.2.2)\n",
      "Requirement already satisfied: scipy in c:\\users\\herna\\anaconda3\\envs\\tesis\\lib\\site-packages (1.12.0)\n",
      "Requirement already satisfied: numpy<1.29.0,>=1.22.4 in c:\\users\\herna\\anaconda3\\envs\\tesis\\lib\\site-packages (from scipy) (1.26.4)\n"
     ]
    }
   ],
   "source": [
    "!pip install noisereduce\n",
    "!pip install scipy"
   ]
  },
  {
   "cell_type": "code",
   "execution_count": 7,
   "metadata": {},
   "outputs": [
    {
     "name": "stderr",
     "output_type": "stream",
     "text": [
      "c:\\Users\\herna\\anaconda3\\envs\\Tesis\\lib\\site-packages\\tqdm\\auto.py:21: TqdmWarning: IProgress not found. Please update jupyter and ipywidgets. See https://ipywidgets.readthedocs.io/en/stable/user_install.html\n",
      "  from .autonotebook import tqdm as notebook_tqdm\n"
     ]
    }
   ],
   "source": [
    "# Global imports\n",
    "import os\n",
    "import glob\n",
    "import numpy as np\n",
    "import matplotlib.pyplot as plt\n",
    "from scipy.io import wavfile\n",
    "from scipy import signal\n",
    "from PIL import Image\n",
    "import re\n",
    "import noisereduce as nr"
   ]
  },
  {
   "cell_type": "code",
   "execution_count": 8,
   "metadata": {},
   "outputs": [],
   "source": [
    "# Path to the directory containing folders with .wav files\n",
    "root_path = \"d:\\Sistema\\Escritorio\\Escritorio\\Tesis\\DAIC-WOZ\\data\"\n",
    "\n",
    "# Define the root path for saving progress\n",
    "PROGRESS_PATH = os.path.join(os.getcwd(), 'progress.txt')"
   ]
  },
  {
   "cell_type": "code",
   "execution_count": 18,
   "metadata": {},
   "outputs": [],
   "source": [
    "\n",
    "# Function to generate spectrogram\n",
    "def ggenerate_spectrogram(data, rate, save_path, resized_spectrogram_save_path):\n",
    "    f, t, Sxx = signal.spectrogram(data, rate)\n",
    "    plt.figure(figsize=(10, 4))\n",
    "    plt.pcolormesh(t, f, Sxx, shading='gouraud')\n",
    "    plt.imshow(10 * np.log10(Sxx), aspect='auto', cmap='viridis')\n",
    "    plt.axis('off')  # Turn off axis labels\n",
    "    plt.savefig(save_path, bbox_inches='tight', pad_inches=0)\n",
    "    plt.close()\n",
    "    resize_image(save_path, (792, 252), resized_spectrogram_save_path)\n",
    "    plt.savefig(save_path, bbox_inches='tight', pad_inches=0, facecolor='black')  # Dark background\n",
    "    resize_image(save_path, (792, 252), resized_spectrogram_save_path)\n",
    "    \n",
    "    \n",
    "# Function to generate spectrogram using scipy\n",
    "def generate_spectrogram(data, rate, save_path, resized_spectrogram_save_path):\n",
    "    plt.figure(figsize=(10, 4))\n",
    "    f, t, Sxx = signal.spectrogram(data, fs=rate, nperseg=256, noverlap=128, window='hamming', scaling='spectrum')\n",
    "    plt.pcolormesh(t, f, 10 * np.log10(Sxx + 1e-10), cmap='inferno')  # Adding small value to avoid log(0)\n",
    "    plt.axis('off')  # Turn off axis labels\n",
    "    plt.savefig(save_path, bbox_inches='tight', pad_inches=0, facecolor='black')  # Dark background\n",
    "    plt.close()\n",
    "    resize_image(save_path, (792, 252), resized_spectrogram_save_path)\n",
    "\n",
    "\n",
    "# Function to resize image\n",
    "def resize_image(image_path, target_size, save_path):\n",
    "    img = Image.open(image_path)\n",
    "    img_resized = img.resize(target_size, resample=Image.Resampling.NEAREST)\n",
    "    img_resized.save(save_path)"
   ]
  },
  {
   "cell_type": "code",
   "execution_count": 10,
   "metadata": {},
   "outputs": [],
   "source": [
    "# Function to save progress\n",
    "def save_progress( wav_file_path):\n",
    "    with open(PROGRESS_PATH, 'w') as file:\n",
    "        file.write(wav_file_path)\n",
    "\n",
    "# Function to load progress\n",
    "def load_progress():\n",
    "    progress_file = PROGRESS_PATH\n",
    "    if os.path.exists(progress_file):\n",
    "        with open(progress_file, 'r') as file:\n",
    "            return file.read().strip()\n",
    "    else:\n",
    "        return None"
   ]
  },
  {
   "cell_type": "code",
   "execution_count": 14,
   "metadata": {},
   "outputs": [],
   "source": [
    "def extract_numbers_from_string(input_string):\n",
    "    # Regular expression to match numbers\n",
    "    pattern = r'\\d+'\n",
    "    # Find all numbers in the input string\n",
    "    numbers = re.findall(pattern, input_string)\n",
    "    return numbers"
   ]
  },
  {
   "cell_type": "code",
   "execution_count": null,
   "metadata": {},
   "outputs": [],
   "source": [
    "# Generate preprocessed files\n",
    "for folder_name in os.listdir(root_path):\n",
    "  folder_path = os.path.join(root_path, folder_name)\n",
    "  if os.path.isdir(folder_path):\n",
    "    for wav_file_path in glob.glob(os.path.join(folder_path, '*.wav')):\n",
    "      print(folder_path)\n",
    "      # load data\n",
    "      rate, data = wavfile.read(wav_file_path)\n",
    "      # perform noise reduction\n",
    "      reduced_noise = nr.reduce_noise(y=data, sr=rate)\n",
    "      # Extract the audio file name without extension\n",
    "      audio_file_name = os.path.splitext(os.path.basename(wav_file_path))[0]\n",
    "      # new file name with folder route\n",
    "      file_name = os.path.join(folder_path, f'preprocessed_{audio_file_name}.wav')\n",
    "      wavfile.write(file_name, rate, reduced_noise)"
   ]
  },
  {
   "cell_type": "code",
   "execution_count": 19,
   "metadata": {},
   "outputs": [
    {
     "name": "stdout",
     "output_type": "stream",
     "text": [
      "d:\\Sistema\\Escritorio\\Escritorio\\Tesis\\DAIC-WOZ\\data\\300_P\n",
      "\n",
      "Generating spectrogram for: d:\\Sistema\\Escritorio\\Escritorio\\Tesis\\DAIC-WOZ\\data\\300_P\\preprocessed_300_AUDIO.wav\n"
     ]
    },
    {
     "ename": "MemoryError",
     "evalue": "Unable to allocate 158. MiB for an array with shape (81061, 256) and data type float64",
     "output_type": "error",
     "traceback": [
      "\u001b[1;31m---------------------------------------------------------------------------\u001b[0m",
      "\u001b[1;31mMemoryError\u001b[0m                               Traceback (most recent call last)",
      "Cell \u001b[1;32mIn[19], line 24\u001b[0m\n\u001b[0;32m     22\u001b[0m spectrogram_save_path \u001b[38;5;241m=\u001b[39m \u001b[38;5;124mf\u001b[39m\u001b[38;5;124m\"\u001b[39m\u001b[38;5;124mspectrogram_\u001b[39m\u001b[38;5;132;01m{\u001b[39;00maudio_file_name\u001b[38;5;132;01m}\u001b[39;00m\u001b[38;5;124m.jpg\u001b[39m\u001b[38;5;124m\"\u001b[39m\n\u001b[0;32m     23\u001b[0m resized_spectrogram_save_path \u001b[38;5;241m=\u001b[39m os\u001b[38;5;241m.\u001b[39mpath\u001b[38;5;241m.\u001b[39mjoin(folder_path, \u001b[38;5;124mf\u001b[39m\u001b[38;5;124m\"\u001b[39m\u001b[38;5;124mresized_spectrogram_\u001b[39m\u001b[38;5;132;01m{\u001b[39;00maudio_file_name\u001b[38;5;132;01m}\u001b[39;00m\u001b[38;5;124m.jpg\u001b[39m\u001b[38;5;124m\"\u001b[39m)\n\u001b[1;32m---> 24\u001b[0m \u001b[43mgenerate_spectrogram\u001b[49m\u001b[43m(\u001b[49m\u001b[43mdata\u001b[49m\u001b[43m,\u001b[49m\u001b[43m \u001b[49m\u001b[43mrate\u001b[49m\u001b[43m,\u001b[49m\u001b[43m  \u001b[49m\u001b[43mos\u001b[49m\u001b[38;5;241;43m.\u001b[39;49m\u001b[43mpath\u001b[49m\u001b[38;5;241;43m.\u001b[39;49m\u001b[43mjoin\u001b[49m\u001b[43m(\u001b[49m\u001b[43mfolder_path\u001b[49m\u001b[43m,\u001b[49m\u001b[43mspectrogram_save_path\u001b[49m\u001b[43m)\u001b[49m\u001b[43m,\u001b[49m\u001b[43m \u001b[49m\u001b[43mresized_spectrogram_save_path\u001b[49m\u001b[43m)\u001b[49m\n\u001b[0;32m     26\u001b[0m \u001b[38;5;66;03m# Delete original spectrogram\u001b[39;00m\n\u001b[0;32m     27\u001b[0m \u001b[38;5;66;03m#os.remove(spectrogram_save_path)\u001b[39;00m\n",
      "Cell \u001b[1;32mIn[18], line 18\u001b[0m, in \u001b[0;36mgenerate_spectrogram\u001b[1;34m(data, rate, save_path, resized_spectrogram_save_path)\u001b[0m\n\u001b[0;32m     16\u001b[0m \u001b[38;5;28;01mdef\u001b[39;00m \u001b[38;5;21mgenerate_spectrogram\u001b[39m(data, rate, save_path, resized_spectrogram_save_path):\n\u001b[0;32m     17\u001b[0m     plt\u001b[38;5;241m.\u001b[39mfigure(figsize\u001b[38;5;241m=\u001b[39m(\u001b[38;5;241m10\u001b[39m, \u001b[38;5;241m4\u001b[39m))\n\u001b[1;32m---> 18\u001b[0m     f, t, Sxx \u001b[38;5;241m=\u001b[39m \u001b[43msignal\u001b[49m\u001b[38;5;241;43m.\u001b[39;49m\u001b[43mspectrogram\u001b[49m\u001b[43m(\u001b[49m\u001b[43mdata\u001b[49m\u001b[43m,\u001b[49m\u001b[43m \u001b[49m\u001b[43mfs\u001b[49m\u001b[38;5;241;43m=\u001b[39;49m\u001b[43mrate\u001b[49m\u001b[43m,\u001b[49m\u001b[43m \u001b[49m\u001b[43mnperseg\u001b[49m\u001b[38;5;241;43m=\u001b[39;49m\u001b[38;5;241;43m256\u001b[39;49m\u001b[43m,\u001b[49m\u001b[43m \u001b[49m\u001b[43mnoverlap\u001b[49m\u001b[38;5;241;43m=\u001b[39;49m\u001b[38;5;241;43m128\u001b[39;49m\u001b[43m,\u001b[49m\u001b[43m \u001b[49m\u001b[43mwindow\u001b[49m\u001b[38;5;241;43m=\u001b[39;49m\u001b[38;5;124;43m'\u001b[39;49m\u001b[38;5;124;43mhamming\u001b[39;49m\u001b[38;5;124;43m'\u001b[39;49m\u001b[43m,\u001b[49m\u001b[43m \u001b[49m\u001b[43mscaling\u001b[49m\u001b[38;5;241;43m=\u001b[39;49m\u001b[38;5;124;43m'\u001b[39;49m\u001b[38;5;124;43mspectrum\u001b[39;49m\u001b[38;5;124;43m'\u001b[39;49m\u001b[43m)\u001b[49m\n\u001b[0;32m     19\u001b[0m     plt\u001b[38;5;241m.\u001b[39mpcolormesh(t, f, \u001b[38;5;241m10\u001b[39m \u001b[38;5;241m*\u001b[39m np\u001b[38;5;241m.\u001b[39mlog10(Sxx \u001b[38;5;241m+\u001b[39m \u001b[38;5;241m1e-10\u001b[39m), cmap\u001b[38;5;241m=\u001b[39m\u001b[38;5;124m'\u001b[39m\u001b[38;5;124minferno\u001b[39m\u001b[38;5;124m'\u001b[39m)  \u001b[38;5;66;03m# Adding small value to avoid log(0)\u001b[39;00m\n\u001b[0;32m     20\u001b[0m     plt\u001b[38;5;241m.\u001b[39maxis(\u001b[38;5;124m'\u001b[39m\u001b[38;5;124moff\u001b[39m\u001b[38;5;124m'\u001b[39m)  \u001b[38;5;66;03m# Turn off axis labels\u001b[39;00m\n",
      "File \u001b[1;32mc:\\Users\\herna\\anaconda3\\envs\\Tesis\\lib\\site-packages\\scipy\\signal\\_spectral_py.py:772\u001b[0m, in \u001b[0;36mspectrogram\u001b[1;34m(x, fs, window, nperseg, noverlap, nfft, detrend, return_onesided, scaling, axis, mode)\u001b[0m\n\u001b[0;32m    769\u001b[0m     noverlap \u001b[38;5;241m=\u001b[39m nperseg \u001b[38;5;241m/\u001b[39m\u001b[38;5;241m/\u001b[39m \u001b[38;5;241m8\u001b[39m\n\u001b[0;32m    771\u001b[0m \u001b[38;5;28;01mif\u001b[39;00m mode \u001b[38;5;241m==\u001b[39m \u001b[38;5;124m'\u001b[39m\u001b[38;5;124mpsd\u001b[39m\u001b[38;5;124m'\u001b[39m:\n\u001b[1;32m--> 772\u001b[0m     freqs, time, Sxx \u001b[38;5;241m=\u001b[39m \u001b[43m_spectral_helper\u001b[49m\u001b[43m(\u001b[49m\u001b[43mx\u001b[49m\u001b[43m,\u001b[49m\u001b[43m \u001b[49m\u001b[43mx\u001b[49m\u001b[43m,\u001b[49m\u001b[43m \u001b[49m\u001b[43mfs\u001b[49m\u001b[43m,\u001b[49m\u001b[43m \u001b[49m\u001b[43mwindow\u001b[49m\u001b[43m,\u001b[49m\u001b[43m \u001b[49m\u001b[43mnperseg\u001b[49m\u001b[43m,\u001b[49m\n\u001b[0;32m    773\u001b[0m \u001b[43m                                        \u001b[49m\u001b[43mnoverlap\u001b[49m\u001b[43m,\u001b[49m\u001b[43m \u001b[49m\u001b[43mnfft\u001b[49m\u001b[43m,\u001b[49m\u001b[43m \u001b[49m\u001b[43mdetrend\u001b[49m\u001b[43m,\u001b[49m\n\u001b[0;32m    774\u001b[0m \u001b[43m                                        \u001b[49m\u001b[43mreturn_onesided\u001b[49m\u001b[43m,\u001b[49m\u001b[43m \u001b[49m\u001b[43mscaling\u001b[49m\u001b[43m,\u001b[49m\u001b[43m \u001b[49m\u001b[43maxis\u001b[49m\u001b[43m,\u001b[49m\n\u001b[0;32m    775\u001b[0m \u001b[43m                                        \u001b[49m\u001b[43mmode\u001b[49m\u001b[38;5;241;43m=\u001b[39;49m\u001b[38;5;124;43m'\u001b[39;49m\u001b[38;5;124;43mpsd\u001b[39;49m\u001b[38;5;124;43m'\u001b[39;49m\u001b[43m)\u001b[49m\n\u001b[0;32m    777\u001b[0m \u001b[38;5;28;01melse\u001b[39;00m:\n\u001b[0;32m    778\u001b[0m     freqs, time, Sxx \u001b[38;5;241m=\u001b[39m _spectral_helper(x, x, fs, window, nperseg,\n\u001b[0;32m    779\u001b[0m                                         noverlap, nfft, detrend,\n\u001b[0;32m    780\u001b[0m                                         return_onesided, scaling, axis,\n\u001b[0;32m    781\u001b[0m                                         mode\u001b[38;5;241m=\u001b[39m\u001b[38;5;124m'\u001b[39m\u001b[38;5;124mstft\u001b[39m\u001b[38;5;124m'\u001b[39m)\n",
      "File \u001b[1;32mc:\\Users\\herna\\anaconda3\\envs\\Tesis\\lib\\site-packages\\scipy\\signal\\_spectral_py.py:1917\u001b[0m, in \u001b[0;36m_spectral_helper\u001b[1;34m(x, y, fs, window, nperseg, noverlap, nfft, detrend, return_onesided, scaling, axis, mode, boundary, padded)\u001b[0m\n\u001b[0;32m   1914\u001b[0m     freqs \u001b[38;5;241m=\u001b[39m sp_fft\u001b[38;5;241m.\u001b[39mrfftfreq(nfft, \u001b[38;5;241m1\u001b[39m\u001b[38;5;241m/\u001b[39mfs)\n\u001b[0;32m   1916\u001b[0m \u001b[38;5;66;03m# Perform the windowed FFTs\u001b[39;00m\n\u001b[1;32m-> 1917\u001b[0m result \u001b[38;5;241m=\u001b[39m \u001b[43m_fft_helper\u001b[49m\u001b[43m(\u001b[49m\u001b[43mx\u001b[49m\u001b[43m,\u001b[49m\u001b[43m \u001b[49m\u001b[43mwin\u001b[49m\u001b[43m,\u001b[49m\u001b[43m \u001b[49m\u001b[43mdetrend_func\u001b[49m\u001b[43m,\u001b[49m\u001b[43m \u001b[49m\u001b[43mnperseg\u001b[49m\u001b[43m,\u001b[49m\u001b[43m \u001b[49m\u001b[43mnoverlap\u001b[49m\u001b[43m,\u001b[49m\u001b[43m \u001b[49m\u001b[43mnfft\u001b[49m\u001b[43m,\u001b[49m\u001b[43m \u001b[49m\u001b[43msides\u001b[49m\u001b[43m)\u001b[49m\n\u001b[0;32m   1919\u001b[0m \u001b[38;5;28;01mif\u001b[39;00m \u001b[38;5;129;01mnot\u001b[39;00m same_data:\n\u001b[0;32m   1920\u001b[0m     \u001b[38;5;66;03m# All the same operations on the y data\u001b[39;00m\n\u001b[0;32m   1921\u001b[0m     result_y \u001b[38;5;241m=\u001b[39m _fft_helper(y, win, detrend_func, nperseg, noverlap, nfft,\n\u001b[0;32m   1922\u001b[0m                            sides)\n",
      "File \u001b[1;32mc:\\Users\\herna\\anaconda3\\envs\\Tesis\\lib\\site-packages\\scipy\\signal\\_spectral_py.py:1991\u001b[0m, in \u001b[0;36m_fft_helper\u001b[1;34m(x, win, detrend_func, nperseg, noverlap, nfft, sides)\u001b[0m\n\u001b[0;32m   1987\u001b[0m     result \u001b[38;5;241m=\u001b[39m np\u001b[38;5;241m.\u001b[39mlib\u001b[38;5;241m.\u001b[39mstride_tricks\u001b[38;5;241m.\u001b[39mas_strided(x, shape\u001b[38;5;241m=\u001b[39mshape,\n\u001b[0;32m   1988\u001b[0m                                              strides\u001b[38;5;241m=\u001b[39mstrides)\n\u001b[0;32m   1990\u001b[0m \u001b[38;5;66;03m# Detrend each data segment individually\u001b[39;00m\n\u001b[1;32m-> 1991\u001b[0m result \u001b[38;5;241m=\u001b[39m \u001b[43mdetrend_func\u001b[49m\u001b[43m(\u001b[49m\u001b[43mresult\u001b[49m\u001b[43m)\u001b[49m\n\u001b[0;32m   1993\u001b[0m \u001b[38;5;66;03m# Apply window by multiplication\u001b[39;00m\n\u001b[0;32m   1994\u001b[0m result \u001b[38;5;241m=\u001b[39m win \u001b[38;5;241m*\u001b[39m result\n",
      "File \u001b[1;32mc:\\Users\\herna\\anaconda3\\envs\\Tesis\\lib\\site-packages\\scipy\\signal\\_spectral_py.py:1871\u001b[0m, in \u001b[0;36m_spectral_helper.<locals>.detrend_func\u001b[1;34m(d)\u001b[0m\n\u001b[0;32m   1870\u001b[0m \u001b[38;5;28;01mdef\u001b[39;00m \u001b[38;5;21mdetrend_func\u001b[39m(d):\n\u001b[1;32m-> 1871\u001b[0m     \u001b[38;5;28;01mreturn\u001b[39;00m \u001b[43m_signaltools\u001b[49m\u001b[38;5;241;43m.\u001b[39;49m\u001b[43mdetrend\u001b[49m\u001b[43m(\u001b[49m\u001b[43md\u001b[49m\u001b[43m,\u001b[49m\u001b[43m \u001b[49m\u001b[38;5;28;43mtype\u001b[39;49m\u001b[38;5;241;43m=\u001b[39;49m\u001b[43mdetrend\u001b[49m\u001b[43m,\u001b[49m\u001b[43m \u001b[49m\u001b[43maxis\u001b[49m\u001b[38;5;241;43m=\u001b[39;49m\u001b[38;5;241;43m-\u001b[39;49m\u001b[38;5;241;43m1\u001b[39;49m\u001b[43m)\u001b[49m\n",
      "File \u001b[1;32mc:\\Users\\herna\\anaconda3\\envs\\Tesis\\lib\\site-packages\\scipy\\signal\\_signaltools.py:3569\u001b[0m, in \u001b[0;36mdetrend\u001b[1;34m(data, axis, type, bp, overwrite_data)\u001b[0m\n\u001b[0;32m   3567\u001b[0m     dtype \u001b[38;5;241m=\u001b[39m \u001b[38;5;124m'\u001b[39m\u001b[38;5;124md\u001b[39m\u001b[38;5;124m'\u001b[39m\n\u001b[0;32m   3568\u001b[0m \u001b[38;5;28;01mif\u001b[39;00m \u001b[38;5;28mtype\u001b[39m \u001b[38;5;129;01min\u001b[39;00m [\u001b[38;5;124m'\u001b[39m\u001b[38;5;124mconstant\u001b[39m\u001b[38;5;124m'\u001b[39m, \u001b[38;5;124m'\u001b[39m\u001b[38;5;124mc\u001b[39m\u001b[38;5;124m'\u001b[39m]:\n\u001b[1;32m-> 3569\u001b[0m     ret \u001b[38;5;241m=\u001b[39m \u001b[43mdata\u001b[49m\u001b[43m \u001b[49m\u001b[38;5;241;43m-\u001b[39;49m\u001b[43m \u001b[49m\u001b[43mnp\u001b[49m\u001b[38;5;241;43m.\u001b[39;49m\u001b[43mmean\u001b[49m\u001b[43m(\u001b[49m\u001b[43mdata\u001b[49m\u001b[43m,\u001b[49m\u001b[43m \u001b[49m\u001b[43maxis\u001b[49m\u001b[43m,\u001b[49m\u001b[43m \u001b[49m\u001b[43mkeepdims\u001b[49m\u001b[38;5;241;43m=\u001b[39;49m\u001b[38;5;28;43;01mTrue\u001b[39;49;00m\u001b[43m)\u001b[49m\n\u001b[0;32m   3570\u001b[0m     \u001b[38;5;28;01mreturn\u001b[39;00m ret\n\u001b[0;32m   3571\u001b[0m \u001b[38;5;28;01melse\u001b[39;00m:\n",
      "\u001b[1;31mMemoryError\u001b[0m: Unable to allocate 158. MiB for an array with shape (81061, 256) and data type float64"
     ]
    },
    {
     "data": {
      "text/plain": [
       "<Figure size 1000x400 with 0 Axes>"
      ]
     },
     "metadata": {},
     "output_type": "display_data"
    }
   ],
   "source": [
    "\n",
    "# Load progress\n",
    "last_wav_file_path = load_progress()\n",
    "# Generate spectrograms\n",
    "for folder_name in os.listdir(root_path):\n",
    "    folder_path = os.path.join(root_path, folder_name)\n",
    "    if os.path.isdir(folder_path):\n",
    "        print(folder_path)\n",
    "        print(last_wav_file_path)\n",
    "        if last_wav_file_path!= None and extract_numbers_from_string(folder_path) < extract_numbers_from_string(last_wav_file_path):\n",
    "            continue\n",
    "        for wav_file_path in glob.glob(os.path.join(folder_path, 'preprocessed*.wav')):\n",
    "             # Extract the audio file name without extension\n",
    "            audio_file_name = os.path.splitext(os.path.basename(wav_file_path))[0]\n",
    "            print(f'Generating spectrogram for: {wav_file_path}')\n",
    "            # Save progress\n",
    "            #save_progress(folder_path)\n",
    "            \n",
    "            # load data\n",
    "            rate, data = wavfile.read(wav_file_path)\n",
    "            \n",
    "            # Generate spectrogram\n",
    "            spectrogram_save_path = f\"spectrogram_{audio_file_name}.jpg\"\n",
    "            resized_spectrogram_save_path = os.path.join(folder_path, f\"resized_spectrogram_{audio_file_name}.jpg\")\n",
    "            generate_spectrogram(data, rate,  os.path.join(folder_path,spectrogram_save_path), resized_spectrogram_save_path)\n",
    "            \n",
    "            # Delete original spectrogram\n",
    "            #os.remove(spectrogram_save_path)"
   ]
  }
 ],
 "metadata": {
  "kernelspec": {
   "display_name": ".venv",
   "language": "python",
   "name": "python3"
  },
  "language_info": {
   "codemirror_mode": {
    "name": "ipython",
    "version": 3
   },
   "file_extension": ".py",
   "mimetype": "text/x-python",
   "name": "python",
   "nbconvert_exporter": "python",
   "pygments_lexer": "ipython3",
   "version": "3.9.18"
  }
 },
 "nbformat": 4,
 "nbformat_minor": 2
}
