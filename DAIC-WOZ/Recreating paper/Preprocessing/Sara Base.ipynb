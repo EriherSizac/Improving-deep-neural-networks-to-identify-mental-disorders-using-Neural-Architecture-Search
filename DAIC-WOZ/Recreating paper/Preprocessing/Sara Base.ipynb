{
 "cells": [
  {
   "cell_type": "markdown",
   "metadata": {},
   "source": [
    "# The median of an ordered set is an element such that the number of elements less than the median is within one of the number that are greater, assuming no ties.\n",
    "\n",
    "#### A) Write an algorithm to find the median of three distinct integers $a$, $b$ and $c$."
   ]
  },
  {
   "cell_type": "code",
   "execution_count": 3,
   "metadata": {},
   "outputs": [
    {
     "name": "stdout",
     "output_type": "stream",
     "text": [
      "Median: 8\n"
     ]
    }
   ],
   "source": [
    "def median_of_three(a, b, c):\n",
    "    if a < b:\n",
    "        if b < c:\n",
    "            return b\n",
    "        elif a < c:\n",
    "            return c\n",
    "        else:\n",
    "            return a\n",
    "    else:\n",
    "        if a < c:\n",
    "            return a\n",
    "        elif b < c:\n",
    "            return c\n",
    "        else:\n",
    "            return b\n",
    "\n",
    "# Example usage:\n",
    "a = 10\n",
    "b = 5\n",
    "c = 8\n",
    "print(\"Median:\", median_of_three(a, b, c))\n"
   ]
  },
  {
   "cell_type": "markdown",
   "metadata": {},
   "source": [
    "#### B) Describe D, the set of inputs for your algorithm.\n",
    "\n",
    "Let D be an array containing 3 entries (different integers $a$, $b$ and $c$) in no particular order.\n",
    "\n",
    "\n",
    "#### C) How many comparisons does your algorithm do in the worst case? On the average?\n",
    "\n",
    "Worst-case: 3 comparisons. This occurs when the numbers are sorted (e.g., $a < b < c or c < b < a$). Each branch of the if statements requires one comparison, leading to a total of 3.\n",
    "Average-case: 2 comparisons. In half of the cases, the median is identified after the first comparison ($a < b or b < a$). In the other half, two comparisons are required.\n",
    "\n",
    "#### D) How many comparisons are necessary in the worst case to find the median of three numbers? Justify your answer.\n",
    "\n",
    "The worst-case scenario for finding the median of three numbers is 3 comparisons. This is because there are three possible cases: the median is the first number $a$, the median is the last number $c$, or the median is in the middle (letter $b$). In each case, it is needed to compare every pair of numbers to determine the median. This worst-case scenario can be proved by considering all possible combinations of three distinct numbers and analyzing the number of comparisons needed for each case.\n"
   ]
  },
  {
   "cell_type": "markdown",
   "metadata": {},
   "source": [
    "# Given the polynomial $p(x)=a_nx^n+a_{n-1}x^{n-1}+\\dots+a_1x+a_0$, suppose the following algorithm is used to evaluate it:"
   ]
  },
  {
   "cell_type": "code",
   "execution_count": 4,
   "metadata": {},
   "outputs": [
    {
     "ename": "SyntaxError",
     "evalue": "invalid syntax. Maybe you meant '==' or ':=' instead of '='? (3329414582.py, line 3)",
     "output_type": "error",
     "traceback": [
      "\u001b[1;36m  Cell \u001b[1;32mIn[4], line 3\u001b[1;36m\u001b[0m\n\u001b[1;33m    for(i = 1; i<= n; i++):\u001b[0m\n\u001b[1;37m        ^\u001b[0m\n\u001b[1;31mSyntaxError\u001b[0m\u001b[1;31m:\u001b[0m invalid syntax. Maybe you meant '==' or ':=' instead of '='?\n"
     ]
    }
   ],
   "source": [
    "p = a[0];\n",
    "x_power = 1;\n",
    "for(i = 1; i<= n; i++):\n",
    "x_power = x * x_power;\n",
    "p = p + a[i] * x_power;"
   ]
  },
  {
   "cell_type": "markdown",
   "metadata": {},
   "source": [
    "#### How many multiplications are done in the worst case? How many additions?\n",
    "\n",
    "In the worst case scenario, the loop iterates n times. And in each iteration there is two multiplicacions and one addition. Thus, in the worst case there are $2n$ multiplicacions and $n$ additions."
   ]
  },
  {
   "cell_type": "markdown",
   "metadata": {},
   "source": [
    "#### How many multiplications are done on the average?\n",
    "\n",
    "The average case analysis depends on the distribution of the coefficients $a_1$ and the value of $x$. If $x$ and all coefficients $a_i$ are randomly distributed, the average number of multiplications and additions can be calculated based on the expected number of iterations. On average, each coefficient $a_i$ is multiplied by $x$ and $a_i$ uniformly distributed, we can expect $x$​ raised to a power $i$ to be approximately $x^{(n/2)}$ in average. This is because some terms will contribute more significantly to the final result than others. Therefore, on average, the loop will iterate n times and there will be $2n$ multiplications and $n$ additions.\n"
   ]
  },
  {
   "cell_type": "markdown",
   "metadata": {},
   "source": [
    "#### Can you improve on this algorithm?\n",
    "\n",
    "The following piece of code improves the algorithm by ommiting one assigment and evaluates the polynomial iteratively from the highest degree term to the lowest term factoring out $x$ at each step."
   ]
  },
  {
   "cell_type": "code",
   "execution_count": null,
   "metadata": {},
   "outputs": [],
   "source": [
    "p = a[n];\n",
    "for (i = n-1; i >= 0; i--)\n",
    "    p = p * x + a[i];"
   ]
  }
 ],
 "metadata": {
  "kernelspec": {
   "display_name": ".venv",
   "language": "python",
   "name": "python3"
  },
  "language_info": {
   "codemirror_mode": {
    "name": "ipython",
    "version": 3
   },
   "file_extension": ".py",
   "mimetype": "text/x-python",
   "name": "python",
   "nbconvert_exporter": "python",
   "pygments_lexer": "ipython3",
   "version": "3.10.4"
  }
 },
 "nbformat": 4,
 "nbformat_minor": 2
}
