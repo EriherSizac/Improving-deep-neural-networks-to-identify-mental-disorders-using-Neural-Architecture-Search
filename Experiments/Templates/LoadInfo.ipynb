{
 "cells": [
  {
   "cell_type": "code",
   "execution_count": null,
   "metadata": {},
   "outputs": [],
   "source": [
    "def load_data(filename):\n",
    "    \"\"\"\n",
    "    Load data from a pickle file.\n",
    "\n",
    "    Args:\n",
    "        filename (str): The path to the pickle file.\n",
    "\n",
    "    Returns:\n",
    "        dict: The loaded data dictionary.\n",
    "    \"\"\"\n",
    "    with open(filename, 'rb') as file:\n",
    "        data_dict_loaded = pickle.load(file)\n",
    "    return data_dict_loaded\n",
    "\n"
   ]
  },
  {
   "cell_type": "code",
   "execution_count": null,
   "metadata": {},
   "outputs": [],
   "source": [
    "filename = \"\"\n",
    "data_dict_loaded = load_data(filename)\n",
    "data_dict_loaded"
   ]
  }
 ],
 "metadata": {
  "language_info": {
   "name": "python"
  }
 },
 "nbformat": 4,
 "nbformat_minor": 2
}
